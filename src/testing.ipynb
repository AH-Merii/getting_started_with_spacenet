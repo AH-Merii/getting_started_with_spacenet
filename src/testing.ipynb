{
 "metadata": {
  "language_info": {
   "codemirror_mode": {
    "name": "ipython",
    "version": 3
   },
   "file_extension": ".py",
   "mimetype": "text/x-python",
   "name": "python",
   "nbconvert_exporter": "python",
   "pygments_lexer": "ipython3",
   "version": "3.8.6-final"
  },
  "orig_nbformat": 2,
  "kernelspec": {
   "name": "Python 3.8.6 64-bit ('sat': conda)",
   "display_name": "Python 3.8.6 64-bit ('sat': conda)",
   "metadata": {
    "interpreter": {
     "hash": "108d67213fc14fc08af4af35774a397568e47a78309f5047434e68fc91b95d56"
    }
   }
  }
 },
 "nbformat": 4,
 "nbformat_minor": 2,
 "cells": [
  {
   "cell_type": "code",
   "execution_count": 4,
   "metadata": {},
   "outputs": [
    {
     "output_type": "stream",
     "name": "stdout",
     "text": [
      "import complete\n"
     ]
    }
   ],
   "source": [
    "import geopandas as gpd\n",
    "import numpy as np\n",
    "import plotly.express as px\n",
    "from pathlib import Path\n",
    "from pprint import pprint\n",
    "import matplotlib.pyplot as plt\n",
    "import matplotlib as mpl\n",
    "from geoplot import polyplot as gplot\n",
    "import rasterio\n",
    "from tqdm import tqdm\n",
    "import re\n",
    "import pandas as pd\n",
    "print('import complete')"
   ]
  },
  {
   "cell_type": "code",
   "execution_count": 5,
   "metadata": {},
   "outputs": [],
   "source": [
    "%matplotlib inline"
   ]
  },
  {
   "cell_type": "code",
   "execution_count": 6,
   "metadata": {},
   "outputs": [],
   "source": [
    "dpi = 300\n",
    "mpl.rcParams['figure.dpi']= dpi"
   ]
  },
  {
   "cell_type": "code",
   "execution_count": 7,
   "metadata": {},
   "outputs": [
    {
     "output_type": "execute_result",
     "data": {
      "text/plain": [
       "PosixPath('/home/ahm/Datascience/Satellite Imagery Detection/getting_started_with_spacenet')"
      ]
     },
     "metadata": {},
     "execution_count": 7
    }
   ],
   "source": [
    "Path.cwd()"
   ]
  },
  {
   "cell_type": "code",
   "execution_count": 8,
   "metadata": {},
   "outputs": [],
   "source": [
    "root = '/home/ahm/Datascience/Satellite Imagery Detection/getting_started_with_spacenet/processedBuildingLabels'"
   ]
  },
  {
   "cell_type": "code",
   "execution_count": 9,
   "metadata": {},
   "outputs": [],
   "source": [
    "b3 = sorted([path for path in Path(root/Path('3band')).iterdir()])\n",
    "b8 = sorted([path for path in Path(root/Path('8band')).iterdir()])\n",
    "vect = sorted([path for path in Path(root/Path('vectordata/geojson')).iterdir()])\n",
    "csv = [path for path in Path(root/Path('vectordata/summarydata')).iterdir()]"
   ]
  },
  {
   "cell_type": "code",
   "execution_count": 10,
   "metadata": {},
   "outputs": [
    {
     "output_type": "execute_result",
     "data": {
      "text/plain": [
       "[PosixPath('/home/ahm/Datascience/Satellite Imagery Detection/getting_started_with_spacenet/processedBuildingLabels/3band/3band_AOI_1_RIO_img1.tif'),\n",
       " PosixPath('/home/ahm/Datascience/Satellite Imagery Detection/getting_started_with_spacenet/processedBuildingLabels/3band/3band_AOI_1_RIO_img10.tif'),\n",
       " PosixPath('/home/ahm/Datascience/Satellite Imagery Detection/getting_started_with_spacenet/processedBuildingLabels/3band/3band_AOI_1_RIO_img100.tif'),\n",
       " PosixPath('/home/ahm/Datascience/Satellite Imagery Detection/getting_started_with_spacenet/processedBuildingLabels/3band/3band_AOI_1_RIO_img1000.tif'),\n",
       " PosixPath('/home/ahm/Datascience/Satellite Imagery Detection/getting_started_with_spacenet/processedBuildingLabels/3band/3band_AOI_1_RIO_img1001.tif')]"
      ]
     },
     "metadata": {},
     "execution_count": 10
    }
   ],
   "source": [
    "b3[0:5]"
   ]
  },
  {
   "cell_type": "code",
   "execution_count": 11,
   "metadata": {},
   "outputs": [
    {
     "output_type": "execute_result",
     "data": {
      "text/plain": [
       "[PosixPath('/home/ahm/Datascience/Satellite Imagery Detection/getting_started_with_spacenet/processedBuildingLabels/8band/8band_AOI_1_RIO_img1.tif'),\n",
       " PosixPath('/home/ahm/Datascience/Satellite Imagery Detection/getting_started_with_spacenet/processedBuildingLabels/8band/8band_AOI_1_RIO_img10.tif'),\n",
       " PosixPath('/home/ahm/Datascience/Satellite Imagery Detection/getting_started_with_spacenet/processedBuildingLabels/8band/8band_AOI_1_RIO_img100.tif'),\n",
       " PosixPath('/home/ahm/Datascience/Satellite Imagery Detection/getting_started_with_spacenet/processedBuildingLabels/8band/8band_AOI_1_RIO_img1000.tif'),\n",
       " PosixPath('/home/ahm/Datascience/Satellite Imagery Detection/getting_started_with_spacenet/processedBuildingLabels/8band/8band_AOI_1_RIO_img1001.tif')]"
      ]
     },
     "metadata": {},
     "execution_count": 11
    }
   ],
   "source": [
    "b8[0:5]"
   ]
  },
  {
   "cell_type": "code",
   "execution_count": 12,
   "metadata": {},
   "outputs": [
    {
     "output_type": "execute_result",
     "data": {
      "text/plain": [
       "[PosixPath('/home/ahm/Datascience/Satellite Imagery Detection/getting_started_with_spacenet/processedBuildingLabels/vectordata/geojson/Geo_AOI_1_RIO_img1.geojson'),\n",
       " PosixPath('/home/ahm/Datascience/Satellite Imagery Detection/getting_started_with_spacenet/processedBuildingLabels/vectordata/geojson/Geo_AOI_1_RIO_img10.geojson'),\n",
       " PosixPath('/home/ahm/Datascience/Satellite Imagery Detection/getting_started_with_spacenet/processedBuildingLabels/vectordata/geojson/Geo_AOI_1_RIO_img100.geojson'),\n",
       " PosixPath('/home/ahm/Datascience/Satellite Imagery Detection/getting_started_with_spacenet/processedBuildingLabels/vectordata/geojson/Geo_AOI_1_RIO_img1000.geojson'),\n",
       " PosixPath('/home/ahm/Datascience/Satellite Imagery Detection/getting_started_with_spacenet/processedBuildingLabels/vectordata/geojson/Geo_AOI_1_RIO_img1001.geojson')]"
      ]
     },
     "metadata": {},
     "execution_count": 12
    }
   ],
   "source": [
    "vect[0:5]"
   ]
  },
  {
   "cell_type": "code",
   "execution_count": 13,
   "metadata": {},
   "outputs": [],
   "source": [
    "gdf = gpd.read_file(str(vect[0]))"
   ]
  },
  {
   "cell_type": "code",
   "execution_count": 22,
   "metadata": {},
   "outputs": [],
   "source": [
    "def get_geodataframes(paths:list):\n",
    "    geodataframes = {'path':[],'image_number':[]}\n",
    "\n",
    "    pattern = r'img(\\d+)'\n",
    "\n",
    "    for path in tqdm(paths):\n",
    "        geodataframes['image_number'].append(re.findall(pattern=pattern,string=str(path))[0])\n",
    "        geodataframes['path'].append(path)\n",
    "\n",
    "    df = pd.DataFrame(geodataframes)\n",
    "    # change type of image_number and sort df\n",
    "    df['image_number'] = df['image_number'].astype(int) \n",
    "    df.sort_values(by=['image_number'], inplace=True)\n",
    "    df.reset_index(drop=True,inplace=True)\n",
    "    \n",
    "    return df\n"
   ]
  },
  {
   "cell_type": "code",
   "execution_count": 23,
   "metadata": {},
   "outputs": [],
   "source": [
    "def read_geodataframes(paths:list):\n",
    "    geodataframes = []\n",
    "\n",
    "    for path in tqdm(paths):\n",
    "        geodataframes.append(gpd.read_file(str(path)))\n",
    "    \n",
    "    return geodataframes"
   ]
  },
  {
   "cell_type": "code",
   "execution_count": 24,
   "metadata": {
    "tags": []
   },
   "outputs": [
    {
     "output_type": "stream",
     "name": "stderr",
     "text": [
      "100%|██████████| 6940/6940 [00:00<00:00, 509825.20it/s]\n"
     ]
    }
   ],
   "source": [
    "df = get_geodataframes(vect)"
   ]
  },
  {
   "cell_type": "code",
   "execution_count": 25,
   "metadata": {},
   "outputs": [
    {
     "output_type": "execute_result",
     "data": {
      "text/plain": [
       "                                                path  image_number\n",
       "0  /home/ahm/Datascience/Satellite Imagery Detect...             1\n",
       "1  /home/ahm/Datascience/Satellite Imagery Detect...             2\n",
       "2  /home/ahm/Datascience/Satellite Imagery Detect...             3\n",
       "3  /home/ahm/Datascience/Satellite Imagery Detect...             4\n",
       "4  /home/ahm/Datascience/Satellite Imagery Detect...             5"
      ],
      "text/html": "<div>\n<style scoped>\n    .dataframe tbody tr th:only-of-type {\n        vertical-align: middle;\n    }\n\n    .dataframe tbody tr th {\n        vertical-align: top;\n    }\n\n    .dataframe thead th {\n        text-align: right;\n    }\n</style>\n<table border=\"1\" class=\"dataframe\">\n  <thead>\n    <tr style=\"text-align: right;\">\n      <th></th>\n      <th>path</th>\n      <th>image_number</th>\n    </tr>\n  </thead>\n  <tbody>\n    <tr>\n      <th>0</th>\n      <td>/home/ahm/Datascience/Satellite Imagery Detect...</td>\n      <td>1</td>\n    </tr>\n    <tr>\n      <th>1</th>\n      <td>/home/ahm/Datascience/Satellite Imagery Detect...</td>\n      <td>2</td>\n    </tr>\n    <tr>\n      <th>2</th>\n      <td>/home/ahm/Datascience/Satellite Imagery Detect...</td>\n      <td>3</td>\n    </tr>\n    <tr>\n      <th>3</th>\n      <td>/home/ahm/Datascience/Satellite Imagery Detect...</td>\n      <td>4</td>\n    </tr>\n    <tr>\n      <th>4</th>\n      <td>/home/ahm/Datascience/Satellite Imagery Detect...</td>\n      <td>5</td>\n    </tr>\n  </tbody>\n</table>\n</div>"
     },
     "metadata": {},
     "execution_count": 25
    }
   ],
   "source": [
    "df.head()"
   ]
  },
  {
   "cell_type": "code",
   "execution_count": 21,
   "metadata": {},
   "outputs": [],
   "source": [
    "# geodataframes = read_geodataframes(vect)"
   ]
  },
  {
   "cell_type": "code",
   "execution_count": 76,
   "metadata": {},
   "outputs": [],
   "source": [
    "    "
   ]
  },
  {
   "cell_type": "code",
   "execution_count": null,
   "metadata": {},
   "outputs": [],
   "source": []
  }
 ]
}