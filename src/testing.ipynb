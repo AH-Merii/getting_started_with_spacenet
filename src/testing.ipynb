{
 "metadata": {
  "language_info": {
   "codemirror_mode": {
    "name": "ipython",
    "version": 3
   },
   "file_extension": ".py",
   "mimetype": "text/x-python",
   "name": "python",
   "nbconvert_exporter": "python",
   "pygments_lexer": "ipython3",
   "version": "3.8.6-final"
  },
  "orig_nbformat": 2,
  "kernelspec": {
   "name": "Python 3.8.6 64-bit ('sat': conda)",
   "display_name": "Python 3.8.6 64-bit ('sat': conda)",
   "metadata": {
    "interpreter": {
     "hash": "108d67213fc14fc08af4af35774a397568e47a78309f5047434e68fc91b95d56"
    }
   }
  }
 },
 "nbformat": 4,
 "nbformat_minor": 2,
 "cells": [
  {
   "source": [
    "## Import Libraries"
   ],
   "cell_type": "markdown",
   "metadata": {}
  },
  {
   "cell_type": "code",
   "execution_count": 1,
   "metadata": {},
   "outputs": [
    {
     "output_type": "stream",
     "name": "stdout",
     "text": [
      "import complete\n"
     ]
    }
   ],
   "source": [
    "import geoutils\n",
    "from pathlib import Path\n",
    "import pandas as pd\n",
    "import numpy as np\n",
    "import gdal\n",
    "import matplotlib as mpl\n",
    "import rasterio\n",
    "import geopandas as gpd\n",
    "print('import complete')"
   ]
  },
  {
   "source": [
    "## Configure Paths"
   ],
   "cell_type": "markdown",
   "metadata": {}
  },
  {
   "cell_type": "code",
   "execution_count": 2,
   "metadata": {},
   "outputs": [],
   "source": [
    "data_path = Path('/home/ahm/Datascience/Satellite Imagery Detection/getting_started_with_spacenet/processedBuildingLabels/data')"
   ]
  },
  {
   "source": [
    "## Plotting Settings"
   ],
   "cell_type": "markdown",
   "metadata": {}
  },
  {
   "cell_type": "code",
   "execution_count": 3,
   "metadata": {},
   "outputs": [],
   "source": [
    "%matplotlib inline"
   ]
  },
  {
   "cell_type": "code",
   "execution_count": 4,
   "metadata": {},
   "outputs": [],
   "source": [
    "dpi = 300\n",
    "mpl.rcParams['figure.dpi']= dpi"
   ]
  },
  {
   "source": [
    "## Loading Data to DataFrame"
   ],
   "cell_type": "markdown",
   "metadata": {}
  },
  {
   "cell_type": "code",
   "execution_count": 12,
   "metadata": {},
   "outputs": [],
   "source": [
    "# df = geoutils.get_dataframe_from_data(data_path=data_path)"
   ]
  },
  {
   "cell_type": "code",
   "execution_count": 14,
   "metadata": {},
   "outputs": [],
   "source": [
    "# df.head()"
   ]
  },
  {
   "cell_type": "code",
   "execution_count": 15,
   "metadata": {},
   "outputs": [],
   "source": [
    "# df['geoshape'] = df['geojson'].map(lambda x: geoutils.get_geojson_shape(x))"
   ]
  },
  {
   "cell_type": "code",
   "execution_count": 18,
   "metadata": {},
   "outputs": [],
   "source": [
    "# df.to_pickle('df')"
   ]
  },
  {
   "cell_type": "code",
   "execution_count": 19,
   "metadata": {},
   "outputs": [],
   "source": [
    "df = pd.read_pickle('df')"
   ]
  },
  {
   "cell_type": "code",
   "execution_count": 20,
   "metadata": {},
   "outputs": [
    {
     "output_type": "execute_result",
     "data": {
      "text/plain": [
       "                                               3band  \\\n",
       "0  /home/ahm/Datascience/Satellite Imagery Detect...   \n",
       "1  /home/ahm/Datascience/Satellite Imagery Detect...   \n",
       "2  /home/ahm/Datascience/Satellite Imagery Detect...   \n",
       "3  /home/ahm/Datascience/Satellite Imagery Detect...   \n",
       "4  /home/ahm/Datascience/Satellite Imagery Detect...   \n",
       "\n",
       "                                               8band  \\\n",
       "0  /home/ahm/Datascience/Satellite Imagery Detect...   \n",
       "1  /home/ahm/Datascience/Satellite Imagery Detect...   \n",
       "2  /home/ahm/Datascience/Satellite Imagery Detect...   \n",
       "3  /home/ahm/Datascience/Satellite Imagery Detect...   \n",
       "4  /home/ahm/Datascience/Satellite Imagery Detect...   \n",
       "\n",
       "                                             geojson  image_number geoshape  \n",
       "0  /home/ahm/Datascience/Satellite Imagery Detect...             1   (0, 1)  \n",
       "1  /home/ahm/Datascience/Satellite Imagery Detect...             2   (0, 1)  \n",
       "2  /home/ahm/Datascience/Satellite Imagery Detect...             3   (0, 1)  \n",
       "3  /home/ahm/Datascience/Satellite Imagery Detect...             4   (0, 1)  \n",
       "4  /home/ahm/Datascience/Satellite Imagery Detect...             5   (0, 1)  "
      ],
      "text/html": "<div>\n<style scoped>\n    .dataframe tbody tr th:only-of-type {\n        vertical-align: middle;\n    }\n\n    .dataframe tbody tr th {\n        vertical-align: top;\n    }\n\n    .dataframe thead th {\n        text-align: right;\n    }\n</style>\n<table border=\"1\" class=\"dataframe\">\n  <thead>\n    <tr style=\"text-align: right;\">\n      <th></th>\n      <th>3band</th>\n      <th>8band</th>\n      <th>geojson</th>\n      <th>image_number</th>\n      <th>geoshape</th>\n    </tr>\n  </thead>\n  <tbody>\n    <tr>\n      <th>0</th>\n      <td>/home/ahm/Datascience/Satellite Imagery Detect...</td>\n      <td>/home/ahm/Datascience/Satellite Imagery Detect...</td>\n      <td>/home/ahm/Datascience/Satellite Imagery Detect...</td>\n      <td>1</td>\n      <td>(0, 1)</td>\n    </tr>\n    <tr>\n      <th>1</th>\n      <td>/home/ahm/Datascience/Satellite Imagery Detect...</td>\n      <td>/home/ahm/Datascience/Satellite Imagery Detect...</td>\n      <td>/home/ahm/Datascience/Satellite Imagery Detect...</td>\n      <td>2</td>\n      <td>(0, 1)</td>\n    </tr>\n    <tr>\n      <th>2</th>\n      <td>/home/ahm/Datascience/Satellite Imagery Detect...</td>\n      <td>/home/ahm/Datascience/Satellite Imagery Detect...</td>\n      <td>/home/ahm/Datascience/Satellite Imagery Detect...</td>\n      <td>3</td>\n      <td>(0, 1)</td>\n    </tr>\n    <tr>\n      <th>3</th>\n      <td>/home/ahm/Datascience/Satellite Imagery Detect...</td>\n      <td>/home/ahm/Datascience/Satellite Imagery Detect...</td>\n      <td>/home/ahm/Datascience/Satellite Imagery Detect...</td>\n      <td>4</td>\n      <td>(0, 1)</td>\n    </tr>\n    <tr>\n      <th>4</th>\n      <td>/home/ahm/Datascience/Satellite Imagery Detect...</td>\n      <td>/home/ahm/Datascience/Satellite Imagery Detect...</td>\n      <td>/home/ahm/Datascience/Satellite Imagery Detect...</td>\n      <td>5</td>\n      <td>(0, 1)</td>\n    </tr>\n  </tbody>\n</table>\n</div>"
     },
     "metadata": {},
     "execution_count": 20
    }
   ],
   "source": [
    "df.head()"
   ]
  },
  {
   "cell_type": "code",
   "execution_count": 34,
   "metadata": {},
   "outputs": [],
   "source": [
    "df_geo = df[df['geoshape']!=(0,1)].reset_index(drop=True)"
   ]
  },
  {
   "cell_type": "code",
   "execution_count": 35,
   "metadata": {},
   "outputs": [
    {
     "output_type": "execute_result",
     "data": {
      "text/plain": [
       "                                               3band  \\\n",
       "0  /home/ahm/Datascience/Satellite Imagery Detect...   \n",
       "1  /home/ahm/Datascience/Satellite Imagery Detect...   \n",
       "2  /home/ahm/Datascience/Satellite Imagery Detect...   \n",
       "3  /home/ahm/Datascience/Satellite Imagery Detect...   \n",
       "4  /home/ahm/Datascience/Satellite Imagery Detect...   \n",
       "\n",
       "                                               8band  \\\n",
       "0  /home/ahm/Datascience/Satellite Imagery Detect...   \n",
       "1  /home/ahm/Datascience/Satellite Imagery Detect...   \n",
       "2  /home/ahm/Datascience/Satellite Imagery Detect...   \n",
       "3  /home/ahm/Datascience/Satellite Imagery Detect...   \n",
       "4  /home/ahm/Datascience/Satellite Imagery Detect...   \n",
       "\n",
       "                                             geojson  image_number  geoshape  \n",
       "0  /home/ahm/Datascience/Satellite Imagery Detect...            12   (5, 19)  \n",
       "1  /home/ahm/Datascience/Satellite Imagery Detect...            30   (2, 19)  \n",
       "2  /home/ahm/Datascience/Satellite Imagery Detect...            44   (1, 19)  \n",
       "3  /home/ahm/Datascience/Satellite Imagery Detect...            46  (11, 19)  \n",
       "4  /home/ahm/Datascience/Satellite Imagery Detect...            47  (15, 19)  "
      ],
      "text/html": "<div>\n<style scoped>\n    .dataframe tbody tr th:only-of-type {\n        vertical-align: middle;\n    }\n\n    .dataframe tbody tr th {\n        vertical-align: top;\n    }\n\n    .dataframe thead th {\n        text-align: right;\n    }\n</style>\n<table border=\"1\" class=\"dataframe\">\n  <thead>\n    <tr style=\"text-align: right;\">\n      <th></th>\n      <th>3band</th>\n      <th>8band</th>\n      <th>geojson</th>\n      <th>image_number</th>\n      <th>geoshape</th>\n    </tr>\n  </thead>\n  <tbody>\n    <tr>\n      <th>0</th>\n      <td>/home/ahm/Datascience/Satellite Imagery Detect...</td>\n      <td>/home/ahm/Datascience/Satellite Imagery Detect...</td>\n      <td>/home/ahm/Datascience/Satellite Imagery Detect...</td>\n      <td>12</td>\n      <td>(5, 19)</td>\n    </tr>\n    <tr>\n      <th>1</th>\n      <td>/home/ahm/Datascience/Satellite Imagery Detect...</td>\n      <td>/home/ahm/Datascience/Satellite Imagery Detect...</td>\n      <td>/home/ahm/Datascience/Satellite Imagery Detect...</td>\n      <td>30</td>\n      <td>(2, 19)</td>\n    </tr>\n    <tr>\n      <th>2</th>\n      <td>/home/ahm/Datascience/Satellite Imagery Detect...</td>\n      <td>/home/ahm/Datascience/Satellite Imagery Detect...</td>\n      <td>/home/ahm/Datascience/Satellite Imagery Detect...</td>\n      <td>44</td>\n      <td>(1, 19)</td>\n    </tr>\n    <tr>\n      <th>3</th>\n      <td>/home/ahm/Datascience/Satellite Imagery Detect...</td>\n      <td>/home/ahm/Datascience/Satellite Imagery Detect...</td>\n      <td>/home/ahm/Datascience/Satellite Imagery Detect...</td>\n      <td>46</td>\n      <td>(11, 19)</td>\n    </tr>\n    <tr>\n      <th>4</th>\n      <td>/home/ahm/Datascience/Satellite Imagery Detect...</td>\n      <td>/home/ahm/Datascience/Satellite Imagery Detect...</td>\n      <td>/home/ahm/Datascience/Satellite Imagery Detect...</td>\n      <td>47</td>\n      <td>(15, 19)</td>\n    </tr>\n  </tbody>\n</table>\n</div>"
     },
     "metadata": {},
     "execution_count": 35
    }
   ],
   "source": [
    "df_geo.head()"
   ]
  },
  {
   "source": [
    "### Percentages of images with non-empty geojson files"
   ],
   "cell_type": "markdown",
   "metadata": {}
  },
  {
   "cell_type": "code",
   "execution_count": 33,
   "metadata": {},
   "outputs": [
    {
     "output_type": "execute_result",
     "data": {
      "text/plain": [
       "62.10374639769453"
      ]
     },
     "metadata": {},
     "execution_count": 33
    }
   ],
   "source": [
    "df_geo.shape[0]/df.shape[0]*100"
   ]
  },
  {
   "source": [
    "### Reading & Plotting GeoJSON File"
   ],
   "cell_type": "markdown",
   "metadata": {}
  },
  {
   "cell_type": "code",
   "execution_count": 36,
   "metadata": {},
   "outputs": [],
   "source": [
    "g = gpd.read_file(df_geo['geojson'][0])"
   ]
  },
  {
   "cell_type": "code",
   "execution_count": 40,
   "metadata": {},
   "outputs": [
    {
     "output_type": "execute_result",
     "data": {
      "text/plain": [
       "<Geographic 2D CRS: EPSG:4326>\n",
       "Name: WGS 84\n",
       "Axis Info [ellipsoidal]:\n",
       "- Lat[north]: Geodetic latitude (degree)\n",
       "- Lon[east]: Geodetic longitude (degree)\n",
       "Area of Use:\n",
       "- name: World\n",
       "- bounds: (-180.0, -90.0, 180.0, 90.0)\n",
       "Datum: World Geodetic System 1984\n",
       "- Ellipsoid: WGS 84\n",
       "- Prime Meridian: Greenwich"
      ]
     },
     "metadata": {},
     "execution_count": 40
    }
   ],
   "source": [
    "g.crs"
   ]
  },
  {
   "cell_type": "code",
   "execution_count": null,
   "metadata": {},
   "outputs": [],
   "source": []
  }
 ]
}