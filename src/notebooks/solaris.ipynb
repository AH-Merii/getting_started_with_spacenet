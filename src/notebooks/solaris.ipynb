{
 "metadata": {
  "orig_nbformat": 2,
  "kernelspec": {
   "name": "python3",
   "display_name": "Python 3"
  }
 },
 "nbformat": 4,
 "nbformat_minor": 2,
 "cells": [
  {
   "source": [
    "## Checking Solaris Installation"
   ],
   "cell_type": "markdown",
   "metadata": {}
  },
  {
   "cell_type": "code",
   "execution_count": 1,
   "metadata": {},
   "outputs": [
    {
     "output_type": "stream",
     "name": "stderr",
     "text": [
      "/opt/conda/envs/solaris/lib/python3.7/site-packages/tensorflow/python/framework/dtypes.py:526: FutureWarning: Passing (type, 1) or '1type' as a synonym of type is deprecated; in a future version of numpy, it will be understood as (type, (1,)) / '(1,)type'.\n  _np_qint8 = np.dtype([(\"qint8\", np.int8, 1)])\n/opt/conda/envs/solaris/lib/python3.7/site-packages/tensorflow/python/framework/dtypes.py:527: FutureWarning: Passing (type, 1) or '1type' as a synonym of type is deprecated; in a future version of numpy, it will be understood as (type, (1,)) / '(1,)type'.\n  _np_quint8 = np.dtype([(\"quint8\", np.uint8, 1)])\n/opt/conda/envs/solaris/lib/python3.7/site-packages/tensorflow/python/framework/dtypes.py:528: FutureWarning: Passing (type, 1) or '1type' as a synonym of type is deprecated; in a future version of numpy, it will be understood as (type, (1,)) / '(1,)type'.\n  _np_qint16 = np.dtype([(\"qint16\", np.int16, 1)])\n/opt/conda/envs/solaris/lib/python3.7/site-packages/tensorflow/python/framework/dtypes.py:529: FutureWarning: Passing (type, 1) or '1type' as a synonym of type is deprecated; in a future version of numpy, it will be understood as (type, (1,)) / '(1,)type'.\n  _np_quint16 = np.dtype([(\"quint16\", np.uint16, 1)])\n/opt/conda/envs/solaris/lib/python3.7/site-packages/tensorflow/python/framework/dtypes.py:530: FutureWarning: Passing (type, 1) or '1type' as a synonym of type is deprecated; in a future version of numpy, it will be understood as (type, (1,)) / '(1,)type'.\n  _np_qint32 = np.dtype([(\"qint32\", np.int32, 1)])\n/opt/conda/envs/solaris/lib/python3.7/site-packages/tensorflow/python/framework/dtypes.py:535: FutureWarning: Passing (type, 1) or '1type' as a synonym of type is deprecated; in a future version of numpy, it will be understood as (type, (1,)) / '(1,)type'.\n  np_resource = np.dtype([(\"resource\", np.ubyte, 1)])\n"
     ]
    },
    {
     "output_type": "execute_result",
     "data": {
      "text/plain": [
       "'0.4.0'"
      ]
     },
     "metadata": {},
     "execution_count": 1
    }
   ],
   "source": [
    "import solaris as sol;\n",
    "sol.__version__"
   ]
  },
  {
   "source": [
    "## Listing the Data"
   ],
   "cell_type": "markdown",
   "metadata": {}
  },
  {
   "cell_type": "code",
   "execution_count": 2,
   "metadata": {},
   "outputs": [],
   "source": [
    "from pathlib import Path"
   ]
  },
  {
   "cell_type": "code",
   "execution_count": 3,
   "metadata": {},
   "outputs": [
    {
     "output_type": "error",
     "ename": "Error",
     "evalue": "Pip module debugpy is required for debugging cells. You will need to install it to debug cells.",
     "traceback": [
      "Error: Pip module debugpy is required for debugging cells. You will need to install it to debug cells.",
      "at E.promptToInstallDebugger (/home/ahm/.vscode/extensions/ms-python.python-2020.9.114305/out/client/extension.js:56:423323)",
      "at runMicrotasks (<anonymous>)",
      "at processTicksAndRejections (internal/process/task_queues.js:94:5)"
     ]
    }
   ],
   "source": [
    "# intermediate directories\n",
    "data_path = Path(Path.cwd()/'processedBuildingsLabels/data')\n",
    "labels_path = Path(data_path/'labels')\n",
    "rasters_vectors_path = Path(data_path/'rasters_vectors')\n",
    "\n",
    "# files containing rasters & vectors data\n",
    "b3 = Path(rasters_vectors_path/'3band')\n",
    "b8 = Path(rasters_vectors_path/'8band')\n",
    "geojson = Path(rasters_vectors_path/'geojson')\n",
    "\n",
    "# directory containing training and preprocessing artifacts\n",
    "artifacts_path = Path(Path.cwd()/'src/notebooks/artifacts')\n",
    "df_path = Path(artifacts_path/'dataframes/df')\n",
    "gdf_path = Path(artifacts_path/'dataframes/gdf')\n",
    "\n",
    "\n",
    "models_path = Path(artifacts_path/'models')\n",
    "xdxd_path = (Path(models_path/'xdxd'))\n",
    "\n",
    "# directory containing yaml configuration files for model training\n",
    "config_path = Path(Path.cwd()/'src/notebooks/config')\n",
    "xdxd_model_config_path = Path(config_path/'xdxd_spacenet4.yml')\n",
    "\n",
    "# directory containing inference csv\n",
    "inference_in_path = Path(Path.cwd()/'inference_in')\n",
    "\n",
    "# directory containing output csv upon inferencing\n",
    "inference_out_path = Path(Path.cwd()/'inference_out')\n"
   ]
  },
  {
   "cell_type": "code",
   "execution_count": 4,
   "metadata": {},
   "outputs": [],
   "source": [
    "import pandas as pd\n",
    "import geopandas as gpd"
   ]
  },
  {
   "cell_type": "code",
   "execution_count": 35,
   "metadata": {},
   "outputs": [
    {
     "output_type": "execute_result",
     "data": {
      "text/plain": [
       "                                               3band  \\\n",
       "0  processedBuildingLabels/data/rasters_vectors/3...   \n",
       "1  processedBuildingLabels/data/rasters_vectors/3...   \n",
       "2  processedBuildingLabels/data/rasters_vectors/3...   \n",
       "3  processedBuildingLabels/data/rasters_vectors/3...   \n",
       "4  processedBuildingLabels/data/rasters_vectors/3...   \n",
       "\n",
       "                                               8band  \\\n",
       "0  processedBuildingLabels/data/rasters_vectors/8...   \n",
       "1  processedBuildingLabels/data/rasters_vectors/8...   \n",
       "2  processedBuildingLabels/data/rasters_vectors/8...   \n",
       "3  processedBuildingLabels/data/rasters_vectors/8...   \n",
       "4  processedBuildingLabels/data/rasters_vectors/8...   \n",
       "\n",
       "                                             geojson  image_number  \\\n",
       "0  processedBuildingLabels/data/rasters_vectors/g...             1   \n",
       "1  processedBuildingLabels/data/rasters_vectors/g...             2   \n",
       "2  processedBuildingLabels/data/rasters_vectors/g...             3   \n",
       "3  processedBuildingLabels/data/rasters_vectors/g...             4   \n",
       "4  processedBuildingLabels/data/rasters_vectors/g...             5   \n",
       "\n",
       "  geo_extension raster_extension_3 raster_extension_8 geoshape  \n",
       "0       geojson                tif                tif   (0, 1)  \n",
       "1       geojson                tif                tif   (0, 1)  \n",
       "2       geojson                tif                tif   (0, 1)  \n",
       "3       geojson                tif                tif   (0, 1)  \n",
       "4       geojson                tif                tif   (0, 1)  "
      ],
      "text/html": "<div>\n<style scoped>\n    .dataframe tbody tr th:only-of-type {\n        vertical-align: middle;\n    }\n\n    .dataframe tbody tr th {\n        vertical-align: top;\n    }\n\n    .dataframe thead th {\n        text-align: right;\n    }\n</style>\n<table border=\"1\" class=\"dataframe\">\n  <thead>\n    <tr style=\"text-align: right;\">\n      <th></th>\n      <th>3band</th>\n      <th>8band</th>\n      <th>geojson</th>\n      <th>image_number</th>\n      <th>geo_extension</th>\n      <th>raster_extension_3</th>\n      <th>raster_extension_8</th>\n      <th>geoshape</th>\n    </tr>\n  </thead>\n  <tbody>\n    <tr>\n      <th>0</th>\n      <td>processedBuildingLabels/data/rasters_vectors/3...</td>\n      <td>processedBuildingLabels/data/rasters_vectors/8...</td>\n      <td>processedBuildingLabels/data/rasters_vectors/g...</td>\n      <td>1</td>\n      <td>geojson</td>\n      <td>tif</td>\n      <td>tif</td>\n      <td>(0, 1)</td>\n    </tr>\n    <tr>\n      <th>1</th>\n      <td>processedBuildingLabels/data/rasters_vectors/3...</td>\n      <td>processedBuildingLabels/data/rasters_vectors/8...</td>\n      <td>processedBuildingLabels/data/rasters_vectors/g...</td>\n      <td>2</td>\n      <td>geojson</td>\n      <td>tif</td>\n      <td>tif</td>\n      <td>(0, 1)</td>\n    </tr>\n    <tr>\n      <th>2</th>\n      <td>processedBuildingLabels/data/rasters_vectors/3...</td>\n      <td>processedBuildingLabels/data/rasters_vectors/8...</td>\n      <td>processedBuildingLabels/data/rasters_vectors/g...</td>\n      <td>3</td>\n      <td>geojson</td>\n      <td>tif</td>\n      <td>tif</td>\n      <td>(0, 1)</td>\n    </tr>\n    <tr>\n      <th>3</th>\n      <td>processedBuildingLabels/data/rasters_vectors/3...</td>\n      <td>processedBuildingLabels/data/rasters_vectors/8...</td>\n      <td>processedBuildingLabels/data/rasters_vectors/g...</td>\n      <td>4</td>\n      <td>geojson</td>\n      <td>tif</td>\n      <td>tif</td>\n      <td>(0, 1)</td>\n    </tr>\n    <tr>\n      <th>4</th>\n      <td>processedBuildingLabels/data/rasters_vectors/3...</td>\n      <td>processedBuildingLabels/data/rasters_vectors/8...</td>\n      <td>processedBuildingLabels/data/rasters_vectors/g...</td>\n      <td>5</td>\n      <td>geojson</td>\n      <td>tif</td>\n      <td>tif</td>\n      <td>(0, 1)</td>\n    </tr>\n  </tbody>\n</table>\n</div>"
     },
     "metadata": {},
     "execution_count": 35
    }
   ],
   "source": [
    "df = pd.read_pickle(df_path)\n",
    "df.head()"
   ]
  },
  {
   "cell_type": "code",
   "execution_count": 36,
   "metadata": {},
   "outputs": [
    {
     "output_type": "execute_result",
     "data": {
      "text/plain": [
       "                                               3band  \\\n",
       "0  processedBuildingLabels/data/rasters_vectors/3...   \n",
       "1  processedBuildingLabels/data/rasters_vectors/3...   \n",
       "2  processedBuildingLabels/data/rasters_vectors/3...   \n",
       "3  processedBuildingLabels/data/rasters_vectors/3...   \n",
       "4  processedBuildingLabels/data/rasters_vectors/3...   \n",
       "\n",
       "                                               8band  \\\n",
       "0  processedBuildingLabels/data/rasters_vectors/8...   \n",
       "1  processedBuildingLabels/data/rasters_vectors/8...   \n",
       "2  processedBuildingLabels/data/rasters_vectors/8...   \n",
       "3  processedBuildingLabels/data/rasters_vectors/8...   \n",
       "4  processedBuildingLabels/data/rasters_vectors/8...   \n",
       "\n",
       "                                             geojson  image_number  \\\n",
       "0  processedBuildingLabels/data/rasters_vectors/g...            12   \n",
       "1  processedBuildingLabels/data/rasters_vectors/g...            30   \n",
       "2  processedBuildingLabels/data/rasters_vectors/g...            44   \n",
       "3  processedBuildingLabels/data/rasters_vectors/g...            46   \n",
       "4  processedBuildingLabels/data/rasters_vectors/g...            47   \n",
       "\n",
       "  geo_extension raster_extension_3 raster_extension_8  geoshape  \n",
       "0       geojson                tif                tif   (5, 19)  \n",
       "1       geojson                tif                tif   (2, 19)  \n",
       "2       geojson                tif                tif   (1, 19)  \n",
       "3       geojson                tif                tif  (11, 19)  \n",
       "4       geojson                tif                tif  (15, 19)  "
      ],
      "text/html": "<div>\n<style scoped>\n    .dataframe tbody tr th:only-of-type {\n        vertical-align: middle;\n    }\n\n    .dataframe tbody tr th {\n        vertical-align: top;\n    }\n\n    .dataframe thead th {\n        text-align: right;\n    }\n</style>\n<table border=\"1\" class=\"dataframe\">\n  <thead>\n    <tr style=\"text-align: right;\">\n      <th></th>\n      <th>3band</th>\n      <th>8band</th>\n      <th>geojson</th>\n      <th>image_number</th>\n      <th>geo_extension</th>\n      <th>raster_extension_3</th>\n      <th>raster_extension_8</th>\n      <th>geoshape</th>\n    </tr>\n  </thead>\n  <tbody>\n    <tr>\n      <th>0</th>\n      <td>processedBuildingLabels/data/rasters_vectors/3...</td>\n      <td>processedBuildingLabels/data/rasters_vectors/8...</td>\n      <td>processedBuildingLabels/data/rasters_vectors/g...</td>\n      <td>12</td>\n      <td>geojson</td>\n      <td>tif</td>\n      <td>tif</td>\n      <td>(5, 19)</td>\n    </tr>\n    <tr>\n      <th>1</th>\n      <td>processedBuildingLabels/data/rasters_vectors/3...</td>\n      <td>processedBuildingLabels/data/rasters_vectors/8...</td>\n      <td>processedBuildingLabels/data/rasters_vectors/g...</td>\n      <td>30</td>\n      <td>geojson</td>\n      <td>tif</td>\n      <td>tif</td>\n      <td>(2, 19)</td>\n    </tr>\n    <tr>\n      <th>2</th>\n      <td>processedBuildingLabels/data/rasters_vectors/3...</td>\n      <td>processedBuildingLabels/data/rasters_vectors/8...</td>\n      <td>processedBuildingLabels/data/rasters_vectors/g...</td>\n      <td>44</td>\n      <td>geojson</td>\n      <td>tif</td>\n      <td>tif</td>\n      <td>(1, 19)</td>\n    </tr>\n    <tr>\n      <th>3</th>\n      <td>processedBuildingLabels/data/rasters_vectors/3...</td>\n      <td>processedBuildingLabels/data/rasters_vectors/8...</td>\n      <td>processedBuildingLabels/data/rasters_vectors/g...</td>\n      <td>46</td>\n      <td>geojson</td>\n      <td>tif</td>\n      <td>tif</td>\n      <td>(11, 19)</td>\n    </tr>\n    <tr>\n      <th>4</th>\n      <td>processedBuildingLabels/data/rasters_vectors/3...</td>\n      <td>processedBuildingLabels/data/rasters_vectors/8...</td>\n      <td>processedBuildingLabels/data/rasters_vectors/g...</td>\n      <td>47</td>\n      <td>geojson</td>\n      <td>tif</td>\n      <td>tif</td>\n      <td>(15, 19)</td>\n    </tr>\n  </tbody>\n</table>\n</div>"
     },
     "metadata": {},
     "execution_count": 36
    }
   ],
   "source": [
    "gdf = pd.read_pickle(gdf_path)\n",
    "gdf.head()"
   ]
  },
  {
   "source": [
    "## Creating the csv for desired inference data"
   ],
   "cell_type": "markdown",
   "metadata": {}
  },
  {
   "cell_type": "code",
   "execution_count": 55,
   "metadata": {},
   "outputs": [],
   "source": [
    "inference_df = gdf['3band'][0:10]\n",
    "# Change name of series for configuration purposes\n",
    "inference_df.name = 'image'\n",
    "# Save data as csv\n",
    "inference_df.to_csv(Path(inference_in_path/'infer.csv'))\n",
    "# Path to infer csv\n",
    "infer_csv = Path(inference_in_path/'infer.csv')"
   ]
  },
  {
   "source": [
    "## Getting pretrained model ready"
   ],
   "cell_type": "markdown",
   "metadata": {}
  },
  {
   "cell_type": "code",
   "execution_count": 7,
   "metadata": {},
   "outputs": [
    {
     "output_type": "execute_result",
     "data": {
      "text/plain": [
       "{'model_name': 'xdxd_spacenet4',\n",
       " 'model_path': None,\n",
       " 'train': False,\n",
       " 'infer': True,\n",
       " 'pretrained': True,\n",
       " 'nn_framework': 'torch',\n",
       " 'batch_size': 12,\n",
       " 'data_specs': {'width': 512,\n",
       "  'height': 512,\n",
       "  'dtype': None,\n",
       "  'image_type': 'zscore',\n",
       "  'rescale': False,\n",
       "  'rescale_minima': 'auto',\n",
       "  'rescale_maxima': 'auto',\n",
       "  'channels': 4,\n",
       "  'label_type': 'mask',\n",
       "  'is_categorical': False,\n",
       "  'mask_channels': 1,\n",
       "  'val_holdout_frac': 0.2,\n",
       "  'data_workers': None},\n",
       " 'training_data_csv': '/path/to/training_df.csv',\n",
       " 'validation_data_csv': None,\n",
       " 'inference_data_csv': '/path/to/test_df.csv',\n",
       " 'training_augmentation': {'augmentations': {'DropChannel': {'idx': 3,\n",
       "    'axis': 2},\n",
       "   'HorizontalFlip': {'p': 0.5},\n",
       "   'RandomRotate90': {'p': 0.5},\n",
       "   'RandomCrop': {'height': 512, 'width': 512, 'p': 1.0},\n",
       "   'Normalize': {'mean': [0.006479, 0.009328, 0.01123],\n",
       "    'std': [0.004986, 0.004964, 0.00495],\n",
       "    'max_pixel_value': 65535.0,\n",
       "    'p': 1.0}},\n",
       "  'p': 1.0,\n",
       "  'shuffle': True},\n",
       " 'validation_augmentation': {'augmentations': {'DropChannel': {'idx': 3,\n",
       "    'axis': 2},\n",
       "   'CenterCrop': {'height': 512, 'width': 512, 'p': 1.0},\n",
       "   'Normalize': {'mean': [0.006479, 0.009328, 0.01123],\n",
       "    'std': [0.004986, 0.004964, 0.00495],\n",
       "    'max_pixel_value': 65535.0,\n",
       "    'p': 1.0}},\n",
       "  'p': 1.0},\n",
       " 'inference_augmentation': {'augmentations': {'DropChannel': {'idx': 3,\n",
       "    'axis': 2,\n",
       "    'p': 1.0},\n",
       "   'Normalize': {'mean': [0.006479, 0.009328, 0.01123],\n",
       "    'std': [0.004986, 0.004964, 0.00495],\n",
       "    'max_pixel_value': 65535.0,\n",
       "    'p': 1.0}},\n",
       "  'p': 1.0},\n",
       " 'training': {'epochs': 60,\n",
       "  'steps_per_epoch': None,\n",
       "  'optimizer': 'Adam',\n",
       "  'lr': 0.0001,\n",
       "  'opt_args': None,\n",
       "  'loss': {'bcewithlogits': None, 'jaccard': None},\n",
       "  'loss_weights': {'bcewithlogits': 10, 'jaccard': 2.5},\n",
       "  'metrics': {'training': None, 'validation': None},\n",
       "  'checkpoint_frequency': 10,\n",
       "  'callbacks': {'model_checkpoint': {'filepath': 'xdxd_best.pth',\n",
       "    'monitor': 'val_loss'}},\n",
       "  'model_dest_path': 'xdxd.pth',\n",
       "  'verbose': True},\n",
       " 'inference': {'window_step_size_x': None,\n",
       "  'window_step_size_y': None,\n",
       "  'output_dir': 'inference_out/'}}"
      ]
     },
     "metadata": {},
     "execution_count": 7
    }
   ],
   "source": [
    "config = sol.utils.config.parse(xdxd_model_config_path)\n",
    "config"
   ]
  },
  {
   "source": [
    "### Configure Configuration file"
   ],
   "cell_type": "markdown",
   "metadata": {}
  },
  {
   "source": [
    "#### Training Configuration"
   ],
   "cell_type": "markdown",
   "metadata": {}
  },
  {
   "cell_type": "code",
   "execution_count": 13,
   "metadata": {},
   "outputs": [
    {
     "output_type": "execute_result",
     "data": {
      "text/plain": [
       "{'epochs': 60,\n",
       " 'steps_per_epoch': None,\n",
       " 'optimizer': 'Adam',\n",
       " 'lr': 0.0001,\n",
       " 'opt_args': None,\n",
       " 'loss': {'bcewithlogits': None, 'jaccard': None},\n",
       " 'loss_weights': {'bcewithlogits': 10, 'jaccard': 2.5},\n",
       " 'metrics': {'training': None, 'validation': None},\n",
       " 'checkpoint_frequency': 10,\n",
       " 'callbacks': {'model_checkpoint': {'filepath': 'xdxd_best.pth',\n",
       "   'monitor': 'val_loss'}},\n",
       " 'model_dest_path': 'xdxd.pth',\n",
       " 'verbose': True}"
      ]
     },
     "metadata": {},
     "execution_count": 13
    }
   ],
   "source": [
    "config['training']"
   ]
  },
  {
   "cell_type": "code",
   "execution_count": 19,
   "metadata": {},
   "outputs": [
    {
     "output_type": "execute_result",
     "data": {
      "text/plain": [
       "'/home/solaris/src/notebooks/artifacts/models/xdxd'"
      ]
     },
     "metadata": {},
     "execution_count": 19
    }
   ],
   "source": [
    "config['training']['callbacks']['model_checkpoint']['filepath'] = str(xdxd_path)\n",
    "config['training']['callbacks']['model_checkpoint']['filepath']"
   ]
  },
  {
   "source": [
    "#### Inference Configuration"
   ],
   "cell_type": "markdown",
   "metadata": {}
  },
  {
   "cell_type": "code",
   "execution_count": 59,
   "metadata": {},
   "outputs": [
    {
     "output_type": "execute_result",
     "data": {
      "text/plain": [
       "'inference_in/'"
      ]
     },
     "metadata": {},
     "execution_count": 59
    }
   ],
   "source": [
    "config['inference_data_csv'] =  'inference_in/'\n",
    "config['inference_data_csv']"
   ]
  },
  {
   "source": [
    "### Load Model"
   ],
   "cell_type": "markdown",
   "metadata": {}
  },
  {
   "cell_type": "code",
   "execution_count": 20,
   "metadata": {},
   "outputs": [
    {
     "output_type": "stream",
     "name": "stderr",
     "text": [
      "Downloading: \"https://download.pytorch.org/models/vgg16-397923af.pth\" to /root/.cache/torch/hub/checkpoints/vgg16-397923af.pth\n"
     ]
    },
    {
     "output_type": "display_data",
     "data": {
      "text/plain": "HBox(children=(HTML(value=''), FloatProgress(value=0.0, max=553433881.0), HTML(value='')))",
      "application/vnd.jupyter.widget-view+json": {
       "version_major": 2,
       "version_minor": 0,
       "model_id": "ad7d88a902c741a9abb20b1393376faa"
      }
     },
     "metadata": {}
    },
    {
     "output_type": "stream",
     "name": "stdout",
     "text": [
      "\n",
      "/opt/conda/envs/solaris/lib/python3.7/site-packages/solaris/nets/model_io.py:35: UserWarning: The model weights file /opt/conda/envs/solaris/lib/python3.7/site-packages/solaris/nets/weights/xdxd_spacenet4_solaris_weights.pth was not found. Attempting to download from the SpaceNet repository.\n",
      "  warn(f'The model weights file {model_path} was not found.'\n"
     ]
    },
    {
     "output_type": "display_data",
     "data": {
      "text/plain": "HBox(children=(HTML(value=''), FloatProgress(value=0.0, max=114492.0), HTML(value='')))",
      "application/vnd.jupyter.widget-view+json": {
       "version_major": 2,
       "version_minor": 0,
       "model_id": "36c728d199c04161b9d5a90b21c7357f"
      }
     },
     "metadata": {}
    },
    {
     "output_type": "stream",
     "name": "stdout",
     "text": [
      "\n"
     ]
    },
    {
     "output_type": "execute_result",
     "data": {
      "text/plain": [
       "solaris.nets.infer.Inferer"
      ]
     },
     "metadata": {},
     "execution_count": 20
    }
   ],
   "source": [
    "xdxd_inferer = sol.nets.infer.Inferer(config)"
   ]
  },
  {
   "source": [
    "### Run inference"
   ],
   "cell_type": "markdown",
   "metadata": {}
  },
  {
   "cell_type": "code",
   "execution_count": 60,
   "metadata": {},
   "outputs": [
    {
     "output_type": "error",
     "ename": "ParserError",
     "evalue": "Error tokenizing data. C error: Calling read(nbytes) on source failed. Try engine='python'.",
     "traceback": [
      "\u001b[0;31m\u001b[0m",
      "\u001b[0;31mParserError\u001b[0mTraceback (most recent call last)",
      "\u001b[0;32m<ipython-input-60-71d6a6a2ad00>\u001b[0m in \u001b[0;36m<module>\u001b[0;34m()\u001b[0m\n\u001b[0;32m----> 1\u001b[0;31m \u001b[0minf_df\u001b[0m \u001b[0;34m=\u001b[0m \u001b[0msol\u001b[0m\u001b[0;34m.\u001b[0m\u001b[0mnets\u001b[0m\u001b[0;34m.\u001b[0m\u001b[0minfer\u001b[0m\u001b[0;34m.\u001b[0m\u001b[0mget_infer_df\u001b[0m\u001b[0;34m(\u001b[0m\u001b[0mconfig\u001b[0m\u001b[0;34m)\u001b[0m\u001b[0;34m\u001b[0m\u001b[0;34m\u001b[0m\u001b[0m\n\u001b[0m",
      "\u001b[0;32m/opt/conda/envs/solaris/lib/python3.7/site-packages/solaris/nets/infer.py\u001b[0m in \u001b[0;36mget_infer_df\u001b[0;34m(config)\u001b[0m\n\u001b[1;32m    133\u001b[0m     \"\"\"\n\u001b[1;32m    134\u001b[0m \u001b[0;34m\u001b[0m\u001b[0m\n\u001b[0;32m--> 135\u001b[0;31m     \u001b[0minfer_df\u001b[0m \u001b[0;34m=\u001b[0m \u001b[0mget_data_paths\u001b[0m\u001b[0;34m(\u001b[0m\u001b[0mconfig\u001b[0m\u001b[0;34m[\u001b[0m\u001b[0;34m'inference_data_csv'\u001b[0m\u001b[0;34m]\u001b[0m\u001b[0;34m,\u001b[0m \u001b[0minfer\u001b[0m\u001b[0;34m=\u001b[0m\u001b[0;32mTrue\u001b[0m\u001b[0;34m)\u001b[0m\u001b[0;34m\u001b[0m\u001b[0;34m\u001b[0m\u001b[0m\n\u001b[0m\u001b[1;32m    136\u001b[0m     \u001b[0;32mreturn\u001b[0m \u001b[0minfer_df\u001b[0m\u001b[0;34m\u001b[0m\u001b[0;34m\u001b[0m\u001b[0m\n",
      "\u001b[0;32m/opt/conda/envs/solaris/lib/python3.7/site-packages/solaris/utils/core.py\u001b[0m in \u001b[0;36mget_data_paths\u001b[0;34m(path, infer)\u001b[0m\n\u001b[1;32m    129\u001b[0m \u001b[0;34m\u001b[0m\u001b[0m\n\u001b[1;32m    130\u001b[0m     \"\"\"\n\u001b[0;32m--> 131\u001b[0;31m     \u001b[0mdf\u001b[0m \u001b[0;34m=\u001b[0m \u001b[0mpd\u001b[0m\u001b[0;34m.\u001b[0m\u001b[0mread_csv\u001b[0m\u001b[0;34m(\u001b[0m\u001b[0mpath\u001b[0m\u001b[0;34m)\u001b[0m\u001b[0;34m\u001b[0m\u001b[0;34m\u001b[0m\u001b[0m\n\u001b[0m\u001b[1;32m    132\u001b[0m     \u001b[0;32mif\u001b[0m \u001b[0minfer\u001b[0m\u001b[0;34m:\u001b[0m\u001b[0;34m\u001b[0m\u001b[0;34m\u001b[0m\u001b[0m\n\u001b[1;32m    133\u001b[0m         \u001b[0;32mreturn\u001b[0m \u001b[0mdf\u001b[0m\u001b[0;34m[\u001b[0m\u001b[0;34m[\u001b[0m\u001b[0;34m'image'\u001b[0m\u001b[0;34m]\u001b[0m\u001b[0;34m]\u001b[0m  \u001b[0;31m# no labels in those files\u001b[0m\u001b[0;34m\u001b[0m\u001b[0;34m\u001b[0m\u001b[0m\n",
      "\u001b[0;32m/opt/conda/envs/solaris/lib/python3.7/site-packages/pandas/io/parsers.py\u001b[0m in \u001b[0;36mread_csv\u001b[0;34m(filepath_or_buffer, sep, delimiter, header, names, index_col, usecols, squeeze, prefix, mangle_dupe_cols, dtype, engine, converters, true_values, false_values, skipinitialspace, skiprows, skipfooter, nrows, na_values, keep_default_na, na_filter, verbose, skip_blank_lines, parse_dates, infer_datetime_format, keep_date_col, date_parser, dayfirst, cache_dates, iterator, chunksize, compression, thousands, decimal, lineterminator, quotechar, quoting, doublequote, escapechar, comment, encoding, dialect, error_bad_lines, warn_bad_lines, delim_whitespace, low_memory, memory_map, float_precision)\u001b[0m\n\u001b[1;32m    684\u001b[0m     )\n\u001b[1;32m    685\u001b[0m \u001b[0;34m\u001b[0m\u001b[0m\n\u001b[0;32m--> 686\u001b[0;31m     \u001b[0;32mreturn\u001b[0m \u001b[0m_read\u001b[0m\u001b[0;34m(\u001b[0m\u001b[0mfilepath_or_buffer\u001b[0m\u001b[0;34m,\u001b[0m \u001b[0mkwds\u001b[0m\u001b[0;34m)\u001b[0m\u001b[0;34m\u001b[0m\u001b[0;34m\u001b[0m\u001b[0m\n\u001b[0m\u001b[1;32m    687\u001b[0m \u001b[0;34m\u001b[0m\u001b[0m\n\u001b[1;32m    688\u001b[0m \u001b[0;34m\u001b[0m\u001b[0m\n",
      "\u001b[0;32m/opt/conda/envs/solaris/lib/python3.7/site-packages/pandas/io/parsers.py\u001b[0m in \u001b[0;36m_read\u001b[0;34m(filepath_or_buffer, kwds)\u001b[0m\n\u001b[1;32m    450\u001b[0m \u001b[0;34m\u001b[0m\u001b[0m\n\u001b[1;32m    451\u001b[0m     \u001b[0;31m# Create the parser.\u001b[0m\u001b[0;34m\u001b[0m\u001b[0;34m\u001b[0m\u001b[0;34m\u001b[0m\u001b[0m\n\u001b[0;32m--> 452\u001b[0;31m     \u001b[0mparser\u001b[0m \u001b[0;34m=\u001b[0m \u001b[0mTextFileReader\u001b[0m\u001b[0;34m(\u001b[0m\u001b[0mfp_or_buf\u001b[0m\u001b[0;34m,\u001b[0m \u001b[0;34m**\u001b[0m\u001b[0mkwds\u001b[0m\u001b[0;34m)\u001b[0m\u001b[0;34m\u001b[0m\u001b[0;34m\u001b[0m\u001b[0m\n\u001b[0m\u001b[1;32m    453\u001b[0m \u001b[0;34m\u001b[0m\u001b[0m\n\u001b[1;32m    454\u001b[0m     \u001b[0;32mif\u001b[0m \u001b[0mchunksize\u001b[0m \u001b[0;32mor\u001b[0m \u001b[0miterator\u001b[0m\u001b[0;34m:\u001b[0m\u001b[0;34m\u001b[0m\u001b[0;34m\u001b[0m\u001b[0m\n",
      "\u001b[0;32m/opt/conda/envs/solaris/lib/python3.7/site-packages/pandas/io/parsers.py\u001b[0m in \u001b[0;36m__init__\u001b[0;34m(self, f, engine, **kwds)\u001b[0m\n\u001b[1;32m    944\u001b[0m             \u001b[0mself\u001b[0m\u001b[0;34m.\u001b[0m\u001b[0moptions\u001b[0m\u001b[0;34m[\u001b[0m\u001b[0;34m\"has_index_names\"\u001b[0m\u001b[0;34m]\u001b[0m \u001b[0;34m=\u001b[0m \u001b[0mkwds\u001b[0m\u001b[0;34m[\u001b[0m\u001b[0;34m\"has_index_names\"\u001b[0m\u001b[0;34m]\u001b[0m\u001b[0;34m\u001b[0m\u001b[0;34m\u001b[0m\u001b[0m\n\u001b[1;32m    945\u001b[0m \u001b[0;34m\u001b[0m\u001b[0m\n\u001b[0;32m--> 946\u001b[0;31m         \u001b[0mself\u001b[0m\u001b[0;34m.\u001b[0m\u001b[0m_make_engine\u001b[0m\u001b[0;34m(\u001b[0m\u001b[0mself\u001b[0m\u001b[0;34m.\u001b[0m\u001b[0mengine\u001b[0m\u001b[0;34m)\u001b[0m\u001b[0;34m\u001b[0m\u001b[0;34m\u001b[0m\u001b[0m\n\u001b[0m\u001b[1;32m    947\u001b[0m \u001b[0;34m\u001b[0m\u001b[0m\n\u001b[1;32m    948\u001b[0m     \u001b[0;32mdef\u001b[0m \u001b[0mclose\u001b[0m\u001b[0;34m(\u001b[0m\u001b[0mself\u001b[0m\u001b[0;34m)\u001b[0m\u001b[0;34m:\u001b[0m\u001b[0;34m\u001b[0m\u001b[0;34m\u001b[0m\u001b[0m\n",
      "\u001b[0;32m/opt/conda/envs/solaris/lib/python3.7/site-packages/pandas/io/parsers.py\u001b[0m in \u001b[0;36m_make_engine\u001b[0;34m(self, engine)\u001b[0m\n\u001b[1;32m   1176\u001b[0m     \u001b[0;32mdef\u001b[0m \u001b[0m_make_engine\u001b[0m\u001b[0;34m(\u001b[0m\u001b[0mself\u001b[0m\u001b[0;34m,\u001b[0m \u001b[0mengine\u001b[0m\u001b[0;34m=\u001b[0m\u001b[0;34m\"c\"\u001b[0m\u001b[0;34m)\u001b[0m\u001b[0;34m:\u001b[0m\u001b[0;34m\u001b[0m\u001b[0;34m\u001b[0m\u001b[0m\n\u001b[1;32m   1177\u001b[0m         \u001b[0;32mif\u001b[0m \u001b[0mengine\u001b[0m \u001b[0;34m==\u001b[0m \u001b[0;34m\"c\"\u001b[0m\u001b[0;34m:\u001b[0m\u001b[0;34m\u001b[0m\u001b[0;34m\u001b[0m\u001b[0m\n\u001b[0;32m-> 1178\u001b[0;31m             \u001b[0mself\u001b[0m\u001b[0;34m.\u001b[0m\u001b[0m_engine\u001b[0m \u001b[0;34m=\u001b[0m \u001b[0mCParserWrapper\u001b[0m\u001b[0;34m(\u001b[0m\u001b[0mself\u001b[0m\u001b[0;34m.\u001b[0m\u001b[0mf\u001b[0m\u001b[0;34m,\u001b[0m \u001b[0;34m**\u001b[0m\u001b[0mself\u001b[0m\u001b[0;34m.\u001b[0m\u001b[0moptions\u001b[0m\u001b[0;34m)\u001b[0m\u001b[0;34m\u001b[0m\u001b[0;34m\u001b[0m\u001b[0m\n\u001b[0m\u001b[1;32m   1179\u001b[0m         \u001b[0;32melse\u001b[0m\u001b[0;34m:\u001b[0m\u001b[0;34m\u001b[0m\u001b[0;34m\u001b[0m\u001b[0m\n\u001b[1;32m   1180\u001b[0m             \u001b[0;32mif\u001b[0m \u001b[0mengine\u001b[0m \u001b[0;34m==\u001b[0m \u001b[0;34m\"python\"\u001b[0m\u001b[0;34m:\u001b[0m\u001b[0;34m\u001b[0m\u001b[0;34m\u001b[0m\u001b[0m\n",
      "\u001b[0;32m/opt/conda/envs/solaris/lib/python3.7/site-packages/pandas/io/parsers.py\u001b[0m in \u001b[0;36m__init__\u001b[0;34m(self, src, **kwds)\u001b[0m\n\u001b[1;32m   2006\u001b[0m         \u001b[0mkwds\u001b[0m\u001b[0;34m[\u001b[0m\u001b[0;34m\"usecols\"\u001b[0m\u001b[0;34m]\u001b[0m \u001b[0;34m=\u001b[0m \u001b[0mself\u001b[0m\u001b[0;34m.\u001b[0m\u001b[0musecols\u001b[0m\u001b[0;34m\u001b[0m\u001b[0;34m\u001b[0m\u001b[0m\n\u001b[1;32m   2007\u001b[0m \u001b[0;34m\u001b[0m\u001b[0m\n\u001b[0;32m-> 2008\u001b[0;31m         \u001b[0mself\u001b[0m\u001b[0;34m.\u001b[0m\u001b[0m_reader\u001b[0m \u001b[0;34m=\u001b[0m \u001b[0mparsers\u001b[0m\u001b[0;34m.\u001b[0m\u001b[0mTextReader\u001b[0m\u001b[0;34m(\u001b[0m\u001b[0msrc\u001b[0m\u001b[0;34m,\u001b[0m \u001b[0;34m**\u001b[0m\u001b[0mkwds\u001b[0m\u001b[0;34m)\u001b[0m\u001b[0;34m\u001b[0m\u001b[0;34m\u001b[0m\u001b[0m\n\u001b[0m\u001b[1;32m   2009\u001b[0m         \u001b[0mself\u001b[0m\u001b[0;34m.\u001b[0m\u001b[0munnamed_cols\u001b[0m \u001b[0;34m=\u001b[0m \u001b[0mself\u001b[0m\u001b[0;34m.\u001b[0m\u001b[0m_reader\u001b[0m\u001b[0;34m.\u001b[0m\u001b[0munnamed_cols\u001b[0m\u001b[0;34m\u001b[0m\u001b[0;34m\u001b[0m\u001b[0m\n\u001b[1;32m   2010\u001b[0m \u001b[0;34m\u001b[0m\u001b[0m\n",
      "\u001b[0;32mpandas/_libs/parsers.pyx\u001b[0m in \u001b[0;36mpandas._libs.parsers.TextReader.__cinit__\u001b[0;34m()\u001b[0m\n",
      "\u001b[0;32mpandas/_libs/parsers.pyx\u001b[0m in \u001b[0;36mpandas._libs.parsers.TextReader._get_header\u001b[0;34m()\u001b[0m\n",
      "\u001b[0;32mpandas/_libs/parsers.pyx\u001b[0m in \u001b[0;36mpandas._libs.parsers.TextReader._tokenize_rows\u001b[0;34m()\u001b[0m\n",
      "\u001b[0;32mpandas/_libs/parsers.pyx\u001b[0m in \u001b[0;36mpandas._libs.parsers.raise_parser_error\u001b[0;34m()\u001b[0m\n",
      "\u001b[0;31mParserError\u001b[0m: Error tokenizing data. C error: Calling read(nbytes) on source failed. Try engine='python'."
     ]
    }
   ],
   "source": [
    "inf_df = sol.nets.infer.get_infer_df(config)"
   ]
  },
  {
   "cell_type": "code",
   "execution_count": 68,
   "metadata": {},
   "outputs": [
    {
     "output_type": "error",
     "ename": "IndexError",
     "evalue": "index 3 is out of bounds for axis 2 with size 3",
     "traceback": [
      "\u001b[0;31m\u001b[0m",
      "\u001b[0;31mIndexError\u001b[0mTraceback (most recent call last)",
      "\u001b[0;32m<ipython-input-68-0453a4fbcd18>\u001b[0m in \u001b[0;36m<module>\u001b[0;34m()\u001b[0m\n\u001b[0;32m----> 1\u001b[0;31m \u001b[0mxdxd_inferer\u001b[0m\u001b[0;34m(\u001b[0m\u001b[0minference_df\u001b[0m\u001b[0;34m.\u001b[0m\u001b[0mastype\u001b[0m\u001b[0;34m(\u001b[0m\u001b[0mstr\u001b[0m\u001b[0;34m)\u001b[0m\u001b[0;34m.\u001b[0m\u001b[0mto_frame\u001b[0m\u001b[0;34m(\u001b[0m\u001b[0;34m)\u001b[0m\u001b[0;34m)\u001b[0m\u001b[0;34m\u001b[0m\u001b[0;34m\u001b[0m\u001b[0m\n\u001b[0m",
      "\u001b[0;32m/opt/conda/envs/solaris/lib/python3.7/site-packages/solaris/nets/infer.py\u001b[0m in \u001b[0;36m__call__\u001b[0;34m(self, infer_df)\u001b[0m\n\u001b[1;32m     76\u001b[0m             \u001b[0mgt\u001b[0m \u001b[0;34m=\u001b[0m \u001b[0mtemp_im\u001b[0m\u001b[0;34m.\u001b[0m\u001b[0mGetGeoTransform\u001b[0m\u001b[0;34m(\u001b[0m\u001b[0;34m)\u001b[0m\u001b[0;34m\u001b[0m\u001b[0;34m\u001b[0m\u001b[0m\n\u001b[1;32m     77\u001b[0m             inf_input, idx_refs, (\n\u001b[0;32m---> 78\u001b[0;31m                 src_im_height, src_im_width) = inf_tiler(im_path)\n\u001b[0m\u001b[1;32m     79\u001b[0m \u001b[0;34m\u001b[0m\u001b[0m\n\u001b[1;32m     80\u001b[0m             \u001b[0;32mif\u001b[0m \u001b[0mself\u001b[0m\u001b[0;34m.\u001b[0m\u001b[0mframework\u001b[0m \u001b[0;34m==\u001b[0m \u001b[0;34m'keras'\u001b[0m\u001b[0;34m:\u001b[0m\u001b[0;34m\u001b[0m\u001b[0;34m\u001b[0m\u001b[0m\n",
      "\u001b[0;32m/opt/conda/envs/solaris/lib/python3.7/site-packages/solaris/nets/datagen.py\u001b[0m in \u001b[0;36m__call__\u001b[0;34m(self, im)\u001b[0m\n\u001b[1;32m    489\u001b[0m                             :]\n\u001b[1;32m    490\u001b[0m                 \u001b[0;32mif\u001b[0m \u001b[0mself\u001b[0m\u001b[0;34m.\u001b[0m\u001b[0maug\u001b[0m \u001b[0;32mis\u001b[0m \u001b[0;32mnot\u001b[0m \u001b[0;32mNone\u001b[0m\u001b[0;34m:\u001b[0m\u001b[0;34m\u001b[0m\u001b[0;34m\u001b[0m\u001b[0m\n\u001b[0;32m--> 491\u001b[0;31m                     \u001b[0msubarr\u001b[0m \u001b[0;34m=\u001b[0m \u001b[0mself\u001b[0m\u001b[0;34m.\u001b[0m\u001b[0maug\u001b[0m\u001b[0;34m(\u001b[0m\u001b[0mimage\u001b[0m\u001b[0;34m=\u001b[0m\u001b[0msubarr\u001b[0m\u001b[0;34m)\u001b[0m\u001b[0;34m[\u001b[0m\u001b[0;34m'image'\u001b[0m\u001b[0;34m]\u001b[0m\u001b[0;34m\u001b[0m\u001b[0;34m\u001b[0m\u001b[0m\n\u001b[0m\u001b[1;32m    492\u001b[0m                 \u001b[0moutput_arr\u001b[0m\u001b[0;34m.\u001b[0m\u001b[0mappend\u001b[0m\u001b[0;34m(\u001b[0m\u001b[0msubarr\u001b[0m\u001b[0;34m)\u001b[0m\u001b[0;34m\u001b[0m\u001b[0;34m\u001b[0m\u001b[0m\n\u001b[1;32m    493\u001b[0m                 \u001b[0mtop_left_corner_idxs\u001b[0m\u001b[0;34m.\u001b[0m\u001b[0mappend\u001b[0m\u001b[0;34m(\u001b[0m\u001b[0;34m(\u001b[0m\u001b[0my_min\u001b[0m\u001b[0;34m,\u001b[0m \u001b[0mx_min\u001b[0m\u001b[0;34m)\u001b[0m\u001b[0;34m)\u001b[0m\u001b[0;34m\u001b[0m\u001b[0;34m\u001b[0m\u001b[0m\n",
      "\u001b[0;32m/opt/conda/envs/solaris/lib/python3.7/site-packages/albumentations/core/composition.py\u001b[0m in \u001b[0;36m__call__\u001b[0;34m(self, force_apply, **data)\u001b[0m\n\u001b[1;32m    174\u001b[0m                     \u001b[0mp\u001b[0m\u001b[0;34m.\u001b[0m\u001b[0mpreprocess\u001b[0m\u001b[0;34m(\u001b[0m\u001b[0mdata\u001b[0m\u001b[0;34m)\u001b[0m\u001b[0;34m\u001b[0m\u001b[0;34m\u001b[0m\u001b[0m\n\u001b[1;32m    175\u001b[0m \u001b[0;34m\u001b[0m\u001b[0m\n\u001b[0;32m--> 176\u001b[0;31m             \u001b[0mdata\u001b[0m \u001b[0;34m=\u001b[0m \u001b[0mt\u001b[0m\u001b[0;34m(\u001b[0m\u001b[0mforce_apply\u001b[0m\u001b[0;34m=\u001b[0m\u001b[0mforce_apply\u001b[0m\u001b[0;34m,\u001b[0m \u001b[0;34m**\u001b[0m\u001b[0mdata\u001b[0m\u001b[0;34m)\u001b[0m\u001b[0;34m\u001b[0m\u001b[0;34m\u001b[0m\u001b[0m\n\u001b[0m\u001b[1;32m    177\u001b[0m \u001b[0;34m\u001b[0m\u001b[0m\n\u001b[1;32m    178\u001b[0m             \u001b[0;32mif\u001b[0m \u001b[0mdual_start_end\u001b[0m \u001b[0;32mis\u001b[0m \u001b[0;32mnot\u001b[0m \u001b[0;32mNone\u001b[0m \u001b[0;32mand\u001b[0m \u001b[0midx\u001b[0m \u001b[0;34m==\u001b[0m \u001b[0mdual_start_end\u001b[0m\u001b[0;34m[\u001b[0m\u001b[0;36m1\u001b[0m\u001b[0;34m]\u001b[0m\u001b[0;34m:\u001b[0m\u001b[0;34m\u001b[0m\u001b[0;34m\u001b[0m\u001b[0m\n",
      "\u001b[0;32m/opt/conda/envs/solaris/lib/python3.7/site-packages/albumentations/core/transforms_interface.py\u001b[0m in \u001b[0;36m__call__\u001b[0;34m(self, force_apply, **kwargs)\u001b[0m\n\u001b[1;32m     85\u001b[0m                     )\n\u001b[1;32m     86\u001b[0m                 \u001b[0mkwargs\u001b[0m\u001b[0;34m[\u001b[0m\u001b[0mself\u001b[0m\u001b[0;34m.\u001b[0m\u001b[0msave_key\u001b[0m\u001b[0;34m]\u001b[0m\u001b[0;34m[\u001b[0m\u001b[0mid\u001b[0m\u001b[0;34m(\u001b[0m\u001b[0mself\u001b[0m\u001b[0;34m)\u001b[0m\u001b[0;34m]\u001b[0m \u001b[0;34m=\u001b[0m \u001b[0mdeepcopy\u001b[0m\u001b[0;34m(\u001b[0m\u001b[0mparams\u001b[0m\u001b[0;34m)\u001b[0m\u001b[0;34m\u001b[0m\u001b[0;34m\u001b[0m\u001b[0m\n\u001b[0;32m---> 87\u001b[0;31m             \u001b[0;32mreturn\u001b[0m \u001b[0mself\u001b[0m\u001b[0;34m.\u001b[0m\u001b[0mapply_with_params\u001b[0m\u001b[0;34m(\u001b[0m\u001b[0mparams\u001b[0m\u001b[0;34m,\u001b[0m \u001b[0;34m**\u001b[0m\u001b[0mkwargs\u001b[0m\u001b[0;34m)\u001b[0m\u001b[0;34m\u001b[0m\u001b[0;34m\u001b[0m\u001b[0m\n\u001b[0m\u001b[1;32m     88\u001b[0m \u001b[0;34m\u001b[0m\u001b[0m\n\u001b[1;32m     89\u001b[0m         \u001b[0;32mreturn\u001b[0m \u001b[0mkwargs\u001b[0m\u001b[0;34m\u001b[0m\u001b[0;34m\u001b[0m\u001b[0m\n",
      "\u001b[0;32m/opt/conda/envs/solaris/lib/python3.7/site-packages/albumentations/core/transforms_interface.py\u001b[0m in \u001b[0;36mapply_with_params\u001b[0;34m(self, params, force_apply, **kwargs)\u001b[0m\n\u001b[1;32m     98\u001b[0m                 \u001b[0mtarget_function\u001b[0m \u001b[0;34m=\u001b[0m \u001b[0mself\u001b[0m\u001b[0;34m.\u001b[0m\u001b[0m_get_target_function\u001b[0m\u001b[0;34m(\u001b[0m\u001b[0mkey\u001b[0m\u001b[0;34m)\u001b[0m\u001b[0;34m\u001b[0m\u001b[0;34m\u001b[0m\u001b[0m\n\u001b[1;32m     99\u001b[0m                 \u001b[0mtarget_dependencies\u001b[0m \u001b[0;34m=\u001b[0m \u001b[0;34m{\u001b[0m\u001b[0mk\u001b[0m\u001b[0;34m:\u001b[0m \u001b[0mkwargs\u001b[0m\u001b[0;34m[\u001b[0m\u001b[0mk\u001b[0m\u001b[0;34m]\u001b[0m \u001b[0;32mfor\u001b[0m \u001b[0mk\u001b[0m \u001b[0;32min\u001b[0m \u001b[0mself\u001b[0m\u001b[0;34m.\u001b[0m\u001b[0mtarget_dependence\u001b[0m\u001b[0;34m.\u001b[0m\u001b[0mget\u001b[0m\u001b[0;34m(\u001b[0m\u001b[0mkey\u001b[0m\u001b[0;34m,\u001b[0m \u001b[0;34m[\u001b[0m\u001b[0;34m]\u001b[0m\u001b[0;34m)\u001b[0m\u001b[0;34m}\u001b[0m\u001b[0;34m\u001b[0m\u001b[0;34m\u001b[0m\u001b[0m\n\u001b[0;32m--> 100\u001b[0;31m                 \u001b[0mres\u001b[0m\u001b[0;34m[\u001b[0m\u001b[0mkey\u001b[0m\u001b[0;34m]\u001b[0m \u001b[0;34m=\u001b[0m \u001b[0mtarget_function\u001b[0m\u001b[0;34m(\u001b[0m\u001b[0marg\u001b[0m\u001b[0;34m,\u001b[0m \u001b[0;34m**\u001b[0m\u001b[0mdict\u001b[0m\u001b[0;34m(\u001b[0m\u001b[0mparams\u001b[0m\u001b[0;34m,\u001b[0m \u001b[0;34m**\u001b[0m\u001b[0mtarget_dependencies\u001b[0m\u001b[0;34m)\u001b[0m\u001b[0;34m)\u001b[0m\u001b[0;34m\u001b[0m\u001b[0;34m\u001b[0m\u001b[0m\n\u001b[0m\u001b[1;32m    101\u001b[0m             \u001b[0;32melse\u001b[0m\u001b[0;34m:\u001b[0m\u001b[0;34m\u001b[0m\u001b[0;34m\u001b[0m\u001b[0m\n\u001b[1;32m    102\u001b[0m                 \u001b[0mres\u001b[0m\u001b[0;34m[\u001b[0m\u001b[0mkey\u001b[0m\u001b[0;34m]\u001b[0m \u001b[0;34m=\u001b[0m \u001b[0;32mNone\u001b[0m\u001b[0;34m\u001b[0m\u001b[0;34m\u001b[0m\u001b[0m\n",
      "\u001b[0;32m/opt/conda/envs/solaris/lib/python3.7/site-packages/solaris/nets/transform.py\u001b[0m in \u001b[0;36mapply\u001b[0;34m(self, im_arr, **params)\u001b[0m\n\u001b[1;32m    100\u001b[0m \u001b[0;34m\u001b[0m\u001b[0m\n\u001b[1;32m    101\u001b[0m     \u001b[0;32mdef\u001b[0m \u001b[0mapply\u001b[0m\u001b[0;34m(\u001b[0m\u001b[0mself\u001b[0m\u001b[0;34m,\u001b[0m \u001b[0mim_arr\u001b[0m\u001b[0;34m,\u001b[0m \u001b[0;34m**\u001b[0m\u001b[0mparams\u001b[0m\u001b[0;34m)\u001b[0m\u001b[0;34m:\u001b[0m\u001b[0;34m\u001b[0m\u001b[0;34m\u001b[0m\u001b[0m\n\u001b[0;32m--> 102\u001b[0;31m         \u001b[0;32mreturn\u001b[0m \u001b[0mnp\u001b[0m\u001b[0;34m.\u001b[0m\u001b[0mdelete\u001b[0m\u001b[0;34m(\u001b[0m\u001b[0mim_arr\u001b[0m\u001b[0;34m,\u001b[0m \u001b[0mself\u001b[0m\u001b[0;34m.\u001b[0m\u001b[0midx\u001b[0m\u001b[0;34m,\u001b[0m \u001b[0mself\u001b[0m\u001b[0;34m.\u001b[0m\u001b[0maxis\u001b[0m\u001b[0;34m)\u001b[0m\u001b[0;34m\u001b[0m\u001b[0;34m\u001b[0m\u001b[0m\n\u001b[0m\u001b[1;32m    103\u001b[0m \u001b[0;34m\u001b[0m\u001b[0m\n\u001b[1;32m    104\u001b[0m \u001b[0;34m\u001b[0m\u001b[0m\n",
      "\u001b[0;32m<__array_function__ internals>\u001b[0m in \u001b[0;36mdelete\u001b[0;34m(*args, **kwargs)\u001b[0m\n",
      "\u001b[0;32m/opt/conda/envs/solaris/lib/python3.7/site-packages/numpy/lib/function_base.py\u001b[0m in \u001b[0;36mdelete\u001b[0;34m(arr, obj, axis)\u001b[0m\n\u001b[1;32m   4377\u001b[0m             raise IndexError(\n\u001b[1;32m   4378\u001b[0m                 \u001b[0;34m\"index %i is out of bounds for axis %i with \"\u001b[0m\u001b[0;34m\u001b[0m\u001b[0;34m\u001b[0m\u001b[0m\n\u001b[0;32m-> 4379\u001b[0;31m                 \"size %i\" % (obj, axis, N))\n\u001b[0m\u001b[1;32m   4380\u001b[0m         \u001b[0;32mif\u001b[0m \u001b[0;34m(\u001b[0m\u001b[0mobj\u001b[0m \u001b[0;34m<\u001b[0m \u001b[0;36m0\u001b[0m\u001b[0;34m)\u001b[0m\u001b[0;34m:\u001b[0m\u001b[0;34m\u001b[0m\u001b[0;34m\u001b[0m\u001b[0m\n\u001b[1;32m   4381\u001b[0m             \u001b[0mobj\u001b[0m \u001b[0;34m+=\u001b[0m \u001b[0mN\u001b[0m\u001b[0;34m\u001b[0m\u001b[0;34m\u001b[0m\u001b[0m\n",
      "\u001b[0;31mIndexError\u001b[0m: index 3 is out of bounds for axis 2 with size 3"
     ]
    }
   ],
   "source": [
    "xdxd_inferer(inference_df.astype(str).to_frame())\n"
   ]
  },
  {
   "cell_type": "code",
   "execution_count": 66,
   "metadata": {},
   "outputs": [
    {
     "output_type": "stream",
     "name": "stdout",
     "text": [
      "0\n<class 'pathlib.PosixPath'>\n1\n<class 'pathlib.PosixPath'>\n2\n<class 'pathlib.PosixPath'>\n3\n<class 'pathlib.PosixPath'>\n4\n<class 'pathlib.PosixPath'>\n5\n<class 'pathlib.PosixPath'>\n6\n<class 'pathlib.PosixPath'>\n7\n<class 'pathlib.PosixPath'>\n8\n<class 'pathlib.PosixPath'>\n9\n<class 'pathlib.PosixPath'>\n"
     ]
    }
   ],
   "source": [
    "for idx, im_path in enumerate(inference_df):\n",
    "    print(idx)\n",
    "    print(type(im_path))"
   ]
  },
  {
   "cell_type": "code",
   "execution_count": 67,
   "metadata": {},
   "outputs": [
    {
     "output_type": "execute_result",
     "data": {
      "text/plain": [
       "0    processedBuildingLabels/data/rasters_vectors/3...\n",
       "1    processedBuildingLabels/data/rasters_vectors/3...\n",
       "2    processedBuildingLabels/data/rasters_vectors/3...\n",
       "3    processedBuildingLabels/data/rasters_vectors/3...\n",
       "4    processedBuildingLabels/data/rasters_vectors/3...\n",
       "5    processedBuildingLabels/data/rasters_vectors/3...\n",
       "6    processedBuildingLabels/data/rasters_vectors/3...\n",
       "7    processedBuildingLabels/data/rasters_vectors/3...\n",
       "8    processedBuildingLabels/data/rasters_vectors/3...\n",
       "9    processedBuildingLabels/data/rasters_vectors/3...\n",
       "Name: image, dtype: object"
      ]
     },
     "metadata": {},
     "execution_count": 67
    }
   ],
   "source": [
    "inference_df.astype(str)"
   ]
  },
  {
   "cell_type": "code",
   "execution_count": null,
   "metadata": {},
   "outputs": [],
   "source": []
  }
 ]
}