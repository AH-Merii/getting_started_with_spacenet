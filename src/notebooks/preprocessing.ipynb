{
 "cells": [
  {
   "cell_type": "markdown",
   "metadata": {},
   "source": [
    "## Import Libraries"
   ]
  },
  {
   "cell_type": "code",
   "execution_count": 47,
   "metadata": {},
   "outputs": [],
   "source": [
    "import src.notebooks.geoutils as geoutils\n",
    "from pathlib import Path\n",
    "import pandas as pd\n",
    "import numpy as np\n",
    "import gdal\n",
    "import matplotlib as mpl\n",
    "import rasterio\n",
    "import geopandas as gpd"
   ]
  },
  {
   "cell_type": "markdown",
   "metadata": {},
   "source": [
    "## Configure Paths"
   ]
  },
  {
   "cell_type": "code",
   "execution_count": 48,
   "metadata": {},
   "outputs": [],
   "source": [
    "data_path = Path('processedBuildingLabels/data/rasters_vectors')"
   ]
  },
  {
   "cell_type": "markdown",
   "metadata": {},
   "source": [
    "## Plotting Settings"
   ]
  },
  {
   "cell_type": "code",
   "execution_count": 49,
   "metadata": {},
   "outputs": [],
   "source": [
    "%matplotlib inline"
   ]
  },
  {
   "cell_type": "code",
   "execution_count": 50,
   "metadata": {},
   "outputs": [],
   "source": [
    "dpi = 300\n",
    "mpl.rcParams['figure.dpi']= dpi"
   ]
  },
  {
   "cell_type": "markdown",
   "metadata": {},
   "source": [
    "## Loading Data to DataFrame"
   ]
  },
  {
   "cell_type": "code",
   "execution_count": 51,
   "metadata": {},
   "outputs": [],
   "source": [
    "df = geoutils.get_dataframe_from_data(data_path=data_path)"
   ]
  },
  {
   "cell_type": "code",
   "execution_count": 52,
   "metadata": {},
   "outputs": [
    {
     "output_type": "execute_result",
     "data": {
      "text/plain": [
       "                                               3band  \\\n",
       "0  processedBuildingLabels/data/rasters_vectors/3...   \n",
       "1  processedBuildingLabels/data/rasters_vectors/3...   \n",
       "2  processedBuildingLabels/data/rasters_vectors/3...   \n",
       "3  processedBuildingLabels/data/rasters_vectors/3...   \n",
       "4  processedBuildingLabels/data/rasters_vectors/3...   \n",
       "\n",
       "                                               8band  \\\n",
       "0  processedBuildingLabels/data/rasters_vectors/8...   \n",
       "1  processedBuildingLabels/data/rasters_vectors/8...   \n",
       "2  processedBuildingLabels/data/rasters_vectors/8...   \n",
       "3  processedBuildingLabels/data/rasters_vectors/8...   \n",
       "4  processedBuildingLabels/data/rasters_vectors/8...   \n",
       "\n",
       "                                             geojson  image_number  \n",
       "0  processedBuildingLabels/data/rasters_vectors/g...             1  \n",
       "1  processedBuildingLabels/data/rasters_vectors/g...             2  \n",
       "2  processedBuildingLabels/data/rasters_vectors/g...             3  \n",
       "3  processedBuildingLabels/data/rasters_vectors/g...             4  \n",
       "4  processedBuildingLabels/data/rasters_vectors/g...             5  "
      ],
      "text/html": "<div>\n<style scoped>\n    .dataframe tbody tr th:only-of-type {\n        vertical-align: middle;\n    }\n\n    .dataframe tbody tr th {\n        vertical-align: top;\n    }\n\n    .dataframe thead th {\n        text-align: right;\n    }\n</style>\n<table border=\"1\" class=\"dataframe\">\n  <thead>\n    <tr style=\"text-align: right;\">\n      <th></th>\n      <th>3band</th>\n      <th>8band</th>\n      <th>geojson</th>\n      <th>image_number</th>\n    </tr>\n  </thead>\n  <tbody>\n    <tr>\n      <th>0</th>\n      <td>processedBuildingLabels/data/rasters_vectors/3...</td>\n      <td>processedBuildingLabels/data/rasters_vectors/8...</td>\n      <td>processedBuildingLabels/data/rasters_vectors/g...</td>\n      <td>1</td>\n    </tr>\n    <tr>\n      <th>1</th>\n      <td>processedBuildingLabels/data/rasters_vectors/3...</td>\n      <td>processedBuildingLabels/data/rasters_vectors/8...</td>\n      <td>processedBuildingLabels/data/rasters_vectors/g...</td>\n      <td>2</td>\n    </tr>\n    <tr>\n      <th>2</th>\n      <td>processedBuildingLabels/data/rasters_vectors/3...</td>\n      <td>processedBuildingLabels/data/rasters_vectors/8...</td>\n      <td>processedBuildingLabels/data/rasters_vectors/g...</td>\n      <td>3</td>\n    </tr>\n    <tr>\n      <th>3</th>\n      <td>processedBuildingLabels/data/rasters_vectors/3...</td>\n      <td>processedBuildingLabels/data/rasters_vectors/8...</td>\n      <td>processedBuildingLabels/data/rasters_vectors/g...</td>\n      <td>4</td>\n    </tr>\n    <tr>\n      <th>4</th>\n      <td>processedBuildingLabels/data/rasters_vectors/3...</td>\n      <td>processedBuildingLabels/data/rasters_vectors/8...</td>\n      <td>processedBuildingLabels/data/rasters_vectors/g...</td>\n      <td>5</td>\n    </tr>\n  </tbody>\n</table>\n</div>"
     },
     "metadata": {},
     "execution_count": 52
    }
   ],
   "source": [
    "df.head()"
   ]
  },
  {
   "source": [
    "### Check file extensions"
   ],
   "cell_type": "markdown",
   "metadata": {}
  },
  {
   "cell_type": "code",
   "execution_count": 53,
   "metadata": {},
   "outputs": [],
   "source": [
    "df['geo_extension'] = df['geojson'].map(lambda x: geoutils.extract_file_extension(x))"
   ]
  },
  {
   "cell_type": "code",
   "execution_count": 54,
   "metadata": {},
   "outputs": [],
   "source": [
    "df['raster_extension_3'] = df['3band'].map(lambda x: geoutils.extract_file_extension(x))"
   ]
  },
  {
   "cell_type": "code",
   "execution_count": 55,
   "metadata": {},
   "outputs": [],
   "source": [
    "df['raster_extension_8'] = df['8band'].map(lambda x: geoutils.extract_file_extension(x))\n"
   ]
  },
  {
   "cell_type": "code",
   "execution_count": 56,
   "metadata": {},
   "outputs": [
    {
     "output_type": "execute_result",
     "data": {
      "text/plain": [
       "                                               3band  \\\n",
       "0  processedBuildingLabels/data/rasters_vectors/3...   \n",
       "1  processedBuildingLabels/data/rasters_vectors/3...   \n",
       "2  processedBuildingLabels/data/rasters_vectors/3...   \n",
       "3  processedBuildingLabels/data/rasters_vectors/3...   \n",
       "4  processedBuildingLabels/data/rasters_vectors/3...   \n",
       "\n",
       "                                               8band  \\\n",
       "0  processedBuildingLabels/data/rasters_vectors/8...   \n",
       "1  processedBuildingLabels/data/rasters_vectors/8...   \n",
       "2  processedBuildingLabels/data/rasters_vectors/8...   \n",
       "3  processedBuildingLabels/data/rasters_vectors/8...   \n",
       "4  processedBuildingLabels/data/rasters_vectors/8...   \n",
       "\n",
       "                                             geojson  image_number  \\\n",
       "0  processedBuildingLabels/data/rasters_vectors/g...             1   \n",
       "1  processedBuildingLabels/data/rasters_vectors/g...             2   \n",
       "2  processedBuildingLabels/data/rasters_vectors/g...             3   \n",
       "3  processedBuildingLabels/data/rasters_vectors/g...             4   \n",
       "4  processedBuildingLabels/data/rasters_vectors/g...             5   \n",
       "\n",
       "  geo_extension raster_extension_3 raster_extension_8  \n",
       "0       geojson                tif                tif  \n",
       "1       geojson                tif                tif  \n",
       "2       geojson                tif                tif  \n",
       "3       geojson                tif                tif  \n",
       "4       geojson                tif                tif  "
      ],
      "text/html": "<div>\n<style scoped>\n    .dataframe tbody tr th:only-of-type {\n        vertical-align: middle;\n    }\n\n    .dataframe tbody tr th {\n        vertical-align: top;\n    }\n\n    .dataframe thead th {\n        text-align: right;\n    }\n</style>\n<table border=\"1\" class=\"dataframe\">\n  <thead>\n    <tr style=\"text-align: right;\">\n      <th></th>\n      <th>3band</th>\n      <th>8band</th>\n      <th>geojson</th>\n      <th>image_number</th>\n      <th>geo_extension</th>\n      <th>raster_extension_3</th>\n      <th>raster_extension_8</th>\n    </tr>\n  </thead>\n  <tbody>\n    <tr>\n      <th>0</th>\n      <td>processedBuildingLabels/data/rasters_vectors/3...</td>\n      <td>processedBuildingLabels/data/rasters_vectors/8...</td>\n      <td>processedBuildingLabels/data/rasters_vectors/g...</td>\n      <td>1</td>\n      <td>geojson</td>\n      <td>tif</td>\n      <td>tif</td>\n    </tr>\n    <tr>\n      <th>1</th>\n      <td>processedBuildingLabels/data/rasters_vectors/3...</td>\n      <td>processedBuildingLabels/data/rasters_vectors/8...</td>\n      <td>processedBuildingLabels/data/rasters_vectors/g...</td>\n      <td>2</td>\n      <td>geojson</td>\n      <td>tif</td>\n      <td>tif</td>\n    </tr>\n    <tr>\n      <th>2</th>\n      <td>processedBuildingLabels/data/rasters_vectors/3...</td>\n      <td>processedBuildingLabels/data/rasters_vectors/8...</td>\n      <td>processedBuildingLabels/data/rasters_vectors/g...</td>\n      <td>3</td>\n      <td>geojson</td>\n      <td>tif</td>\n      <td>tif</td>\n    </tr>\n    <tr>\n      <th>3</th>\n      <td>processedBuildingLabels/data/rasters_vectors/3...</td>\n      <td>processedBuildingLabels/data/rasters_vectors/8...</td>\n      <td>processedBuildingLabels/data/rasters_vectors/g...</td>\n      <td>4</td>\n      <td>geojson</td>\n      <td>tif</td>\n      <td>tif</td>\n    </tr>\n    <tr>\n      <th>4</th>\n      <td>processedBuildingLabels/data/rasters_vectors/3...</td>\n      <td>processedBuildingLabels/data/rasters_vectors/8...</td>\n      <td>processedBuildingLabels/data/rasters_vectors/g...</td>\n      <td>5</td>\n      <td>geojson</td>\n      <td>tif</td>\n      <td>tif</td>\n    </tr>\n  </tbody>\n</table>\n</div>"
     },
     "metadata": {},
     "execution_count": 56
    }
   ],
   "source": [
    "df.head()"
   ]
  },
  {
   "cell_type": "code",
   "execution_count": 57,
   "metadata": {},
   "outputs": [],
   "source": [
    "df.drop(df[df['image_number'] == 6940].index,inplace=True)"
   ]
  },
  {
   "cell_type": "code",
   "execution_count": 58,
   "metadata": {},
   "outputs": [
    {
     "output_type": "execute_result",
     "data": {
      "text/plain": [
       "Series([], Name: 3band, dtype: int64)"
      ]
     },
     "metadata": {},
     "execution_count": 58
    }
   ],
   "source": [
    "df['3band'][df['raster_extension_3'] != 'tif'].value_counts()"
   ]
  },
  {
   "cell_type": "code",
   "execution_count": 59,
   "metadata": {},
   "outputs": [
    {
     "output_type": "execute_result",
     "data": {
      "text/plain": [
       "Series([], Name: 8band, dtype: int64)"
      ]
     },
     "metadata": {},
     "execution_count": 59
    }
   ],
   "source": [
    "df['8band'][df['raster_extension_8'] != 'tif'].value_counts()"
   ]
  },
  {
   "source": [
    "### Drop any rows that do not have the right file extension"
   ],
   "cell_type": "markdown",
   "metadata": {}
  },
  {
   "cell_type": "code",
   "execution_count": 60,
   "metadata": {},
   "outputs": [],
   "source": [
    "df = df[df['geo_extension'] == 'geojson']"
   ]
  },
  {
   "cell_type": "code",
   "execution_count": 61,
   "metadata": {},
   "outputs": [
    {
     "output_type": "execute_result",
     "data": {
      "text/plain": [
       "                                               3band  \\\n",
       "0  processedBuildingLabels/data/rasters_vectors/3...   \n",
       "1  processedBuildingLabels/data/rasters_vectors/3...   \n",
       "2  processedBuildingLabels/data/rasters_vectors/3...   \n",
       "3  processedBuildingLabels/data/rasters_vectors/3...   \n",
       "4  processedBuildingLabels/data/rasters_vectors/3...   \n",
       "\n",
       "                                               8band  \\\n",
       "0  processedBuildingLabels/data/rasters_vectors/8...   \n",
       "1  processedBuildingLabels/data/rasters_vectors/8...   \n",
       "2  processedBuildingLabels/data/rasters_vectors/8...   \n",
       "3  processedBuildingLabels/data/rasters_vectors/8...   \n",
       "4  processedBuildingLabels/data/rasters_vectors/8...   \n",
       "\n",
       "                                             geojson  image_number  \\\n",
       "0  processedBuildingLabels/data/rasters_vectors/g...             1   \n",
       "1  processedBuildingLabels/data/rasters_vectors/g...             2   \n",
       "2  processedBuildingLabels/data/rasters_vectors/g...             3   \n",
       "3  processedBuildingLabels/data/rasters_vectors/g...             4   \n",
       "4  processedBuildingLabels/data/rasters_vectors/g...             5   \n",
       "\n",
       "  geo_extension raster_extension_3 raster_extension_8  \n",
       "0       geojson                tif                tif  \n",
       "1       geojson                tif                tif  \n",
       "2       geojson                tif                tif  \n",
       "3       geojson                tif                tif  \n",
       "4       geojson                tif                tif  "
      ],
      "text/html": "<div>\n<style scoped>\n    .dataframe tbody tr th:only-of-type {\n        vertical-align: middle;\n    }\n\n    .dataframe tbody tr th {\n        vertical-align: top;\n    }\n\n    .dataframe thead th {\n        text-align: right;\n    }\n</style>\n<table border=\"1\" class=\"dataframe\">\n  <thead>\n    <tr style=\"text-align: right;\">\n      <th></th>\n      <th>3band</th>\n      <th>8band</th>\n      <th>geojson</th>\n      <th>image_number</th>\n      <th>geo_extension</th>\n      <th>raster_extension_3</th>\n      <th>raster_extension_8</th>\n    </tr>\n  </thead>\n  <tbody>\n    <tr>\n      <th>0</th>\n      <td>processedBuildingLabels/data/rasters_vectors/3...</td>\n      <td>processedBuildingLabels/data/rasters_vectors/8...</td>\n      <td>processedBuildingLabels/data/rasters_vectors/g...</td>\n      <td>1</td>\n      <td>geojson</td>\n      <td>tif</td>\n      <td>tif</td>\n    </tr>\n    <tr>\n      <th>1</th>\n      <td>processedBuildingLabels/data/rasters_vectors/3...</td>\n      <td>processedBuildingLabels/data/rasters_vectors/8...</td>\n      <td>processedBuildingLabels/data/rasters_vectors/g...</td>\n      <td>2</td>\n      <td>geojson</td>\n      <td>tif</td>\n      <td>tif</td>\n    </tr>\n    <tr>\n      <th>2</th>\n      <td>processedBuildingLabels/data/rasters_vectors/3...</td>\n      <td>processedBuildingLabels/data/rasters_vectors/8...</td>\n      <td>processedBuildingLabels/data/rasters_vectors/g...</td>\n      <td>3</td>\n      <td>geojson</td>\n      <td>tif</td>\n      <td>tif</td>\n    </tr>\n    <tr>\n      <th>3</th>\n      <td>processedBuildingLabels/data/rasters_vectors/3...</td>\n      <td>processedBuildingLabels/data/rasters_vectors/8...</td>\n      <td>processedBuildingLabels/data/rasters_vectors/g...</td>\n      <td>4</td>\n      <td>geojson</td>\n      <td>tif</td>\n      <td>tif</td>\n    </tr>\n    <tr>\n      <th>4</th>\n      <td>processedBuildingLabels/data/rasters_vectors/3...</td>\n      <td>processedBuildingLabels/data/rasters_vectors/8...</td>\n      <td>processedBuildingLabels/data/rasters_vectors/g...</td>\n      <td>5</td>\n      <td>geojson</td>\n      <td>tif</td>\n      <td>tif</td>\n    </tr>\n  </tbody>\n</table>\n</div>"
     },
     "metadata": {},
     "execution_count": 61
    }
   ],
   "source": [
    "df.head()"
   ]
  },
  {
   "source": [
    "### Extract column for image numbers"
   ],
   "cell_type": "markdown",
   "metadata": {}
  },
  {
   "cell_type": "code",
   "execution_count": 62,
   "metadata": {},
   "outputs": [
    {
     "output_type": "stream",
     "name": "stderr",
     "text": [
      "/opt/conda/envs/solaris/lib/python3.7/site-packages/geopandas/_vectorized.py:142: ShapelyDeprecationWarning: Iteration over multi-part geometries is deprecated and will be removed in Shapely 2.0. Use the `geoms` property to access the constituent parts of a multi-part geometry.\n  aout[:] = out\n"
     ]
    }
   ],
   "source": [
    "df['geoshape'] = df['geojson'].map(lambda x: geoutils.get_geojson_shape(x))"
   ]
  },
  {
   "source": [
    "## Save output dataframes as pickle files"
   ],
   "cell_type": "markdown",
   "metadata": {}
  },
  {
   "cell_type": "code",
   "execution_count": 63,
   "metadata": {},
   "outputs": [],
   "source": [
    "artifacts_path = Path('src/notebooks/artifacts')"
   ]
  },
  {
   "cell_type": "code",
   "execution_count": 64,
   "metadata": {},
   "outputs": [],
   "source": [
    "df.to_pickle(Path(artifacts_path/'df'))"
   ]
  },
  {
   "cell_type": "code",
   "execution_count": 65,
   "metadata": {},
   "outputs": [],
   "source": [
    "df = pd.read_pickle(Path(artifacts_path/'df'))"
   ]
  },
  {
   "source": [
    "### Extract dataframe containing non-empty geojson files"
   ],
   "cell_type": "markdown",
   "metadata": {}
  },
  {
   "cell_type": "code",
   "execution_count": 66,
   "metadata": {},
   "outputs": [],
   "source": [
    "gdf = df[df['geoshape']!=(0,1)].reset_index(drop=True)"
   ]
  },
  {
   "cell_type": "code",
   "execution_count": 67,
   "metadata": {},
   "outputs": [
    {
     "output_type": "execute_result",
     "data": {
      "text/plain": [
       "                                               3band  \\\n",
       "0  processedBuildingLabels/data/rasters_vectors/3...   \n",
       "1  processedBuildingLabels/data/rasters_vectors/3...   \n",
       "2  processedBuildingLabels/data/rasters_vectors/3...   \n",
       "3  processedBuildingLabels/data/rasters_vectors/3...   \n",
       "4  processedBuildingLabels/data/rasters_vectors/3...   \n",
       "\n",
       "                                               8band  \\\n",
       "0  processedBuildingLabels/data/rasters_vectors/8...   \n",
       "1  processedBuildingLabels/data/rasters_vectors/8...   \n",
       "2  processedBuildingLabels/data/rasters_vectors/8...   \n",
       "3  processedBuildingLabels/data/rasters_vectors/8...   \n",
       "4  processedBuildingLabels/data/rasters_vectors/8...   \n",
       "\n",
       "                                             geojson  image_number  \\\n",
       "0  processedBuildingLabels/data/rasters_vectors/g...            12   \n",
       "1  processedBuildingLabels/data/rasters_vectors/g...            30   \n",
       "2  processedBuildingLabels/data/rasters_vectors/g...            44   \n",
       "3  processedBuildingLabels/data/rasters_vectors/g...            46   \n",
       "4  processedBuildingLabels/data/rasters_vectors/g...            47   \n",
       "\n",
       "  geo_extension raster_extension_3 raster_extension_8  geoshape  \n",
       "0       geojson                tif                tif   (5, 19)  \n",
       "1       geojson                tif                tif   (2, 19)  \n",
       "2       geojson                tif                tif   (1, 19)  \n",
       "3       geojson                tif                tif  (11, 19)  \n",
       "4       geojson                tif                tif  (15, 19)  "
      ],
      "text/html": "<div>\n<style scoped>\n    .dataframe tbody tr th:only-of-type {\n        vertical-align: middle;\n    }\n\n    .dataframe tbody tr th {\n        vertical-align: top;\n    }\n\n    .dataframe thead th {\n        text-align: right;\n    }\n</style>\n<table border=\"1\" class=\"dataframe\">\n  <thead>\n    <tr style=\"text-align: right;\">\n      <th></th>\n      <th>3band</th>\n      <th>8band</th>\n      <th>geojson</th>\n      <th>image_number</th>\n      <th>geo_extension</th>\n      <th>raster_extension_3</th>\n      <th>raster_extension_8</th>\n      <th>geoshape</th>\n    </tr>\n  </thead>\n  <tbody>\n    <tr>\n      <th>0</th>\n      <td>processedBuildingLabels/data/rasters_vectors/3...</td>\n      <td>processedBuildingLabels/data/rasters_vectors/8...</td>\n      <td>processedBuildingLabels/data/rasters_vectors/g...</td>\n      <td>12</td>\n      <td>geojson</td>\n      <td>tif</td>\n      <td>tif</td>\n      <td>(5, 19)</td>\n    </tr>\n    <tr>\n      <th>1</th>\n      <td>processedBuildingLabels/data/rasters_vectors/3...</td>\n      <td>processedBuildingLabels/data/rasters_vectors/8...</td>\n      <td>processedBuildingLabels/data/rasters_vectors/g...</td>\n      <td>30</td>\n      <td>geojson</td>\n      <td>tif</td>\n      <td>tif</td>\n      <td>(2, 19)</td>\n    </tr>\n    <tr>\n      <th>2</th>\n      <td>processedBuildingLabels/data/rasters_vectors/3...</td>\n      <td>processedBuildingLabels/data/rasters_vectors/8...</td>\n      <td>processedBuildingLabels/data/rasters_vectors/g...</td>\n      <td>44</td>\n      <td>geojson</td>\n      <td>tif</td>\n      <td>tif</td>\n      <td>(1, 19)</td>\n    </tr>\n    <tr>\n      <th>3</th>\n      <td>processedBuildingLabels/data/rasters_vectors/3...</td>\n      <td>processedBuildingLabels/data/rasters_vectors/8...</td>\n      <td>processedBuildingLabels/data/rasters_vectors/g...</td>\n      <td>46</td>\n      <td>geojson</td>\n      <td>tif</td>\n      <td>tif</td>\n      <td>(11, 19)</td>\n    </tr>\n    <tr>\n      <th>4</th>\n      <td>processedBuildingLabels/data/rasters_vectors/3...</td>\n      <td>processedBuildingLabels/data/rasters_vectors/8...</td>\n      <td>processedBuildingLabels/data/rasters_vectors/g...</td>\n      <td>47</td>\n      <td>geojson</td>\n      <td>tif</td>\n      <td>tif</td>\n      <td>(15, 19)</td>\n    </tr>\n  </tbody>\n</table>\n</div>"
     },
     "metadata": {},
     "execution_count": 67
    }
   ],
   "source": [
    "gdf.head()"
   ]
  },
  {
   "cell_type": "code",
   "execution_count": 68,
   "metadata": {},
   "outputs": [],
   "source": [
    "gdf.to_pickle(Path(artifacts_path/'gdf'))"
   ]
  },
  {
   "cell_type": "markdown",
   "metadata": {},
   "source": [
    "### Percentages of images with non-empty geojson files"
   ]
  },
  {
   "cell_type": "code",
   "execution_count": 69,
   "metadata": {},
   "outputs": [
    {
     "output_type": "execute_result",
     "data": {
      "text/plain": [
       "62.107235514557516"
      ]
     },
     "metadata": {},
     "execution_count": 69
    }
   ],
   "source": [
    "gdf.shape[0]/df.shape[0]*100"
   ]
  },
  {
   "cell_type": "code",
   "execution_count": null,
   "metadata": {},
   "outputs": [],
   "source": []
  }
 ],
 "metadata": {
  "kernelspec": {
   "display_name": "solaris",
   "language": "python",
   "name": "solaris"
  }
 },
 "nbformat": 4,
 "nbformat_minor": 2
}