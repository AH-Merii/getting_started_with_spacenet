{
 "cells": [
  {
   "cell_type": "markdown",
   "metadata": {},
   "source": [
    "## Import Libraries"
   ]
  },
  {
   "cell_type": "code",
   "execution_count": 1,
   "metadata": {},
   "outputs": [
    {
     "name": "stdout",
     "output_type": "stream",
     "text": [
      "import complete\n"
     ]
    }
   ],
   "source": [
    "import geoutils\n",
    "from pathlib import Path\n",
    "import pandas as pd\n",
    "import numpy as np\n",
    "import gdal\n",
    "import matplotlib as mpl\n",
    "import rasterio\n",
    "import geopandas as gpd\n",
    "print('import complete')"
   ]
  },
  {
   "cell_type": "markdown",
   "metadata": {},
   "source": [
    "## Configure Paths"
   ]
  },
  {
   "cell_type": "code",
   "execution_count": 2,
   "metadata": {},
   "outputs": [],
   "source": [
    "data_path = Path('/home/ahm/Datascience/Satellite Imagery Detection/getting_started_with_spacenet/processedBuildingLabels/data')"
   ]
  },
  {
   "cell_type": "markdown",
   "metadata": {},
   "source": [
    "## Plotting Settings"
   ]
  },
  {
   "cell_type": "code",
   "execution_count": 3,
   "metadata": {},
   "outputs": [],
   "source": [
    "%matplotlib inline"
   ]
  },
  {
   "cell_type": "code",
   "execution_count": 4,
   "metadata": {},
   "outputs": [],
   "source": [
    "dpi = 300\n",
    "mpl.rcParams['figure.dpi']= dpi"
   ]
  },
  {
   "cell_type": "markdown",
   "metadata": {},
   "source": [
    "## Loading Data to DataFrame"
   ]
  },
  {
   "cell_type": "code",
   "execution_count": 5,
   "metadata": {},
   "outputs": [],
   "source": [
    "# df = geoutils.get_dataframe_from_data(data_path=data_path)"
   ]
  },
  {
   "cell_type": "code",
   "execution_count": 6,
   "metadata": {},
   "outputs": [],
   "source": [
    "# df.head()"
   ]
  },
  {
   "cell_type": "code",
   "execution_count": 7,
   "metadata": {},
   "outputs": [],
   "source": [
    "# df['geoshape'] = df['geojson'].map(lambda x: geoutils.get_geojson_shape(x))"
   ]
  },
  {
   "cell_type": "code",
   "execution_count": 8,
   "metadata": {},
   "outputs": [],
   "source": [
    "# df.to_pickle('df')"
   ]
  },
  {
   "cell_type": "code",
   "execution_count": 9,
   "metadata": {},
   "outputs": [],
   "source": [
    "df = pd.read_pickle('df')"
   ]
  },
  {
   "cell_type": "code",
   "execution_count": 10,
   "metadata": {},
   "outputs": [
    {
     "data": {
      "text/html": [
       "<div>\n",
       "<style scoped>\n",
       "    .dataframe tbody tr th:only-of-type {\n",
       "        vertical-align: middle;\n",
       "    }\n",
       "\n",
       "    .dataframe tbody tr th {\n",
       "        vertical-align: top;\n",
       "    }\n",
       "\n",
       "    .dataframe thead th {\n",
       "        text-align: right;\n",
       "    }\n",
       "</style>\n",
       "<table border=\"1\" class=\"dataframe\">\n",
       "  <thead>\n",
       "    <tr style=\"text-align: right;\">\n",
       "      <th></th>\n",
       "      <th>3band</th>\n",
       "      <th>8band</th>\n",
       "      <th>geojson</th>\n",
       "      <th>image_number</th>\n",
       "      <th>geoshape</th>\n",
       "    </tr>\n",
       "  </thead>\n",
       "  <tbody>\n",
       "    <tr>\n",
       "      <th>0</th>\n",
       "      <td>/home/ahm/Datascience/Satellite Imagery Detect...</td>\n",
       "      <td>/home/ahm/Datascience/Satellite Imagery Detect...</td>\n",
       "      <td>/home/ahm/Datascience/Satellite Imagery Detect...</td>\n",
       "      <td>1</td>\n",
       "      <td>(0, 1)</td>\n",
       "    </tr>\n",
       "    <tr>\n",
       "      <th>1</th>\n",
       "      <td>/home/ahm/Datascience/Satellite Imagery Detect...</td>\n",
       "      <td>/home/ahm/Datascience/Satellite Imagery Detect...</td>\n",
       "      <td>/home/ahm/Datascience/Satellite Imagery Detect...</td>\n",
       "      <td>2</td>\n",
       "      <td>(0, 1)</td>\n",
       "    </tr>\n",
       "    <tr>\n",
       "      <th>2</th>\n",
       "      <td>/home/ahm/Datascience/Satellite Imagery Detect...</td>\n",
       "      <td>/home/ahm/Datascience/Satellite Imagery Detect...</td>\n",
       "      <td>/home/ahm/Datascience/Satellite Imagery Detect...</td>\n",
       "      <td>3</td>\n",
       "      <td>(0, 1)</td>\n",
       "    </tr>\n",
       "    <tr>\n",
       "      <th>3</th>\n",
       "      <td>/home/ahm/Datascience/Satellite Imagery Detect...</td>\n",
       "      <td>/home/ahm/Datascience/Satellite Imagery Detect...</td>\n",
       "      <td>/home/ahm/Datascience/Satellite Imagery Detect...</td>\n",
       "      <td>4</td>\n",
       "      <td>(0, 1)</td>\n",
       "    </tr>\n",
       "    <tr>\n",
       "      <th>4</th>\n",
       "      <td>/home/ahm/Datascience/Satellite Imagery Detect...</td>\n",
       "      <td>/home/ahm/Datascience/Satellite Imagery Detect...</td>\n",
       "      <td>/home/ahm/Datascience/Satellite Imagery Detect...</td>\n",
       "      <td>5</td>\n",
       "      <td>(0, 1)</td>\n",
       "    </tr>\n",
       "  </tbody>\n",
       "</table>\n",
       "</div>"
      ],
      "text/plain": [
       "                                               3band  \\\n",
       "0  /home/ahm/Datascience/Satellite Imagery Detect...   \n",
       "1  /home/ahm/Datascience/Satellite Imagery Detect...   \n",
       "2  /home/ahm/Datascience/Satellite Imagery Detect...   \n",
       "3  /home/ahm/Datascience/Satellite Imagery Detect...   \n",
       "4  /home/ahm/Datascience/Satellite Imagery Detect...   \n",
       "\n",
       "                                               8band  \\\n",
       "0  /home/ahm/Datascience/Satellite Imagery Detect...   \n",
       "1  /home/ahm/Datascience/Satellite Imagery Detect...   \n",
       "2  /home/ahm/Datascience/Satellite Imagery Detect...   \n",
       "3  /home/ahm/Datascience/Satellite Imagery Detect...   \n",
       "4  /home/ahm/Datascience/Satellite Imagery Detect...   \n",
       "\n",
       "                                             geojson  image_number geoshape  \n",
       "0  /home/ahm/Datascience/Satellite Imagery Detect...             1   (0, 1)  \n",
       "1  /home/ahm/Datascience/Satellite Imagery Detect...             2   (0, 1)  \n",
       "2  /home/ahm/Datascience/Satellite Imagery Detect...             3   (0, 1)  \n",
       "3  /home/ahm/Datascience/Satellite Imagery Detect...             4   (0, 1)  \n",
       "4  /home/ahm/Datascience/Satellite Imagery Detect...             5   (0, 1)  "
      ]
     },
     "execution_count": 10,
     "metadata": {},
     "output_type": "execute_result"
    }
   ],
   "source": [
    "df.head()"
   ]
  },
  {
   "cell_type": "code",
   "execution_count": 11,
   "metadata": {},
   "outputs": [],
   "source": [
    "gdf = df[df['geoshape']!=(0,1)].reset_index(drop=True)"
   ]
  },
  {
   "cell_type": "code",
   "execution_count": 12,
   "metadata": {},
   "outputs": [
    {
     "data": {
      "text/html": [
       "<div>\n",
       "<style scoped>\n",
       "    .dataframe tbody tr th:only-of-type {\n",
       "        vertical-align: middle;\n",
       "    }\n",
       "\n",
       "    .dataframe tbody tr th {\n",
       "        vertical-align: top;\n",
       "    }\n",
       "\n",
       "    .dataframe thead th {\n",
       "        text-align: right;\n",
       "    }\n",
       "</style>\n",
       "<table border=\"1\" class=\"dataframe\">\n",
       "  <thead>\n",
       "    <tr style=\"text-align: right;\">\n",
       "      <th></th>\n",
       "      <th>3band</th>\n",
       "      <th>8band</th>\n",
       "      <th>geojson</th>\n",
       "      <th>image_number</th>\n",
       "      <th>geoshape</th>\n",
       "    </tr>\n",
       "  </thead>\n",
       "  <tbody>\n",
       "    <tr>\n",
       "      <th>0</th>\n",
       "      <td>/home/ahm/Datascience/Satellite Imagery Detect...</td>\n",
       "      <td>/home/ahm/Datascience/Satellite Imagery Detect...</td>\n",
       "      <td>/home/ahm/Datascience/Satellite Imagery Detect...</td>\n",
       "      <td>12</td>\n",
       "      <td>(5, 19)</td>\n",
       "    </tr>\n",
       "    <tr>\n",
       "      <th>1</th>\n",
       "      <td>/home/ahm/Datascience/Satellite Imagery Detect...</td>\n",
       "      <td>/home/ahm/Datascience/Satellite Imagery Detect...</td>\n",
       "      <td>/home/ahm/Datascience/Satellite Imagery Detect...</td>\n",
       "      <td>30</td>\n",
       "      <td>(2, 19)</td>\n",
       "    </tr>\n",
       "    <tr>\n",
       "      <th>2</th>\n",
       "      <td>/home/ahm/Datascience/Satellite Imagery Detect...</td>\n",
       "      <td>/home/ahm/Datascience/Satellite Imagery Detect...</td>\n",
       "      <td>/home/ahm/Datascience/Satellite Imagery Detect...</td>\n",
       "      <td>44</td>\n",
       "      <td>(1, 19)</td>\n",
       "    </tr>\n",
       "    <tr>\n",
       "      <th>3</th>\n",
       "      <td>/home/ahm/Datascience/Satellite Imagery Detect...</td>\n",
       "      <td>/home/ahm/Datascience/Satellite Imagery Detect...</td>\n",
       "      <td>/home/ahm/Datascience/Satellite Imagery Detect...</td>\n",
       "      <td>46</td>\n",
       "      <td>(11, 19)</td>\n",
       "    </tr>\n",
       "    <tr>\n",
       "      <th>4</th>\n",
       "      <td>/home/ahm/Datascience/Satellite Imagery Detect...</td>\n",
       "      <td>/home/ahm/Datascience/Satellite Imagery Detect...</td>\n",
       "      <td>/home/ahm/Datascience/Satellite Imagery Detect...</td>\n",
       "      <td>47</td>\n",
       "      <td>(15, 19)</td>\n",
       "    </tr>\n",
       "  </tbody>\n",
       "</table>\n",
       "</div>"
      ],
      "text/plain": [
       "                                               3band  \\\n",
       "0  /home/ahm/Datascience/Satellite Imagery Detect...   \n",
       "1  /home/ahm/Datascience/Satellite Imagery Detect...   \n",
       "2  /home/ahm/Datascience/Satellite Imagery Detect...   \n",
       "3  /home/ahm/Datascience/Satellite Imagery Detect...   \n",
       "4  /home/ahm/Datascience/Satellite Imagery Detect...   \n",
       "\n",
       "                                               8band  \\\n",
       "0  /home/ahm/Datascience/Satellite Imagery Detect...   \n",
       "1  /home/ahm/Datascience/Satellite Imagery Detect...   \n",
       "2  /home/ahm/Datascience/Satellite Imagery Detect...   \n",
       "3  /home/ahm/Datascience/Satellite Imagery Detect...   \n",
       "4  /home/ahm/Datascience/Satellite Imagery Detect...   \n",
       "\n",
       "                                             geojson  image_number  geoshape  \n",
       "0  /home/ahm/Datascience/Satellite Imagery Detect...            12   (5, 19)  \n",
       "1  /home/ahm/Datascience/Satellite Imagery Detect...            30   (2, 19)  \n",
       "2  /home/ahm/Datascience/Satellite Imagery Detect...            44   (1, 19)  \n",
       "3  /home/ahm/Datascience/Satellite Imagery Detect...            46  (11, 19)  \n",
       "4  /home/ahm/Datascience/Satellite Imagery Detect...            47  (15, 19)  "
      ]
     },
     "execution_count": 12,
     "metadata": {},
     "output_type": "execute_result"
    }
   ],
   "source": [
    "gdf.head()"
   ]
  },
  {
   "cell_type": "code",
   "execution_count": 13,
   "metadata": {},
   "outputs": [],
   "source": [
    "gdf.to_pickle('gdf')"
   ]
  },
  {
   "cell_type": "markdown",
   "metadata": {},
   "source": [
    "### Percentages of images with non-empty geojson files"
   ]
  },
  {
   "cell_type": "code",
   "execution_count": 14,
   "metadata": {},
   "outputs": [
    {
     "data": {
      "text/plain": [
       "62.10374639769453"
      ]
     },
     "execution_count": 14,
     "metadata": {},
     "output_type": "execute_result"
    }
   ],
   "source": [
    "gdf.shape[0]/df.shape[0]*100"
   ]
  },
  {
   "cell_type": "code",
   "execution_count": 1,
   "metadata": {},
   "outputs": [
    {
     "output_type": "stream",
     "name": "stderr",
     "text": [
      "/opt/conda/envs/solaris/lib/python3.7/site-packages/tensorflow/python/framework/dtypes.py:526: FutureWarning: Passing (type, 1) or '1type' as a synonym of type is deprecated; in a future version of numpy, it will be understood as (type, (1,)) / '(1,)type'.\n  _np_qint8 = np.dtype([(\"qint8\", np.int8, 1)])\n/opt/conda/envs/solaris/lib/python3.7/site-packages/tensorflow/python/framework/dtypes.py:527: FutureWarning: Passing (type, 1) or '1type' as a synonym of type is deprecated; in a future version of numpy, it will be understood as (type, (1,)) / '(1,)type'.\n  _np_quint8 = np.dtype([(\"quint8\", np.uint8, 1)])\n/opt/conda/envs/solaris/lib/python3.7/site-packages/tensorflow/python/framework/dtypes.py:528: FutureWarning: Passing (type, 1) or '1type' as a synonym of type is deprecated; in a future version of numpy, it will be understood as (type, (1,)) / '(1,)type'.\n  _np_qint16 = np.dtype([(\"qint16\", np.int16, 1)])\n/opt/conda/envs/solaris/lib/python3.7/site-packages/tensorflow/python/framework/dtypes.py:529: FutureWarning: Passing (type, 1) or '1type' as a synonym of type is deprecated; in a future version of numpy, it will be understood as (type, (1,)) / '(1,)type'.\n  _np_quint16 = np.dtype([(\"quint16\", np.uint16, 1)])\n/opt/conda/envs/solaris/lib/python3.7/site-packages/tensorflow/python/framework/dtypes.py:530: FutureWarning: Passing (type, 1) or '1type' as a synonym of type is deprecated; in a future version of numpy, it will be understood as (type, (1,)) / '(1,)type'.\n  _np_qint32 = np.dtype([(\"qint32\", np.int32, 1)])\n/opt/conda/envs/solaris/lib/python3.7/site-packages/tensorflow/python/framework/dtypes.py:535: FutureWarning: Passing (type, 1) or '1type' as a synonym of type is deprecated; in a future version of numpy, it will be understood as (type, (1,)) / '(1,)type'.\n  np_resource = np.dtype([(\"resource\", np.ubyte, 1)])\n"
     ]
    }
   ],
   "source": [
    "import solaris as sol\n",
    "from solaris.data import data_dir\n",
    "import os\n",
    "import json"
   ]
  },
  {
   "cell_type": "code",
   "execution_count": 2,
   "metadata": {},
   "outputs": [],
   "source": [
    "def extract_vowels(string):\n",
    "    vowels = ['a','o','u','i','e']\n",
    "    extract = []\n",
    "    for char in string.lower():\n",
    "        if char in vowels:\n",
    "            extract.append(char)\n",
    "    return extract"
   ]
  },
  {
   "cell_type": "code",
   "execution_count": 3,
   "metadata": {},
   "outputs": [
    {
     "data": {
      "text/plain": [
       "['i', 'i', 'a', 'e', 'i']"
      ]
     },
     "execution_count": 3,
     "metadata": {},
     "output_type": "execute_result"
    }
   ],
   "source": [
    "string = 'thIs is a Test STring'\n",
    "extract_vowels(string=string)"
   ]
  },
  {
   "cell_type": "code",
   "execution_count": 3,
   "metadata": {},
   "outputs": [
    {
     "output_type": "execute_result",
     "data": {
      "text/plain": [
       "<module 'solaris.nets' from '/opt/conda/envs/solaris/lib/python3.7/site-packages/solaris/nets/__init__.py'>"
      ]
     },
     "metadata": {},
     "execution_count": 3
    }
   ],
   "source": [
    "sol.nets\n",
    "\n"
   ]
  },
  {
   "cell_type": "code",
   "execution_count": null,
   "metadata": {},
   "outputs": [],
   "source": []
  }
 ],
 "metadata": {
  "kernelspec": {
   "display_name": "solaris",
   "language": "python",
   "name": "solaris"
  },
  "language_info": {
   "codemirror_mode": {
    "name": "ipython",
    "version": 3
   },
   "file_extension": ".py",
   "mimetype": "text/x-python",
   "name": "python",
   "nbconvert_exporter": "python",
   "pygments_lexer": "ipython3",
   "version": "3.8.6-final"
  }
 },
 "nbformat": 4,
 "nbformat_minor": 2
}