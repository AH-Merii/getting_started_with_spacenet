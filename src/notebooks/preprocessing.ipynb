{
 "cells": [
  {
   "cell_type": "markdown",
   "metadata": {},
   "source": [
    "## Import Libraries"
   ]
  },
  {
   "cell_type": "code",
   "execution_count": 2,
   "metadata": {},
   "outputs": [
    {
     "output_type": "error",
     "ename": "ModuleNotFoundError",
     "evalue": "No module named 'geoutils'",
     "traceback": [
      "\u001b[0;31m\u001b[0m",
      "\u001b[0;31mModuleNotFoundError\u001b[0mTraceback (most recent call last)",
      "\u001b[0;32m<ipython-input-2-2382e358f64d>\u001b[0m in \u001b[0;36m<module>\u001b[0;34m()\u001b[0m\n\u001b[0;32m----> 1\u001b[0;31m \u001b[0;32mimport\u001b[0m \u001b[0mgeoutils\u001b[0m\u001b[0;34m\u001b[0m\u001b[0;34m\u001b[0m\u001b[0m\n\u001b[0m\u001b[1;32m      2\u001b[0m \u001b[0;32mfrom\u001b[0m \u001b[0mpathlib\u001b[0m \u001b[0;32mimport\u001b[0m \u001b[0mPath\u001b[0m\u001b[0;34m\u001b[0m\u001b[0;34m\u001b[0m\u001b[0m\n\u001b[1;32m      3\u001b[0m \u001b[0;32mimport\u001b[0m \u001b[0mpandas\u001b[0m \u001b[0;32mas\u001b[0m \u001b[0mpd\u001b[0m\u001b[0;34m\u001b[0m\u001b[0;34m\u001b[0m\u001b[0m\n\u001b[1;32m      4\u001b[0m \u001b[0;32mimport\u001b[0m \u001b[0mnumpy\u001b[0m \u001b[0;32mas\u001b[0m \u001b[0mnp\u001b[0m\u001b[0;34m\u001b[0m\u001b[0;34m\u001b[0m\u001b[0m\n\u001b[1;32m      5\u001b[0m \u001b[0;32mimport\u001b[0m \u001b[0mgdal\u001b[0m\u001b[0;34m\u001b[0m\u001b[0;34m\u001b[0m\u001b[0m\n",
      "\u001b[0;31mModuleNotFoundError\u001b[0m: No module named 'geoutils'"
     ]
    }
   ],
   "source": [
    "import src.notebooks.geoutils as geoutils\n",
    "from pathlib import Path\n",
    "import pandas as pd\n",
    "import numpy as np\n",
    "import gdal\n",
    "import matplotlib as mpl\n",
    "import rasterio\n",
    "import geopandas as gpd\n",
    "print('import complete')"
   ]
  },
  {
   "cell_type": "markdown",
   "metadata": {},
   "source": [
    "## Configure Paths"
   ]
  },
  {
   "cell_type": "code",
   "execution_count": 2,
   "metadata": {},
   "outputs": [],
   "source": [
    "data_path = Path('/home/ahm/Datascience/Satellite Imagery Detection/getting_started_with_spacenet/processedBuildingLabels/data')"
   ]
  },
  {
   "cell_type": "markdown",
   "metadata": {},
   "source": [
    "## Plotting Settings"
   ]
  },
  {
   "cell_type": "code",
   "execution_count": 3,
   "metadata": {},
   "outputs": [],
   "source": [
    "%matplotlib inline"
   ]
  },
  {
   "cell_type": "code",
   "execution_count": 4,
   "metadata": {},
   "outputs": [],
   "source": [
    "dpi = 300\n",
    "mpl.rcParams['figure.dpi']= dpi"
   ]
  },
  {
   "cell_type": "markdown",
   "metadata": {},
   "source": [
    "## Loading Data to DataFrame"
   ]
  },
  {
   "cell_type": "code",
   "execution_count": 5,
   "metadata": {},
   "outputs": [],
   "source": [
    "df = geoutils.get_dataframe_from_data(data_path=data_path)"
   ]
  },
  {
   "cell_type": "code",
   "execution_count": 6,
   "metadata": {},
   "outputs": [],
   "source": [
    "df.head()"
   ]
  },
  {
   "cell_type": "code",
   "execution_count": 7,
   "metadata": {},
   "outputs": [],
   "source": [
    "df['geoshape'] = df['geojson'].map(lambda x: geoutils.get_geojson_shape(x))"
   ]
  },
  {
   "cell_type": "code",
   "execution_count": 1,
   "metadata": {},
   "outputs": [
    {
     "output_type": "error",
     "ename": "NameError",
     "evalue": "name 'Path' is not defined",
     "traceback": [
      "\u001b[0;31m\u001b[0m",
      "\u001b[0;31mNameError\u001b[0mTraceback (most recent call last)",
      "\u001b[0;32m<ipython-input-1-c280de2a1cd8>\u001b[0m in \u001b[0;36m<module>\u001b[0;34m()\u001b[0m\n\u001b[0;32m----> 1\u001b[0;31m \u001b[0moutput_path\u001b[0m \u001b[0;34m=\u001b[0m \u001b[0mPath\u001b[0m\u001b[0;34m(\u001b[0m\u001b[0;34m'src/notebooks/artifacts'\u001b[0m\u001b[0;34m)\u001b[0m\u001b[0;34m\u001b[0m\u001b[0;34m\u001b[0m\u001b[0m\n\u001b[0m",
      "\u001b[0;31mNameError\u001b[0m: name 'Path' is not defined"
     ]
    }
   ],
   "source": [
    "artifacts_path = Path('src/notebooks/artifacts')"
   ]
  },
  {
   "cell_type": "code",
   "execution_count": 8,
   "metadata": {},
   "outputs": [],
   "source": [
    "df.to_pickle(Path(artifacts_path/'df'))"
   ]
  },
  {
   "cell_type": "code",
   "execution_count": 9,
   "metadata": {},
   "outputs": [],
   "source": [
    "df = pd.read_pickle(Path(artifacts_path/'df'))"
   ]
  },
  {
   "cell_type": "code",
   "execution_count": 10,
   "metadata": {},
   "outputs": [
    {
     "data": {
      "text/html": [
       "<div>\n",
       "<style scoped>\n",
       "    .dataframe tbody tr th:only-of-type {\n",
       "        vertical-align: middle;\n",
       "    }\n",
       "\n",
       "    .dataframe tbody tr th {\n",
       "        vertical-align: top;\n",
       "    }\n",
       "\n",
       "    .dataframe thead th {\n",
       "        text-align: right;\n",
       "    }\n",
       "</style>\n",
       "<table border=\"1\" class=\"dataframe\">\n",
       "  <thead>\n",
       "    <tr style=\"text-align: right;\">\n",
       "      <th></th>\n",
       "      <th>3band</th>\n",
       "      <th>8band</th>\n",
       "      <th>geojson</th>\n",
       "      <th>image_number</th>\n",
       "      <th>geoshape</th>\n",
       "    </tr>\n",
       "  </thead>\n",
       "  <tbody>\n",
       "    <tr>\n",
       "      <th>0</th>\n",
       "      <td>/home/ahm/Datascience/Satellite Imagery Detect...</td>\n",
       "      <td>/home/ahm/Datascience/Satellite Imagery Detect...</td>\n",
       "      <td>/home/ahm/Datascience/Satellite Imagery Detect...</td>\n",
       "      <td>1</td>\n",
       "      <td>(0, 1)</td>\n",
       "    </tr>\n",
       "    <tr>\n",
       "      <th>1</th>\n",
       "      <td>/home/ahm/Datascience/Satellite Imagery Detect...</td>\n",
       "      <td>/home/ahm/Datascience/Satellite Imagery Detect...</td>\n",
       "      <td>/home/ahm/Datascience/Satellite Imagery Detect...</td>\n",
       "      <td>2</td>\n",
       "      <td>(0, 1)</td>\n",
       "    </tr>\n",
       "    <tr>\n",
       "      <th>2</th>\n",
       "      <td>/home/ahm/Datascience/Satellite Imagery Detect...</td>\n",
       "      <td>/home/ahm/Datascience/Satellite Imagery Detect...</td>\n",
       "      <td>/home/ahm/Datascience/Satellite Imagery Detect...</td>\n",
       "      <td>3</td>\n",
       "      <td>(0, 1)</td>\n",
       "    </tr>\n",
       "    <tr>\n",
       "      <th>3</th>\n",
       "      <td>/home/ahm/Datascience/Satellite Imagery Detect...</td>\n",
       "      <td>/home/ahm/Datascience/Satellite Imagery Detect...</td>\n",
       "      <td>/home/ahm/Datascience/Satellite Imagery Detect...</td>\n",
       "      <td>4</td>\n",
       "      <td>(0, 1)</td>\n",
       "    </tr>\n",
       "    <tr>\n",
       "      <th>4</th>\n",
       "      <td>/home/ahm/Datascience/Satellite Imagery Detect...</td>\n",
       "      <td>/home/ahm/Datascience/Satellite Imagery Detect...</td>\n",
       "      <td>/home/ahm/Datascience/Satellite Imagery Detect...</td>\n",
       "      <td>5</td>\n",
       "      <td>(0, 1)</td>\n",
       "    </tr>\n",
       "  </tbody>\n",
       "</table>\n",
       "</div>"
      ],
      "text/plain": [
       "                                               3band  \\\n",
       "0  /home/ahm/Datascience/Satellite Imagery Detect...   \n",
       "1  /home/ahm/Datascience/Satellite Imagery Detect...   \n",
       "2  /home/ahm/Datascience/Satellite Imagery Detect...   \n",
       "3  /home/ahm/Datascience/Satellite Imagery Detect...   \n",
       "4  /home/ahm/Datascience/Satellite Imagery Detect...   \n",
       "\n",
       "                                               8band  \\\n",
       "0  /home/ahm/Datascience/Satellite Imagery Detect...   \n",
       "1  /home/ahm/Datascience/Satellite Imagery Detect...   \n",
       "2  /home/ahm/Datascience/Satellite Imagery Detect...   \n",
       "3  /home/ahm/Datascience/Satellite Imagery Detect...   \n",
       "4  /home/ahm/Datascience/Satellite Imagery Detect...   \n",
       "\n",
       "                                             geojson  image_number geoshape  \n",
       "0  /home/ahm/Datascience/Satellite Imagery Detect...             1   (0, 1)  \n",
       "1  /home/ahm/Datascience/Satellite Imagery Detect...             2   (0, 1)  \n",
       "2  /home/ahm/Datascience/Satellite Imagery Detect...             3   (0, 1)  \n",
       "3  /home/ahm/Datascience/Satellite Imagery Detect...             4   (0, 1)  \n",
       "4  /home/ahm/Datascience/Satellite Imagery Detect...             5   (0, 1)  "
      ]
     },
     "execution_count": 10,
     "metadata": {},
     "output_type": "execute_result"
    }
   ],
   "source": [
    "df.head()"
   ]
  },
  {
   "cell_type": "code",
   "execution_count": 11,
   "metadata": {},
   "outputs": [],
   "source": [
    "gdf = df[df['geoshape']!=(0,1)].reset_index(drop=True)"
   ]
  },
  {
   "cell_type": "code",
   "execution_count": 12,
   "metadata": {},
   "outputs": [
    {
     "data": {
      "text/html": [
       "<div>\n",
       "<style scoped>\n",
       "    .dataframe tbody tr th:only-of-type {\n",
       "        vertical-align: middle;\n",
       "    }\n",
       "\n",
       "    .dataframe tbody tr th {\n",
       "        vertical-align: top;\n",
       "    }\n",
       "\n",
       "    .dataframe thead th {\n",
       "        text-align: right;\n",
       "    }\n",
       "</style>\n",
       "<table border=\"1\" class=\"dataframe\">\n",
       "  <thead>\n",
       "    <tr style=\"text-align: right;\">\n",
       "      <th></th>\n",
       "      <th>3band</th>\n",
       "      <th>8band</th>\n",
       "      <th>geojson</th>\n",
       "      <th>image_number</th>\n",
       "      <th>geoshape</th>\n",
       "    </tr>\n",
       "  </thead>\n",
       "  <tbody>\n",
       "    <tr>\n",
       "      <th>0</th>\n",
       "      <td>/home/ahm/Datascience/Satellite Imagery Detect...</td>\n",
       "      <td>/home/ahm/Datascience/Satellite Imagery Detect...</td>\n",
       "      <td>/home/ahm/Datascience/Satellite Imagery Detect...</td>\n",
       "      <td>12</td>\n",
       "      <td>(5, 19)</td>\n",
       "    </tr>\n",
       "    <tr>\n",
       "      <th>1</th>\n",
       "      <td>/home/ahm/Datascience/Satellite Imagery Detect...</td>\n",
       "      <td>/home/ahm/Datascience/Satellite Imagery Detect...</td>\n",
       "      <td>/home/ahm/Datascience/Satellite Imagery Detect...</td>\n",
       "      <td>30</td>\n",
       "      <td>(2, 19)</td>\n",
       "    </tr>\n",
       "    <tr>\n",
       "      <th>2</th>\n",
       "      <td>/home/ahm/Datascience/Satellite Imagery Detect...</td>\n",
       "      <td>/home/ahm/Datascience/Satellite Imagery Detect...</td>\n",
       "      <td>/home/ahm/Datascience/Satellite Imagery Detect...</td>\n",
       "      <td>44</td>\n",
       "      <td>(1, 19)</td>\n",
       "    </tr>\n",
       "    <tr>\n",
       "      <th>3</th>\n",
       "      <td>/home/ahm/Datascience/Satellite Imagery Detect...</td>\n",
       "      <td>/home/ahm/Datascience/Satellite Imagery Detect...</td>\n",
       "      <td>/home/ahm/Datascience/Satellite Imagery Detect...</td>\n",
       "      <td>46</td>\n",
       "      <td>(11, 19)</td>\n",
       "    </tr>\n",
       "    <tr>\n",
       "      <th>4</th>\n",
       "      <td>/home/ahm/Datascience/Satellite Imagery Detect...</td>\n",
       "      <td>/home/ahm/Datascience/Satellite Imagery Detect...</td>\n",
       "      <td>/home/ahm/Datascience/Satellite Imagery Detect...</td>\n",
       "      <td>47</td>\n",
       "      <td>(15, 19)</td>\n",
       "    </tr>\n",
       "  </tbody>\n",
       "</table>\n",
       "</div>"
      ],
      "text/plain": [
       "                                               3band  \\\n",
       "0  /home/ahm/Datascience/Satellite Imagery Detect...   \n",
       "1  /home/ahm/Datascience/Satellite Imagery Detect...   \n",
       "2  /home/ahm/Datascience/Satellite Imagery Detect...   \n",
       "3  /home/ahm/Datascience/Satellite Imagery Detect...   \n",
       "4  /home/ahm/Datascience/Satellite Imagery Detect...   \n",
       "\n",
       "                                               8band  \\\n",
       "0  /home/ahm/Datascience/Satellite Imagery Detect...   \n",
       "1  /home/ahm/Datascience/Satellite Imagery Detect...   \n",
       "2  /home/ahm/Datascience/Satellite Imagery Detect...   \n",
       "3  /home/ahm/Datascience/Satellite Imagery Detect...   \n",
       "4  /home/ahm/Datascience/Satellite Imagery Detect...   \n",
       "\n",
       "                                             geojson  image_number  geoshape  \n",
       "0  /home/ahm/Datascience/Satellite Imagery Detect...            12   (5, 19)  \n",
       "1  /home/ahm/Datascience/Satellite Imagery Detect...            30   (2, 19)  \n",
       "2  /home/ahm/Datascience/Satellite Imagery Detect...            44   (1, 19)  \n",
       "3  /home/ahm/Datascience/Satellite Imagery Detect...            46  (11, 19)  \n",
       "4  /home/ahm/Datascience/Satellite Imagery Detect...            47  (15, 19)  "
      ]
     },
     "execution_count": 12,
     "metadata": {},
     "output_type": "execute_result"
    }
   ],
   "source": [
    "gdf.head()"
   ]
  },
  {
   "cell_type": "code",
   "execution_count": 13,
   "metadata": {},
   "outputs": [],
   "source": [
    "gdf.to_pickle('gdf')"
   ]
  },
  {
   "cell_type": "markdown",
   "metadata": {},
   "source": [
    "### Percentages of images with non-empty geojson files"
   ]
  },
  {
   "cell_type": "code",
   "execution_count": 14,
   "metadata": {},
   "outputs": [
    {
     "data": {
      "text/plain": [
       "62.10374639769453"
      ]
     },
     "execution_count": 14,
     "metadata": {},
     "output_type": "execute_result"
    }
   ],
   "source": [
    "gdf.shape[0]/df.shape[0]*100"
   ]
  },
  {
   "cell_type": "code",
   "execution_count": null,
   "metadata": {},
   "outputs": [],
   "source": []
  }
 ],
 "metadata": {
  "kernelspec": {
   "display_name": "solaris",
   "language": "python",
   "name": "solaris"
  },
  "language_info": {
   "codemirror_mode": {
    "name": "ipython",
    "version": 3
   },
   "file_extension": ".py",
   "mimetype": "text/x-python",
   "name": "python",
   "nbconvert_exporter": "python",
   "pygments_lexer": "ipython3",
   "version": "3.8.6-final"
  }
 },
 "nbformat": 4,
 "nbformat_minor": 2
}