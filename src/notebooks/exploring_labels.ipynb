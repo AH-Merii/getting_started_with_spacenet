{
 "metadata": {
  "orig_nbformat": 2,
  "kernelspec": {
   "name": "solaris",
   "display_name": "solaris"
  }
 },
 "nbformat": 4,
 "nbformat_minor": 2,
 "cells": [
  {
   "source": [
    "## Import Libraries"
   ],
   "cell_type": "markdown",
   "metadata": {}
  },
  {
   "cell_type": "code",
   "execution_count": 18,
   "metadata": {},
   "outputs": [],
   "source": [
    "import geopandas as gpd\n",
    "import matplotlib.pyplot as plt\n",
    "from pathlib import Path\n",
    "import pandas as pd"
   ]
  },
  {
   "source": [
    "## Get Paths to Data"
   ],
   "cell_type": "markdown",
   "metadata": {}
  },
  {
   "cell_type": "code",
   "execution_count": 2,
   "metadata": {},
   "outputs": [],
   "source": [
    "data_path = Path('./processedBuildingLabels/data')\n",
    "labels_path = Path(data_path/'labels')\n",
    "\n",
    "band3_labels = Path(labels_path/'AOI_1_RIO_polygons_solution_3band.csv')\n",
    "band8_labels = Path(labels_path/'AOI_1_RIO_polygons_solution_8band.csv')\n",
    "\n",
    "band3_path = Path(data_path/'rasters_vectors/3band')\n",
    "band8_path = Path(data_path/'rasters_vectors/8band')\n",
    "\n",
    "geojson_path = Path(data_path/'rasters_vectors/geojson')\n"
   ]
  },
  {
   "source": [
    "## Read csv files containing the labels"
   ],
   "cell_type": "markdown",
   "metadata": {}
  },
  {
   "cell_type": "code",
   "execution_count": 3,
   "metadata": {},
   "outputs": [
    {
     "output_type": "execute_result",
     "data": {
      "text/plain": [
       "             ImageId  BuildingId  \\\n",
       "0  AOI_1_RIO_img5792           1   \n",
       "1  AOI_1_RIO_img5792           2   \n",
       "2  AOI_1_RIO_img5792           3   \n",
       "3  AOI_1_RIO_img5792           4   \n",
       "4  AOI_1_RIO_img5792           5   \n",
       "\n",
       "                                      PolygonWKT_Pix  \\\n",
       "0  POLYGON ((408.210510077716208 39.5679995656149...   \n",
       "1  POLYGON ((389.833864435032297 42.6174620222885...   \n",
       "2  POLYGON ((242.119589264420313 -0.0000059554636...   \n",
       "3  POLYGON ((311.733120444117787 216.147456877115...   \n",
       "4  POLYGON ((350.582776650603819 112.220886068182...   \n",
       "\n",
       "                                      PolygonWKT_Geo  \n",
       "0  POLYGON ((-43.541791399999966 -22.876368899999...  \n",
       "1  POLYGON ((-43.541873799999962 -22.876382599999...  \n",
       "2  POLYGON ((-43.542536143743767 -22.876191136973...  \n",
       "3  POLYGON ((-43.542224 -22.8771622 0,-43.5421641...  \n",
       "4  POLYGON ((-43.542049799999972 -22.876695299999...  "
      ],
      "text/html": "<div>\n<style scoped>\n    .dataframe tbody tr th:only-of-type {\n        vertical-align: middle;\n    }\n\n    .dataframe tbody tr th {\n        vertical-align: top;\n    }\n\n    .dataframe thead th {\n        text-align: right;\n    }\n</style>\n<table border=\"1\" class=\"dataframe\">\n  <thead>\n    <tr style=\"text-align: right;\">\n      <th></th>\n      <th>ImageId</th>\n      <th>BuildingId</th>\n      <th>PolygonWKT_Pix</th>\n      <th>PolygonWKT_Geo</th>\n    </tr>\n  </thead>\n  <tbody>\n    <tr>\n      <th>0</th>\n      <td>AOI_1_RIO_img5792</td>\n      <td>1</td>\n      <td>POLYGON ((408.210510077716208 39.5679995656149...</td>\n      <td>POLYGON ((-43.541791399999966 -22.876368899999...</td>\n    </tr>\n    <tr>\n      <th>1</th>\n      <td>AOI_1_RIO_img5792</td>\n      <td>2</td>\n      <td>POLYGON ((389.833864435032297 42.6174620222885...</td>\n      <td>POLYGON ((-43.541873799999962 -22.876382599999...</td>\n    </tr>\n    <tr>\n      <th>2</th>\n      <td>AOI_1_RIO_img5792</td>\n      <td>3</td>\n      <td>POLYGON ((242.119589264420313 -0.0000059554636...</td>\n      <td>POLYGON ((-43.542536143743767 -22.876191136973...</td>\n    </tr>\n    <tr>\n      <th>3</th>\n      <td>AOI_1_RIO_img5792</td>\n      <td>4</td>\n      <td>POLYGON ((311.733120444117787 216.147456877115...</td>\n      <td>POLYGON ((-43.542224 -22.8771622 0,-43.5421641...</td>\n    </tr>\n    <tr>\n      <th>4</th>\n      <td>AOI_1_RIO_img5792</td>\n      <td>5</td>\n      <td>POLYGON ((350.582776650603819 112.220886068182...</td>\n      <td>POLYGON ((-43.542049799999972 -22.876695299999...</td>\n    </tr>\n  </tbody>\n</table>\n</div>"
     },
     "metadata": {},
     "execution_count": 3
    }
   ],
   "source": [
    "df = pd.read_csv(band3_labels)\n",
    "df.head()"
   ]
  },
  {
   "source": [
    "WKT stands for well known text and is often used to describe polygons in string format. Shapely can be used to parse the string into a polygon."
   ],
   "cell_type": "markdown",
   "metadata": {}
  },
  {
   "cell_type": "code",
   "execution_count": 4,
   "metadata": {},
   "outputs": [
    {
     "output_type": "execute_result",
     "data": {
      "text/plain": [
       "str"
      ]
     },
     "metadata": {},
     "execution_count": 4
    }
   ],
   "source": [
    "polygon_string = df['PolygonWKT_Geo'].head()[0]\n",
    "type(polygon_string)"
   ]
  },
  {
   "source": [
    "### Parse Polygon Example"
   ],
   "cell_type": "markdown",
   "metadata": {}
  },
  {
   "cell_type": "code",
   "execution_count": 5,
   "metadata": {},
   "outputs": [],
   "source": [
    "import shapely.wkt"
   ]
  },
  {
   "cell_type": "code",
   "execution_count": 6,
   "metadata": {},
   "outputs": [
    {
     "output_type": "execute_result",
     "data": {
      "text/plain": [
       "shapely.geometry.polygon.Polygon"
      ]
     },
     "metadata": {},
     "execution_count": 6
    }
   ],
   "source": [
    "P = shapely.wkt.loads(polygon_string)\n",
    "type(P)"
   ]
  },
  {
   "cell_type": "code",
   "execution_count": 7,
   "metadata": {},
   "outputs": [
    {
     "output_type": "execute_result",
     "data": {
      "text/plain": [
       "<shapely.geometry.polygon.Polygon at 0x7fd5469e5c50>"
      ],
      "image/svg+xml": "<svg xmlns=\"http://www.w3.org/2000/svg\" xmlns:xlink=\"http://www.w3.org/1999/xlink\" width=\"100.0\" height=\"100.0\" viewBox=\"-43.5419114 -22.87639089999997 0.00014579999999853044 0.0001237000000315902\" preserveAspectRatio=\"xMinYMin meet\"><g transform=\"matrix(1,0,0,-1,0,-45.752658099999906)\"><path fill-rule=\"evenodd\" fill=\"#66cc99\" stroke=\"#555555\" stroke-width=\"2.915999999970609e-06\" opacity=\"0.6\" d=\"M -43.541791399999966,-22.87636889999993 L -43.54187379999996,-22.876382599999943 L -43.54189189999994,-22.87638549999997 L -43.541906,-22.87631289999996 L -43.5418708,-22.876307099999963 L -43.541876,-22.87628069999994 L -43.54182689999993,-22.876272599999936 L -43.54182169999996,-22.876299399999937 L -43.541785,-22.876293399999952 L -43.541771,-22.87636559999993 L -43.541791399999966,-22.87636889999993 z\" /></g></svg>"
     },
     "metadata": {},
     "execution_count": 7
    }
   ],
   "source": [
    "P"
   ]
  },
  {
   "source": [
    "### Get the longitude and latitude bounds of your polygon"
   ],
   "cell_type": "markdown",
   "metadata": {}
  },
  {
   "cell_type": "code",
   "execution_count": 8,
   "metadata": {},
   "outputs": [
    {
     "output_type": "execute_result",
     "data": {
      "text/plain": [
       "(-43.541906, -22.87638549999997, -43.541771, -22.876272599999936)"
      ]
     },
     "metadata": {},
     "execution_count": 8
    }
   ],
   "source": [
    "# (lon,lat,lon,lat)\n",
    "P.bounds"
   ]
  },
  {
   "source": [
    "## Create Map"
   ],
   "cell_type": "markdown",
   "metadata": {}
  },
  {
   "cell_type": "code",
   "execution_count": 9,
   "metadata": {},
   "outputs": [],
   "source": [
    "import folium"
   ]
  },
  {
   "cell_type": "code",
   "execution_count": 10,
   "metadata": {},
   "outputs": [],
   "source": [
    "lon = P.bounds[0]\n",
    "lat = P.bounds[1]"
   ]
  },
  {
   "cell_type": "code",
   "execution_count": 11,
   "metadata": {},
   "outputs": [],
   "source": [
    "map = folium.Map(\n",
    "                location = [lat, lon], \n",
    "                zoom_start = 30)"
   ]
  },
  {
   "source": [
    "## Add Polygons to Map"
   ],
   "cell_type": "markdown",
   "metadata": {}
  },
  {
   "source": [
    "In order to easily add the polygons to our map, we can load them into a geopandas dataframe and convert the WKT polygons to shapely polygons by mapping them to the shapely.wkt.loads method demonstrated earlier."
   ],
   "cell_type": "markdown",
   "metadata": {}
  },
  {
   "cell_type": "code",
   "execution_count": 12,
   "metadata": {},
   "outputs": [],
   "source": [
    "import geopandas as gpd"
   ]
  },
  {
   "cell_type": "code",
   "execution_count": 13,
   "metadata": {},
   "outputs": [
    {
     "output_type": "execute_result",
     "data": {
      "text/plain": [
       "             ImageId BuildingId  \\\n",
       "0  AOI_1_RIO_img5792          1   \n",
       "1  AOI_1_RIO_img5792          2   \n",
       "2  AOI_1_RIO_img5792          3   \n",
       "3  AOI_1_RIO_img5792          4   \n",
       "4  AOI_1_RIO_img5792          5   \n",
       "\n",
       "                                      PolygonWKT_Pix  \\\n",
       "0  POLYGON ((408.210510077716208 39.5679995656149...   \n",
       "1  POLYGON ((389.833864435032297 42.6174620222885...   \n",
       "2  POLYGON ((242.119589264420313 -0.0000059554636...   \n",
       "3  POLYGON ((311.733120444117787 216.147456877115...   \n",
       "4  POLYGON ((350.582776650603819 112.220886068182...   \n",
       "\n",
       "                                      PolygonWKT_Geo geometry  \n",
       "0  POLYGON ((-43.541791399999966 -22.876368899999...     None  \n",
       "1  POLYGON ((-43.541873799999962 -22.876382599999...     None  \n",
       "2  POLYGON ((-43.542536143743767 -22.876191136973...     None  \n",
       "3  POLYGON ((-43.542224 -22.8771622 0,-43.5421641...     None  \n",
       "4  POLYGON ((-43.542049799999972 -22.876695299999...     None  "
      ],
      "text/html": "<div>\n<style scoped>\n    .dataframe tbody tr th:only-of-type {\n        vertical-align: middle;\n    }\n\n    .dataframe tbody tr th {\n        vertical-align: top;\n    }\n\n    .dataframe thead th {\n        text-align: right;\n    }\n</style>\n<table border=\"1\" class=\"dataframe\">\n  <thead>\n    <tr style=\"text-align: right;\">\n      <th></th>\n      <th>ImageId</th>\n      <th>BuildingId</th>\n      <th>PolygonWKT_Pix</th>\n      <th>PolygonWKT_Geo</th>\n      <th>geometry</th>\n    </tr>\n  </thead>\n  <tbody>\n    <tr>\n      <th>0</th>\n      <td>AOI_1_RIO_img5792</td>\n      <td>1</td>\n      <td>POLYGON ((408.210510077716208 39.5679995656149...</td>\n      <td>POLYGON ((-43.541791399999966 -22.876368899999...</td>\n      <td>None</td>\n    </tr>\n    <tr>\n      <th>1</th>\n      <td>AOI_1_RIO_img5792</td>\n      <td>2</td>\n      <td>POLYGON ((389.833864435032297 42.6174620222885...</td>\n      <td>POLYGON ((-43.541873799999962 -22.876382599999...</td>\n      <td>None</td>\n    </tr>\n    <tr>\n      <th>2</th>\n      <td>AOI_1_RIO_img5792</td>\n      <td>3</td>\n      <td>POLYGON ((242.119589264420313 -0.0000059554636...</td>\n      <td>POLYGON ((-43.542536143743767 -22.876191136973...</td>\n      <td>None</td>\n    </tr>\n    <tr>\n      <th>3</th>\n      <td>AOI_1_RIO_img5792</td>\n      <td>4</td>\n      <td>POLYGON ((311.733120444117787 216.147456877115...</td>\n      <td>POLYGON ((-43.542224 -22.8771622 0,-43.5421641...</td>\n      <td>None</td>\n    </tr>\n    <tr>\n      <th>4</th>\n      <td>AOI_1_RIO_img5792</td>\n      <td>5</td>\n      <td>POLYGON ((350.582776650603819 112.220886068182...</td>\n      <td>POLYGON ((-43.542049799999972 -22.876695299999...</td>\n      <td>None</td>\n    </tr>\n  </tbody>\n</table>\n</div>"
     },
     "metadata": {},
     "execution_count": 13
    }
   ],
   "source": [
    "gdf = gpd.read_file(band3_labels)\n",
    "gdf.head()"
   ]
  },
  {
   "cell_type": "code",
   "execution_count": 14,
   "metadata": {},
   "outputs": [
    {
     "output_type": "execute_result",
     "data": {
      "text/plain": [
       "             ImageId BuildingId  \\\n",
       "0  AOI_1_RIO_img5792          1   \n",
       "1  AOI_1_RIO_img5792          2   \n",
       "2  AOI_1_RIO_img5792          3   \n",
       "3  AOI_1_RIO_img5792          4   \n",
       "4  AOI_1_RIO_img5792          5   \n",
       "\n",
       "                                      PolygonWKT_Pix  \\\n",
       "0  POLYGON ((408.210510077716208 39.5679995656149...   \n",
       "1  POLYGON ((389.833864435032297 42.6174620222885...   \n",
       "2  POLYGON ((242.119589264420313 -0.0000059554636...   \n",
       "3  POLYGON ((311.733120444117787 216.147456877115...   \n",
       "4  POLYGON ((350.582776650603819 112.220886068182...   \n",
       "\n",
       "                                      PolygonWKT_Geo  \\\n",
       "0  POLYGON ((-43.541791399999966 -22.876368899999...   \n",
       "1  POLYGON ((-43.541873799999962 -22.876382599999...   \n",
       "2  POLYGON ((-43.542536143743767 -22.876191136973...   \n",
       "3  POLYGON ((-43.542224 -22.8771622 0,-43.5421641...   \n",
       "4  POLYGON ((-43.542049799999972 -22.876695299999...   \n",
       "\n",
       "                                            geometry  \n",
       "0  POLYGON Z ((-43.54179 -22.87637 0.00000, -43.5...  \n",
       "1  POLYGON Z ((-43.54187 -22.87638 0.00000, -43.5...  \n",
       "2  POLYGON Z ((-43.54254 -22.87619 0.00000, -43.5...  \n",
       "3  POLYGON Z ((-43.54222 -22.87716 0.00000, -43.5...  \n",
       "4  POLYGON Z ((-43.54205 -22.87670 0.00000, -43.5...  "
      ],
      "text/html": "<div>\n<style scoped>\n    .dataframe tbody tr th:only-of-type {\n        vertical-align: middle;\n    }\n\n    .dataframe tbody tr th {\n        vertical-align: top;\n    }\n\n    .dataframe thead th {\n        text-align: right;\n    }\n</style>\n<table border=\"1\" class=\"dataframe\">\n  <thead>\n    <tr style=\"text-align: right;\">\n      <th></th>\n      <th>ImageId</th>\n      <th>BuildingId</th>\n      <th>PolygonWKT_Pix</th>\n      <th>PolygonWKT_Geo</th>\n      <th>geometry</th>\n    </tr>\n  </thead>\n  <tbody>\n    <tr>\n      <th>0</th>\n      <td>AOI_1_RIO_img5792</td>\n      <td>1</td>\n      <td>POLYGON ((408.210510077716208 39.5679995656149...</td>\n      <td>POLYGON ((-43.541791399999966 -22.876368899999...</td>\n      <td>POLYGON Z ((-43.54179 -22.87637 0.00000, -43.5...</td>\n    </tr>\n    <tr>\n      <th>1</th>\n      <td>AOI_1_RIO_img5792</td>\n      <td>2</td>\n      <td>POLYGON ((389.833864435032297 42.6174620222885...</td>\n      <td>POLYGON ((-43.541873799999962 -22.876382599999...</td>\n      <td>POLYGON Z ((-43.54187 -22.87638 0.00000, -43.5...</td>\n    </tr>\n    <tr>\n      <th>2</th>\n      <td>AOI_1_RIO_img5792</td>\n      <td>3</td>\n      <td>POLYGON ((242.119589264420313 -0.0000059554636...</td>\n      <td>POLYGON ((-43.542536143743767 -22.876191136973...</td>\n      <td>POLYGON Z ((-43.54254 -22.87619 0.00000, -43.5...</td>\n    </tr>\n    <tr>\n      <th>3</th>\n      <td>AOI_1_RIO_img5792</td>\n      <td>4</td>\n      <td>POLYGON ((311.733120444117787 216.147456877115...</td>\n      <td>POLYGON ((-43.542224 -22.8771622 0,-43.5421641...</td>\n      <td>POLYGON Z ((-43.54222 -22.87716 0.00000, -43.5...</td>\n    </tr>\n    <tr>\n      <th>4</th>\n      <td>AOI_1_RIO_img5792</td>\n      <td>5</td>\n      <td>POLYGON ((350.582776650603819 112.220886068182...</td>\n      <td>POLYGON ((-43.542049799999972 -22.876695299999...</td>\n      <td>POLYGON Z ((-43.54205 -22.87670 0.00000, -43.5...</td>\n    </tr>\n  </tbody>\n</table>\n</div>"
     },
     "metadata": {},
     "execution_count": 14
    }
   ],
   "source": [
    "gdf['geometry'] = gdf['PolygonWKT_Geo'].map(shapely.wkt.loads)\n",
    "gdf.crs = 4326\n",
    "gdf.head()"
   ]
  },
  {
   "source": [
    "### Retrieve All Polygons in Certain Image"
   ],
   "cell_type": "markdown",
   "metadata": {}
  },
  {
   "cell_type": "code",
   "execution_count": 15,
   "metadata": {},
   "outputs": [],
   "source": [
    "image5792 = gdf.loc[gdf['ImageId']=='AOI_1_RIO_img5792','ImageId'].index"
   ]
  },
  {
   "cell_type": "code",
   "execution_count": 16,
   "metadata": {},
   "outputs": [],
   "source": [
    "folium.GeoJson(data=gdf['geometry'][image5792]).add_to(map);"
   ]
  },
  {
   "cell_type": "code",
   "execution_count": 17,
   "metadata": {},
   "outputs": [
    {
     "output_type": "execute_result",
     "data": {
      "text/plain": [
       "<folium.folium.Map at 0x7fd5465a18d0>"
      ],
      "text/html": "<div style=\"width:100%;\"><div style=\"position:relative;width:100%;height:0;padding-bottom:60%;\"><span style=\"color:#565656\">Make this Notebook Trusted to load map: File -> Trust Notebook</span><iframe src=\"about:blank\" style=\"position:absolute;width:100%;height:100%;left:0;top:0;border:none !important;\" data-html=PCFET0NUWVBFIGh0bWw+CjxoZWFkPiAgICAKICAgIDxtZXRhIGh0dHAtZXF1aXY9ImNvbnRlbnQtdHlwZSIgY29udGVudD0idGV4dC9odG1sOyBjaGFyc2V0PVVURi04IiAvPgogICAgCiAgICAgICAgPHNjcmlwdD4KICAgICAgICAgICAgTF9OT19UT1VDSCA9IGZhbHNlOwogICAgICAgICAgICBMX0RJU0FCTEVfM0QgPSBmYWxzZTsKICAgICAgICA8L3NjcmlwdD4KICAgIAogICAgPHNjcmlwdCBzcmM9Imh0dHBzOi8vY2RuLmpzZGVsaXZyLm5ldC9ucG0vbGVhZmxldEAxLjYuMC9kaXN0L2xlYWZsZXQuanMiPjwvc2NyaXB0PgogICAgPHNjcmlwdCBzcmM9Imh0dHBzOi8vY29kZS5qcXVlcnkuY29tL2pxdWVyeS0xLjEyLjQubWluLmpzIj48L3NjcmlwdD4KICAgIDxzY3JpcHQgc3JjPSJodHRwczovL21heGNkbi5ib290c3RyYXBjZG4uY29tL2Jvb3RzdHJhcC8zLjIuMC9qcy9ib290c3RyYXAubWluLmpzIj48L3NjcmlwdD4KICAgIDxzY3JpcHQgc3JjPSJodHRwczovL2NkbmpzLmNsb3VkZmxhcmUuY29tL2FqYXgvbGlicy9MZWFmbGV0LmF3ZXNvbWUtbWFya2Vycy8yLjAuMi9sZWFmbGV0LmF3ZXNvbWUtbWFya2Vycy5qcyI+PC9zY3JpcHQ+CiAgICA8bGluayByZWw9InN0eWxlc2hlZXQiIGhyZWY9Imh0dHBzOi8vY2RuLmpzZGVsaXZyLm5ldC9ucG0vbGVhZmxldEAxLjYuMC9kaXN0L2xlYWZsZXQuY3NzIi8+CiAgICA8bGluayByZWw9InN0eWxlc2hlZXQiIGhyZWY9Imh0dHBzOi8vbWF4Y2RuLmJvb3RzdHJhcGNkbi5jb20vYm9vdHN0cmFwLzMuMi4wL2Nzcy9ib290c3RyYXAubWluLmNzcyIvPgogICAgPGxpbmsgcmVsPSJzdHlsZXNoZWV0IiBocmVmPSJodHRwczovL21heGNkbi5ib290c3RyYXBjZG4uY29tL2Jvb3RzdHJhcC8zLjIuMC9jc3MvYm9vdHN0cmFwLXRoZW1lLm1pbi5jc3MiLz4KICAgIDxsaW5rIHJlbD0ic3R5bGVzaGVldCIgaHJlZj0iaHR0cHM6Ly9tYXhjZG4uYm9vdHN0cmFwY2RuLmNvbS9mb250LWF3ZXNvbWUvNC42LjMvY3NzL2ZvbnQtYXdlc29tZS5taW4uY3NzIi8+CiAgICA8bGluayByZWw9InN0eWxlc2hlZXQiIGhyZWY9Imh0dHBzOi8vY2RuanMuY2xvdWRmbGFyZS5jb20vYWpheC9saWJzL0xlYWZsZXQuYXdlc29tZS1tYXJrZXJzLzIuMC4yL2xlYWZsZXQuYXdlc29tZS1tYXJrZXJzLmNzcyIvPgogICAgPGxpbmsgcmVsPSJzdHlsZXNoZWV0IiBocmVmPSJodHRwczovL3Jhd2Nkbi5naXRoYWNrLmNvbS9weXRob24tdmlzdWFsaXphdGlvbi9mb2xpdW0vbWFzdGVyL2ZvbGl1bS90ZW1wbGF0ZXMvbGVhZmxldC5hd2Vzb21lLnJvdGF0ZS5jc3MiLz4KICAgIDxzdHlsZT5odG1sLCBib2R5IHt3aWR0aDogMTAwJTtoZWlnaHQ6IDEwMCU7bWFyZ2luOiAwO3BhZGRpbmc6IDA7fTwvc3R5bGU+CiAgICA8c3R5bGU+I21hcCB7cG9zaXRpb246YWJzb2x1dGU7dG9wOjA7Ym90dG9tOjA7cmlnaHQ6MDtsZWZ0OjA7fTwvc3R5bGU+CiAgICAKICAgICAgICAgICAgPG1ldGEgbmFtZT0idmlld3BvcnQiIGNvbnRlbnQ9IndpZHRoPWRldmljZS13aWR0aCwKICAgICAgICAgICAgICAgIGluaXRpYWwtc2NhbGU9MS4wLCBtYXhpbXVtLXNjYWxlPTEuMCwgdXNlci1zY2FsYWJsZT1ubyIgLz4KICAgICAgICAgICAgPHN0eWxlPgogICAgICAgICAgICAgICAgI21hcF9jZmVhYTZiNTk3OWM0ODRmYjY0MmU1N2ZiOWZlYzhhZSB7CiAgICAgICAgICAgICAgICAgICAgcG9zaXRpb246IHJlbGF0aXZlOwogICAgICAgICAgICAgICAgICAgIHdpZHRoOiAxMDAuMCU7CiAgICAgICAgICAgICAgICAgICAgaGVpZ2h0OiAxMDAuMCU7CiAgICAgICAgICAgICAgICAgICAgbGVmdDogMC4wJTsKICAgICAgICAgICAgICAgICAgICB0b3A6IDAuMCU7CiAgICAgICAgICAgICAgICB9CiAgICAgICAgICAgIDwvc3R5bGU+CiAgICAgICAgCjwvaGVhZD4KPGJvZHk+ICAgIAogICAgCiAgICAgICAgICAgIDxkaXYgY2xhc3M9ImZvbGl1bS1tYXAiIGlkPSJtYXBfY2ZlYWE2YjU5NzljNDg0ZmI2NDJlNTdmYjlmZWM4YWUiID48L2Rpdj4KICAgICAgICAKPC9ib2R5Pgo8c2NyaXB0PiAgICAKICAgIAogICAgICAgICAgICB2YXIgbWFwX2NmZWFhNmI1OTc5YzQ4NGZiNjQyZTU3ZmI5ZmVjOGFlID0gTC5tYXAoCiAgICAgICAgICAgICAgICAibWFwX2NmZWFhNmI1OTc5YzQ4NGZiNjQyZTU3ZmI5ZmVjOGFlIiwKICAgICAgICAgICAgICAgIHsKICAgICAgICAgICAgICAgICAgICBjZW50ZXI6IFstMjIuODc2Mzg1NDk5OTk5OTcsIC00My41NDE5MDZdLAogICAgICAgICAgICAgICAgICAgIGNyczogTC5DUlMuRVBTRzM4NTcsCiAgICAgICAgICAgICAgICAgICAgem9vbTogMzAsCiAgICAgICAgICAgICAgICAgICAgem9vbUNvbnRyb2w6IHRydWUsCiAgICAgICAgICAgICAgICAgICAgcHJlZmVyQ2FudmFzOiBmYWxzZSwKICAgICAgICAgICAgICAgIH0KICAgICAgICAgICAgKTsKCiAgICAgICAgICAgIAoKICAgICAgICAKICAgIAogICAgICAgICAgICB2YXIgdGlsZV9sYXllcl80YzE5ODk3MGQ1ZDc0YTc1YmE2YzAyOThkZWQ1NmZlOSA9IEwudGlsZUxheWVyKAogICAgICAgICAgICAgICAgImh0dHBzOi8ve3N9LnRpbGUub3BlbnN0cmVldG1hcC5vcmcve3p9L3t4fS97eX0ucG5nIiwKICAgICAgICAgICAgICAgIHsiYXR0cmlidXRpb24iOiAiRGF0YSBieSBcdTAwMjZjb3B5OyBcdTAwM2NhIGhyZWY9XCJodHRwOi8vb3BlbnN0cmVldG1hcC5vcmdcIlx1MDAzZU9wZW5TdHJlZXRNYXBcdTAwM2MvYVx1MDAzZSwgdW5kZXIgXHUwMDNjYSBocmVmPVwiaHR0cDovL3d3dy5vcGVuc3RyZWV0bWFwLm9yZy9jb3B5cmlnaHRcIlx1MDAzZU9EYkxcdTAwM2MvYVx1MDAzZS4iLCAiZGV0ZWN0UmV0aW5hIjogZmFsc2UsICJtYXhOYXRpdmVab29tIjogMTgsICJtYXhab29tIjogMTgsICJtaW5ab29tIjogMCwgIm5vV3JhcCI6IGZhbHNlLCAib3BhY2l0eSI6IDEsICJzdWJkb21haW5zIjogImFiYyIsICJ0bXMiOiBmYWxzZX0KICAgICAgICAgICAgKS5hZGRUbyhtYXBfY2ZlYWE2YjU5NzljNDg0ZmI2NDJlNTdmYjlmZWM4YWUpOwogICAgICAgIAogICAgCiAgICAgICAgZnVuY3Rpb24gZ2VvX2pzb25fODQ5YmFlYTc3OTM1NDljYmIxN2JjNmI0MTQ2NGY2NGVfb25FYWNoRmVhdHVyZShmZWF0dXJlLCBsYXllcikgewogICAgICAgICAgICBsYXllci5vbih7CiAgICAgICAgICAgICAgICBjbGljazogZnVuY3Rpb24oZSkgewogICAgICAgICAgICAgICAgICAgIG1hcF9jZmVhYTZiNTk3OWM0ODRmYjY0MmU1N2ZiOWZlYzhhZS5maXRCb3VuZHMoZS50YXJnZXQuZ2V0Qm91bmRzKCkpOwogICAgICAgICAgICAgICAgfQogICAgICAgICAgICB9KTsKICAgICAgICB9OwogICAgICAgIHZhciBnZW9fanNvbl84NDliYWVhNzc5MzU0OWNiYjE3YmM2YjQxNDY0ZjY0ZSA9IEwuZ2VvSnNvbihudWxsLCB7CiAgICAgICAgICAgICAgICBvbkVhY2hGZWF0dXJlOiBnZW9fanNvbl84NDliYWVhNzc5MzU0OWNiYjE3YmM2YjQxNDY0ZjY0ZV9vbkVhY2hGZWF0dXJlLAogICAgICAgICAgICAKICAgICAgICB9KS5hZGRUbyhtYXBfY2ZlYWE2YjU5NzljNDg0ZmI2NDJlNTdmYjlmZWM4YWUpOwoKICAgICAgICBmdW5jdGlvbiBnZW9fanNvbl84NDliYWVhNzc5MzU0OWNiYjE3YmM2YjQxNDY0ZjY0ZV9hZGQgKGRhdGEpIHsKICAgICAgICAgICAgZ2VvX2pzb25fODQ5YmFlYTc3OTM1NDljYmIxN2JjNmI0MTQ2NGY2NGUuYWRkRGF0YShkYXRhKTsKICAgICAgICB9CiAgICAgICAgICAgIGdlb19qc29uXzg0OWJhZWE3NzkzNTQ5Y2JiMTdiYzZiNDE0NjRmNjRlX2FkZCh7ImJib3giOiBbLTQzLjU0MzYyMTc5NjM4MTgxNCwgLTIyLjg3ODAxNTEzMDU5MDc4MiwgLTQzLjU0MTY1MzM0MTM1MzY0LCAtMjIuODc2MTkxMTM2OTczMjQ0XSwgImZlYXR1cmVzIjogW3siYmJveCI6IFstNDMuNTQxOTA2LCAtMjIuODc2Mzg1NDk5OTk5OTcsIC00My41NDE3NzEsIC0yMi44NzYyNzI1OTk5OTk5MzZdLCAiZ2VvbWV0cnkiOiB7ImNvb3JkaW5hdGVzIjogW1tbLTQzLjU0MTc5MTM5OTk5OTk2NiwgLTIyLjg3NjM2ODg5OTk5OTkzLCAwLjBdLCBbLTQzLjU0MTg3Mzc5OTk5OTk2LCAtMjIuODc2MzgyNTk5OTk5OTQzLCAwLjBdLCBbLTQzLjU0MTg5MTg5OTk5OTk0LCAtMjIuODc2Mzg1NDk5OTk5OTcsIDAuMF0sIFstNDMuNTQxOTA2LCAtMjIuODc2MzEyODk5OTk5OTYsIDAuMF0sIFstNDMuNTQxODcwOCwgLTIyLjg3NjMwNzA5OTk5OTk2MywgMC4wXSwgWy00My41NDE4NzYsIC0yMi44NzYyODA2OTk5OTk5NCwgMC4wXSwgWy00My41NDE4MjY4OTk5OTk5MywgLTIyLjg3NjI3MjU5OTk5OTkzNiwgMC4wXSwgWy00My41NDE4MjE2OTk5OTk5NiwgLTIyLjg3NjI5OTM5OTk5OTkzNywgMC4wXSwgWy00My41NDE3ODUsIC0yMi44NzYyOTMzOTk5OTk5NTIsIDAuMF0sIFstNDMuNTQxNzcxLCAtMjIuODc2MzY1NTk5OTk5OTMsIDAuMF0sIFstNDMuNTQxNzkxMzk5OTk5OTY2LCAtMjIuODc2MzY4ODk5OTk5OTMsIDAuMF1dXSwgInR5cGUiOiAiUG9seWdvbiJ9LCAiaWQiOiAiMCIsICJwcm9wZXJ0aWVzIjoge30sICJ0eXBlIjogIkZlYXR1cmUifSwgeyJiYm94IjogWy00My41NDE4ODA2OTk5OTk5OCwgLTIyLjg3NjU1OTA5OTk5OTk1LCAtNDMuNTQxNzI3NDk5OTk5OTgsIC0yMi44NzYzNjg4OTk5OTk5M10sICJnZW9tZXRyeSI6IHsiY29vcmRpbmF0ZXMiOiBbW1stNDMuNTQxODczNzk5OTk5OTYsIC0yMi44NzYzODI1OTk5OTk5NDMsIDAuMF0sIFstNDMuNTQxNzkxMzk5OTk5OTY2LCAtMjIuODc2MzY4ODk5OTk5OTMsIDAuMF0sIFstNDMuNTQxNzg0NTk5OTk5OTcsIC0yMi44NzY0MDQsIDAuMF0sIFstNDMuNTQxNzQ3ODk5OTk5OTYsIC0yMi44NzYzOTc4OTk5OTk5NzIsIDAuMF0sIFstNDMuNTQxNzI3NDk5OTk5OTgsIC0yMi44NzY1MDIxOTk5OTk5NDgsIDAuMF0sIFstNDMuNTQxNzY1Mzk5OTk5OTc0LCAtMjIuODc2NTA4Mzk5OTk5OTc3LCAwLjBdLCBbLTQzLjU0MTc1NzUsIC0yMi44NzY1NDg2OTk5OTk5NDQsIDAuMF0sIFstNDMuNTQxODE5Nzk5OTk5OTg1LCAtMjIuODc2NTU5MDk5OTk5OTUsIDAuMF0sIFstNDMuNTQxODI2Mzk5OTk5OTM0LCAtMjIuODc2NTI1Mzk5OTk5OTM1LCAwLjBdLCBbLTQzLjU0MTg2ODY5OTk5OTk1LCAtMjIuODc2NTMyNDk5OTk5OTQsIDAuMF0sIFstNDMuNTQxODgwNjk5OTk5OTgsIC0yMi44NzY0NzExOTk5OTk5NywgMC4wXSwgWy00My41NDE4NTcxOTk5OTk5OCwgLTIyLjg3NjQ2NzI5OTk5OTk0NSwgMC4wXSwgWy00My41NDE4NzM3OTk5OTk5NiwgLTIyLjg3NjM4MjU5OTk5OTk0MywgMC4wXV1dLCAidHlwZSI6ICJQb2x5Z29uIn0sICJpZCI6ICIxIiwgInByb3BlcnRpZXMiOiB7fSwgInR5cGUiOiAiRmVhdHVyZSJ9LCB7ImJib3giOiBbLTQzLjU0MjU2OTg3NjQ0NDExLCAtMjIuODc2MTk1Nzk5OTk5OTQ4LCAtNDMuNTQyNTM2MTQzNzQzNzcsIC0yMi44NzYxOTExMzY5NzMyNDRdLCAiZ2VvbWV0cnkiOiB7ImNvb3JkaW5hdGVzIjogW1tbLTQzLjU0MjUzNjE0Mzc0Mzc3LCAtMjIuODc2MTkxMTM2OTczMjQ0LCAwLjBdLCBbLTQzLjU0MjU2OTEsIC0yMi44NzYxOTU3OTk5OTk5NDgsIDAuMF0sIFstNDMuNTQyNTY5ODc2NDQ0MTEsIC0yMi44NzYxOTExMzY5NzMyNDQsIDAuMF0sIFstNDMuNTQyNTM2MTQzNzQzNzcsIC0yMi44NzYxOTExMzY5NzMyNDQsIDAuMF1dXSwgInR5cGUiOiAiUG9seWdvbiJ9LCAiaWQiOiAiMiIsICJwcm9wZXJ0aWVzIjoge30sICJ0eXBlIjogIkZlYXR1cmUifSwgeyJiYm94IjogWy00My41NDIyMjQsIC0yMi44NzcyNjYyOTk5OTk5NzQsIC00My41NDIxNDgyOTk5OTk5NSwgLTIyLjg3NzE1NDM5OTk5OTkzOF0sICJnZW9tZXRyeSI6IHsiY29vcmRpbmF0ZXMiOiBbW1stNDMuNTQyMjI0LCAtMjIuODc3MTYyMiwgMC4wXSwgWy00My41NDIxNjQxOTk5OTk5NDUsIC0yMi44NzcxNTQzOTk5OTk5MzgsIDAuMF0sIFstNDMuNTQyMTQ4Mjk5OTk5OTUsIC0yMi44NzcyNTg0OTk5OTk5ODIsIDAuMF0sIFstNDMuNTQyMjA4MDk5OTk5OTgsIC0yMi44NzcyNjYyOTk5OTk5NzQsIDAuMF0sIFstNDMuNTQyMjI0LCAtMjIuODc3MTYyMiwgMC4wXV1dLCAidHlwZSI6ICJQb2x5Z29uIn0sICJpZCI6ICIzIiwgInByb3BlcnRpZXMiOiB7fSwgInR5cGUiOiAiRmVhdHVyZSJ9LCB7ImJib3giOiBbLTQzLjU0MjA0OTc5OTk5OTk3LCAtMjIuODc2ODAzLCAtNDMuNTQxOTc1Njk5OTk5OTY2LCAtMjIuODc2Njg4NTk5OTk5OTY2XSwgImdlb21ldHJ5IjogeyJjb29yZGluYXRlcyI6IFtbWy00My41NDIwNDk3OTk5OTk5NywgLTIyLjg3NjY5NTI5OTk5OTkzOCwgMC4wXSwgWy00My41NDE5OSwgLTIyLjg3NjY4ODU5OTk5OTk2NiwgMC4wXSwgWy00My41NDE5NzU2OTk5OTk5NjYsIC0yMi44NzY3OTYyOTk5OTk5NjcsIDAuMF0sIFstNDMuNTQyMDM1Mzk5OTk5OTc1LCAtMjIuODc2ODAzLCAwLjBdLCBbLTQzLjU0MjA0OTc5OTk5OTk3LCAtMjIuODc2Njk1Mjk5OTk5OTM4LCAwLjBdXV0sICJ0eXBlIjogIlBvbHlnb24ifSwgImlkIjogIjQiLCAicHJvcGVydGllcyI6IHt9LCAidHlwZSI6ICJGZWF0dXJlIn0sIHsiYmJveCI6IFstNDMuNTQyMDA1OCwgLTIyLjg3NjU0NTI5OTk5OTk3NSwgLTQzLjU0MTkyNywgLTIyLjg3NjQzMTA5OTk5OTkzNF0sICJnZW9tZXRyeSI6IHsiY29vcmRpbmF0ZXMiOiBbW1stNDMuNTQyMDA1OCwgLTIyLjg3NjQ0MTI5OTk5OTk1NCwgMC4wXSwgWy00My41NDE5NDg3OTk5OTk5NCwgLTIyLjg3NjQzMTA5OTk5OTkzNCwgMC4wXSwgWy00My41NDE5MjcsIC0yMi44NzY1MzUwOTk5OTk5NTUsIDAuMF0sIFstNDMuNTQxOTgzODk5OTk5OTM0LCAtMjIuODc2NTQ1Mjk5OTk5OTc1LCAwLjBdLCBbLTQzLjU0MjAwNTgsIC0yMi44NzY0NDEyOTk5OTk5NTQsIDAuMF1dXSwgInR5cGUiOiAiUG9seWdvbiJ9LCAiaWQiOiAiNSIsICJwcm9wZXJ0aWVzIjoge30sICJ0eXBlIjogIkZlYXR1cmUifSwgeyJiYm94IjogWy00My41NDIxNzk3OTk5OTk5ODUsIC0yMi44NzY1NTAzOTk5OTk5MywgLTQzLjU0MjEwNDE5OTk5OTk4LCAtMjIuODc2NDM4MDk5OTk5OTczXSwgImdlb21ldHJ5IjogeyJjb29yZGluYXRlcyI6IFtbWy00My41NDIxNzk3OTk5OTk5ODUsIC0yMi44NzY0NDYyOTk5OTk5NCwgMC4wXSwgWy00My41NDIxMjE1OTk5OTk5NywgLTIyLjg3NjQzODA5OTk5OTk3MywgMC4wXSwgWy00My41NDIxMDQxOTk5OTk5OCwgLTIyLjg3NjU0MjIsIDAuMF0sIFstNDMuNTQyMTYyMzk5OTk5OTQsIC0yMi44NzY1NTAzOTk5OTk5MywgMC4wXSwgWy00My41NDIxNzk3OTk5OTk5ODUsIC0yMi44NzY0NDYyOTk5OTk5NCwgMC4wXV1dLCAidHlwZSI6ICJQb2x5Z29uIn0sICJpZCI6ICI2IiwgInByb3BlcnRpZXMiOiB7fSwgInR5cGUiOiAiRmVhdHVyZSJ9LCB7ImJib3giOiBbLTQzLjU0MjY5NDU5OTk5OTk1LCAtMjIuODc3OTIsIC00My41NDI1ODksIC0yMi44Nzc4NDhdLCAiZ2VvbWV0cnkiOiB7ImNvb3JkaW5hdGVzIjogW1tbLTQzLjU0MjY5NDU5OTk5OTk1LCAtMjIuODc3ODU4Njk5OTk5OTMzLCAwLjBdLCBbLTQzLjU0MjU5NywgLTIyLjg3Nzg0OCwgMC4wXSwgWy00My41NDI1ODksIC0yMi44Nzc5MDkyOTk5OTk5NDIsIDAuMF0sIFstNDMuNTQyNjg2NTk5OTk5OTcsIC0yMi44Nzc5MiwgMC4wXSwgWy00My41NDI2OTQ1OTk5OTk5NSwgLTIyLjg3Nzg1ODY5OTk5OTkzMywgMC4wXV1dLCAidHlwZSI6ICJQb2x5Z29uIn0sICJpZCI6ICI3IiwgInByb3BlcnRpZXMiOiB7fSwgInR5cGUiOiAiRmVhdHVyZSJ9LCB7ImJib3giOiBbLTQzLjU0MjAzMDY5OTk5OTk0LCAtMjIuODc3NDE0LCAtNDMuNTQxOTUxMDk5OTk5OTUsIC0yMi44NzcyNjcwOTk5OTk5ODNdLCAiZ2VvbWV0cnkiOiB7ImNvb3JkaW5hdGVzIjogW1tbLTQzLjU0MjAzMDY5OTk5OTk0LCAtMjIuODc3Mjc0ODk5OTk5OTc1LCAwLjBdLCBbLTQzLjU0MTk3MzQ5OTk5OTk4LCAtMjIuODc3MjY3MDk5OTk5OTgzLCAwLjBdLCBbLTQzLjU0MTk1MTA5OTk5OTk1LCAtMjIuODc3NDA2MDk5OTk5OTczLCAwLjBdLCBbLTQzLjU0MjAwODE5OTk5OTk0LCAtMjIuODc3NDE0LCAwLjBdLCBbLTQzLjU0MjAzMDY5OTk5OTk0LCAtMjIuODc3Mjc0ODk5OTk5OTc1LCAwLjBdXV0sICJ0eXBlIjogIlBvbHlnb24ifSwgImlkIjogIjgiLCAicHJvcGVydGllcyI6IHt9LCAidHlwZSI6ICJGZWF0dXJlIn0sIHsiYmJveCI6IFstNDMuNTQyOTk3ODk5OTk5OTMsIC0yMi44Nzc4ODYyOTk5OTk5NDMsIC00My41NDI4OTUxOTk5OTk5NzUsIC0yMi44Nzc4MTIwOTk5OTk5N10sICJnZW9tZXRyeSI6IHsiY29vcmRpbmF0ZXMiOiBbW1stNDMuNTQyOTkwOSwgLTIyLjg3Nzg4NjI5OTk5OTk0MywgMC4wXSwgWy00My41NDI5OTc4OTk5OTk5MywgLTIyLjg3NzgyMDc5OTk5OTkzOCwgMC4wXSwgWy00My41NDI5MDIxOTk5OTk5NiwgLTIyLjg3NzgxMjA5OTk5OTk3LCAwLjBdLCBbLTQzLjU0Mjg5NTE5OTk5OTk3NSwgLTIyLjg3Nzg3NzU5OTk5OTk3NywgMC4wXSwgWy00My41NDI5OTA5LCAtMjIuODc3ODg2Mjk5OTk5OTQzLCAwLjBdXV0sICJ0eXBlIjogIlBvbHlnb24ifSwgImlkIjogIjkiLCAicHJvcGVydGllcyI6IHt9LCAidHlwZSI6ICJGZWF0dXJlIn0sIHsiYmJveCI6IFstNDMuNTQyNTE0Mzk5OTk5OTYsIC0yMi44NzgwMDg2OTk5OTk5NTMsIC00My41NDI0MTQxOTk5OTk5NCwgLTIyLjg3NzkxMzA5OTk5OTk0NF0sICJnZW9tZXRyeSI6IHsiY29vcmRpbmF0ZXMiOiBbW1stNDMuNTQyNTA4MTk5OTk5OTMsIC0yMi44NzgwMDg2OTk5OTk5NTMsIDAuMF0sIFstNDMuNTQyNTE0Mzk5OTk5OTYsIC0yMi44Nzc5MTg2LCAwLjBdLCBbLTQzLjU0MjQyMDM5OTk5OTk3LCAtMjIuODc3OTEzMDk5OTk5OTQ0LCAwLjBdLCBbLTQzLjU0MjQxNDE5OTk5OTk0LCAtMjIuODc4MDAzMTk5OTk5OTY2LCAwLjBdLCBbLTQzLjU0MjUwODE5OTk5OTkzLCAtMjIuODc4MDA4Njk5OTk5OTUzLCAwLjBdXV0sICJ0eXBlIjogIlBvbHlnb24ifSwgImlkIjogIjEwIiwgInByb3BlcnRpZXMiOiB7fSwgInR5cGUiOiAiRmVhdHVyZSJ9LCB7ImJib3giOiBbLTQzLjU0MjE4NjE5OTk5OTk0NiwgLTIyLjg3NzQzNjE5OTk5OTk3NywgLTQzLjU0MjExNDQ5OTk5OTk3LCAtMjIuODc3MzIyNDk5OTk5OTM0XSwgImdlb21ldHJ5IjogeyJjb29yZGluYXRlcyI6IFtbWy00My41NDIxODYxOTk5OTk5NDYsIC0yMi44NzczMjkxOTk5OTk5NjMsIDAuMF0sIFstNDMuNTQyMTI5NTk5OTk5OTUsIC0yMi44NzczMjI0OTk5OTk5MzQsIDAuMF0sIFstNDMuNTQyMTE0NDk5OTk5OTcsIC0yMi44Nzc0MjkzOTk5OTk5ODMsIDAuMF0sIFstNDMuNTQyMTcxMDk5OTk5OTYsIC0yMi44Nzc0MzYxOTk5OTk5NzcsIDAuMF0sIFstNDMuNTQyMTg2MTk5OTk5OTQ2LCAtMjIuODc3MzI5MTk5OTk5OTYzLCAwLjBdXV0sICJ0eXBlIjogIlBvbHlnb24ifSwgImlkIjogIjExIiwgInByb3BlcnRpZXMiOiB7fSwgInR5cGUiOiAiRmVhdHVyZSJ9LCB7ImJib3giOiBbLTQzLjU0MzE1Mzg5OTk5OTkzNiwgLTIyLjg3NzU0NywgLTQzLjU0MzA2NTE5OTk5OTk0NCwgLTIyLjg3NzQwODI5OTk5OTk1Nl0sICJnZW9tZXRyeSI6IHsiY29vcmRpbmF0ZXMiOiBbW1stNDMuNTQzMTUzODk5OTk5OTM2LCAtMjIuODc3NDE4MDk5OTk5OTQzLCAwLjBdLCBbLTQzLjU0MzA5MzQ5OTk5OTk0LCAtMjIuODc3NDA4Mjk5OTk5OTU2LCAwLjBdLCBbLTQzLjU0MzA2NTE5OTk5OTk0NCwgLTIyLjg3NzUzNSwgMC4wXSwgWy00My41NDMxMzU4OTk5OTk5OCwgLTIyLjg3NzU0NywgMC4wXSwgWy00My41NDMxNTM4OTk5OTk5MzYsIC0yMi44Nzc0MTgwOTk5OTk5NDMsIDAuMF1dXSwgInR5cGUiOiAiUG9seWdvbiJ9LCAiaWQiOiAiMTIiLCAicHJvcGVydGllcyI6IHt9LCAidHlwZSI6ICJGZWF0dXJlIn0sIHsiYmJveCI6IFstNDMuNTQzMTQ3Njk5OTk5OTYsIC0yMi44NzgwMTUxMzA1OTA3ODIsIC00My41NDMwMzk4ODMyMjQ5MSwgLTIyLjg3Nzk4MjE5OTk5OTk2M10sICJnZW9tZXRyeSI6IHsiY29vcmRpbmF0ZXMiOiBbW1stNDMuNTQzMTQ0ODQ2NTkyMjM0LCAtMjIuODc4MDE1MTMwNTkwNzgyLCAwLjBdLCBbLTQzLjU0MzE0NzY5OTk5OTk2LCAtMjIuODc3OTk0NDk5OTk5OTQzLCAwLjBdLCBbLTQzLjU0MzA0NDQ5OTk5OTk1LCAtMjIuODc3OTgyMTk5OTk5OTYzLCAwLjBdLCBbLTQzLjU0MzAzOTg4MzIyNDkxLCAtMjIuODc4MDE1MTMwNTkwNzgyLCAwLjBdLCBbLTQzLjU0MzE0NDg0NjU5MjIzNCwgLTIyLjg3ODAxNTEzMDU5MDc4MiwgMC4wXV1dLCAidHlwZSI6ICJQb2x5Z29uIn0sICJpZCI6ICIxMyIsICJwcm9wZXJ0aWVzIjoge30sICJ0eXBlIjogIkZlYXR1cmUifSwgeyJiYm94IjogWy00My41NDE3ODkxLCAtMjIuODc2Nzc1ODk5OTk5OTI3LCAtNDMuNTQxNzE0NTk5OTk5OTgsIC0yMi44NzY2NzM1OTk5OTk5NDddLCAiZ2VvbWV0cnkiOiB7ImNvb3JkaW5hdGVzIjogW1tbLTQzLjU0MTc4OTEsIC0yMi44NzY2ODEzOTk5OTk5NCwgMC4wXSwgWy00My41NDE3MjkxOTk5OTk5NiwgLTIyLjg3NjY3MzU5OTk5OTk0NywgMC4wXSwgWy00My41NDE3MTQ1OTk5OTk5OCwgLTIyLjg3Njc2OCwgMC4wXSwgWy00My41NDE3NzQ0OTk5OTk5NzQsIC0yMi44NzY3NzU4OTk5OTk5MjcsIDAuMF0sIFstNDMuNTQxNzg5MSwgLTIyLjg3NjY4MTM5OTk5OTk0LCAwLjBdXV0sICJ0eXBlIjogIlBvbHlnb24ifSwgImlkIjogIjE0IiwgInByb3BlcnRpZXMiOiB7fSwgInR5cGUiOiAiRmVhdHVyZSJ9LCB7ImJib3giOiBbLTQzLjU0MjU0NDI5OTk5OTk3NSwgLTIyLjg3Nzg5NjY5OTk5OTk1LCAtNDMuNTQyNDQyNTk5OTk5OTYsIC0yMi44Nzc4MTg2OTk5OTk5NzhdLCAiZ2VvbWV0cnkiOiB7ImNvb3JkaW5hdGVzIjogW1tbLTQzLjU0MjUzODQ5OTk5OTk4LCAtMjIuODc3ODk2Njk5OTk5OTUsIDAuMF0sIFstNDMuNTQyNTQ0Mjk5OTk5OTc1LCAtMjIuODc3ODI1Mzk5OTk5OTUsIDAuMF0sIFstNDMuNTQyNDQ4NDk5OTk5OTgsIC0yMi44Nzc4MTg2OTk5OTk5NzgsIDAuMF0sIFstNDMuNTQyNDQyNTk5OTk5OTYsIC0yMi44Nzc4OSwgMC4wXSwgWy00My41NDI1Mzg0OTk5OTk5OCwgLTIyLjg3Nzg5NjY5OTk5OTk1LCAwLjBdXV0sICJ0eXBlIjogIlBvbHlnb24ifSwgImlkIjogIjE1IiwgInByb3BlcnRpZXMiOiB7fSwgInR5cGUiOiAiRmVhdHVyZSJ9LCB7ImJib3giOiBbLTQzLjU0MTgwOTM5OTk5OTk4LCAtMjIuODc3MjEyNiwgLTQzLjU0MTcyODgsIC0yMi44NzcxMDQ0OTk5OTk5NzNdLCAiZ2VvbWV0cnkiOiB7ImNvb3JkaW5hdGVzIjogW1tbLTQzLjU0MTgwOTM5OTk5OTk4LCAtMjIuODc3MTE0MywgMC4wXSwgWy00My41NDE3NDcwOTk5OTk5NSwgLTIyLjg3NzEwNDQ5OTk5OTk3MywgMC4wXSwgWy00My41NDE3Mjg4LCAtMjIuODc3MjAyNzk5OTk5OTY0LCAwLjBdLCBbLTQzLjU0MTc5MTE5OTk5OTk4LCAtMjIuODc3MjEyNiwgMC4wXSwgWy00My41NDE4MDkzOTk5OTk5OCwgLTIyLjg3NzExNDMsIDAuMF1dXSwgInR5cGUiOiAiUG9seWdvbiJ9LCAiaWQiOiAiMTYiLCAicHJvcGVydGllcyI6IHt9LCAidHlwZSI6ICJGZWF0dXJlIn0sIHsiYmJveCI6IFstNDMuNTQyMTA5ODk5OTk5OTYsIC0yMi44NzYzOTgzOTk5OTk5NywgLTQzLjU0MjAzMzQ5OTk5OTk0NSwgLTIyLjg3NjI5MTM5OTk5OTk1N10sICJnZW9tZXRyeSI6IHsiY29vcmRpbmF0ZXMiOiBbW1stNDMuNTQyMTA5ODk5OTk5OTYsIC0yMi44NzYzLCAwLjBdLCBbLTQzLjU0MjA1MDA5OTk5OTk4LCAtMjIuODc2MjkxMzk5OTk5OTU3LCAwLjBdLCBbLTQzLjU0MjAzMzQ5OTk5OTk0NSwgLTIyLjg3NjM4OTgsIDAuMF0sIFstNDMuNTQyMDkzMTk5OTk5OTU0LCAtMjIuODc2Mzk4Mzk5OTk5OTcsIDAuMF0sIFstNDMuNTQyMTA5ODk5OTk5OTYsIC0yMi44NzYzLCAwLjBdXV0sICJ0eXBlIjogIlBvbHlnb24ifSwgImlkIjogIjE3IiwgInByb3BlcnRpZXMiOiB7fSwgInR5cGUiOiAiRmVhdHVyZSJ9LCB7ImJib3giOiBbLTQzLjU0MjI3NTg5OTk5OTkzNiwgLTIyLjg3NjQxMjE5OTk5OTk0NywgLTQzLjU0MjIwNzU5OTk5OTk4LCAtMjIuODc2MzA4Njk5OTk5OThdLCAiZ2VvbWV0cnkiOiB7ImNvb3JkaW5hdGVzIjogW1tbLTQzLjU0MjI3NTg5OTk5OTkzNiwgLTIyLjg3NjMxMzY5OTk5OTk3LCAwLjBdLCBbLTQzLjU0MjIxNzQsIC0yMi44NzYzMDg2OTk5OTk5OCwgMC4wXSwgWy00My41NDIyMDc1OTk5OTk5OCwgLTIyLjg3NjQwNzIsIDAuMF0sIFstNDMuNTQyMjY2MDk5OTk5OTUsIC0yMi44NzY0MTIxOTk5OTk5NDcsIDAuMF0sIFstNDMuNTQyMjc1ODk5OTk5OTM2LCAtMjIuODc2MzEzNjk5OTk5OTcsIDAuMF1dXSwgInR5cGUiOiAiUG9seWdvbiJ9LCAiaWQiOiAiMTgiLCAicHJvcGVydGllcyI6IHt9LCAidHlwZSI6ICJGZWF0dXJlIn0sIHsiYmJveCI6IFstNDMuNTQxNzU2ODk5OTk5OTQsIC0yMi44NzY5NDc1OTk5OTk5MzcsIC00My41NDE2ODMzOTk5OTk5NTQsIC0yMi44NzY4NDM2OTk5OTk5MzhdLCAiZ2VvbWV0cnkiOiB7ImNvb3JkaW5hdGVzIjogW1tbLTQzLjU0MTc1Njg5OTk5OTk0LCAtMjIuODc2ODUxLCAwLjBdLCBbLTQzLjU0MTY5NzM5OTk5OTk3NSwgLTIyLjg3Njg0MzY5OTk5OTkzOCwgMC4wXSwgWy00My41NDE2ODMzOTk5OTk5NTQsIC0yMi44NzY5NDAyOTk5OTk5NDQsIDAuMF0sIFstNDMuNTQxNzQzLCAtMjIuODc2OTQ3NTk5OTk5OTM3LCAwLjBdLCBbLTQzLjU0MTc1Njg5OTk5OTk0LCAtMjIuODc2ODUxLCAwLjBdXV0sICJ0eXBlIjogIlBvbHlnb24ifSwgImlkIjogIjE5IiwgInByb3BlcnRpZXMiOiB7fSwgInR5cGUiOiAiRmVhdHVyZSJ9LCB7ImJib3giOiBbLTQzLjU0MTg0NTY5OTk5OTk1LCAtMjIuODc2OTY3MDk5OTk5OTQ1LCAtNDMuNTQxNzY2LCAtMjIuODc2ODUxOF0sICJnZW9tZXRyeSI6IHsiY29vcmRpbmF0ZXMiOiBbW1stNDMuNTQxODQ1Njk5OTk5OTUsIC0yMi44NzY4NjAxOTk5OTk5NTMsIDAuMF0sIFstNDMuNTQxNzgyNjk5OTk5OTQsIC0yMi44NzY4NTE4LCAwLjBdLCBbLTQzLjU0MTc2NiwgLTIyLjg3Njk1ODc5OTk5OTk1NCwgMC4wXSwgWy00My41NDE4MjkwOTk5OTk5NywgLTIyLjg3Njk2NzA5OTk5OTk0NSwgMC4wXSwgWy00My41NDE4NDU2OTk5OTk5NSwgLTIyLjg3Njg2MDE5OTk5OTk1MywgMC4wXV1dLCAidHlwZSI6ICJQb2x5Z29uIn0sICJpZCI6ICIyMCIsICJwcm9wZXJ0aWVzIjoge30sICJ0eXBlIjogIkZlYXR1cmUifSwgeyJiYm94IjogWy00My41NDE2OTczOTk5OTk5NzUsIC0yMi44NzczNzMwOTk5OTk5NDMsIC00My41NDE2NTMzNDEzNTM2NCwgLTIyLjg3NzI1MjQ0MTY1MTgyXSwgImdlb21ldHJ5IjogeyJjb29yZGluYXRlcyI6IFtbWy00My41NDE2OTczOTk5OTk5NzUsIC0yMi44NzcyNTksIDAuMF0sIFstNDMuNTQxNjUzMzQxMzUzNjQsIC0yMi44NzcyNTI0NDE2NTE4MiwgMC4wXSwgWy00My41NDE2NTMzNDEzNTM2NCwgLTIyLjg3NzM2OTUxODc1MTA2MywgMC4wXSwgWy00My41NDE2NzczOTk5OTk5NywgLTIyLjg3NzM3MzA5OTk5OTk0MywgMC4wXSwgWy00My41NDE2OTczOTk5OTk5NzUsIC0yMi44NzcyNTksIDAuMF1dXSwgInR5cGUiOiAiUG9seWdvbiJ9LCAiaWQiOiAiMjEiLCAicHJvcGVydGllcyI6IHt9LCAidHlwZSI6ICJGZWF0dXJlIn0sIHsiYmJveCI6IFstNDMuNTQxODkyMiwgLTIyLjg3NzIyMTQ5OTk5OTk2MiwgLTQzLjU0MTgxNDU5OTk5OTk1LCAtMjIuODc3MTEyODk5OTk5OTNdLCAiZ2VvbWV0cnkiOiB7ImNvb3JkaW5hdGVzIjogW1tbLTQzLjU0MTg5MjIsIC0yMi44NzcxMjEzOTk5OTk5NjUsIDAuMF0sIFstNDMuNTQxODMxMjk5OTk5OTU2LCAtMjIuODc3MTEyODk5OTk5OTMsIDAuMF0sIFstNDMuNTQxODE0NTk5OTk5OTUsIC0yMi44NzcyMTI4OTk5OTk5NiwgMC4wXSwgWy00My41NDE4NzU0OTk5OTk5NDYsIC0yMi44NzcyMjE0OTk5OTk5NjIsIDAuMF0sIFstNDMuNTQxODkyMiwgLTIyLjg3NzEyMTM5OTk5OTk2NSwgMC4wXV1dLCAidHlwZSI6ICJQb2x5Z29uIn0sICJpZCI6ICIyMiIsICJwcm9wZXJ0aWVzIjoge30sICJ0eXBlIjogIkZlYXR1cmUifSwgeyJiYm94IjogWy00My41NDIwNTc3OTk5OTk5NSwgLTIyLjg3NzI0NywgLTQzLjU0MTk4MzA5OTk5OTk4LCAtMjIuODc3MTMwNzk5OTk5OTc1XSwgImdlb21ldHJ5IjogeyJjb29yZGluYXRlcyI6IFtbWy00My41NDIwNTc3OTk5OTk5NSwgLTIyLjg3NzEzOTI5OTk5OTk1MywgMC4wXSwgWy00My41NDIwMDI0OTk5OTk5NywgLTIyLjg3NzEzMDc5OTk5OTk3NSwgMC4wXSwgWy00My41NDE5ODMwOTk5OTk5OCwgLTIyLjg3NzIzODU5OTk5OTk0LCAwLjBdLCBbLTQzLjU0MjAzODM5OTk5OTk3LCAtMjIuODc3MjQ3LCAwLjBdLCBbLTQzLjU0MjA1Nzc5OTk5OTk1LCAtMjIuODc3MTM5Mjk5OTk5OTUzLCAwLjBdXV0sICJ0eXBlIjogIlBvbHlnb24ifSwgImlkIjogIjIzIiwgInByb3BlcnRpZXMiOiB7fSwgInR5cGUiOiAiRmVhdHVyZSJ9LCB7ImJib3giOiBbLTQzLjU0MzYyMTc5NjM4MTgxNCwgLTIyLjg3NzgwNDgxOTgxODIxNiwgLTQzLjU0MzYwMDQ5OTk5OTk3LCAtMjIuODc3NzI1OTcxNjU1Mzc2XSwgImdlb21ldHJ5IjogeyJjb29yZGluYXRlcyI6IFtbWy00My41NDM2MjE3OTYzODE4MTQsIC0yMi44Nzc3MjU5NzE2NTUzNzYsIDAuMF0sIFstNDMuNTQzNjAwNDk5OTk5OTcsIC0yMi44Nzc3OTk1OTk5OTk5NDYsIDAuMF0sIFstNDMuNTQzNjIxNzk2MzgxODE0LCAtMjIuODc3ODA0ODE5ODE4MjE2LCAwLjBdLCBbLTQzLjU0MzYyMTc5NjM4MTgxNCwgLTIyLjg3NzcyNTk3MTY1NTM3NiwgMC4wXV1dLCAidHlwZSI6ICJQb2x5Z29uIn0sICJpZCI6ICIyNCIsICJwcm9wZXJ0aWVzIjoge30sICJ0eXBlIjogIkZlYXR1cmUifSwgeyJiYm94IjogWy00My41NDIxOTUzOTk5OTk5NywgLTIyLjg3NjQwNTY5OTk5OTk2NCwgLTQzLjU0MjEyMjA5OTk5OTk3LCAtMjIuODc2Mjk2NDk5OTk5OTY3XSwgImdlb21ldHJ5IjogeyJjb29yZGluYXRlcyI6IFtbWy00My41NDIxOTUzOTk5OTk5NywgLTIyLjg3NjMwMjg5OTk5OTkyOCwgMC4wXSwgWy00My41NDIxMzUsIC0yMi44NzYyOTY0OTk5OTk5NjcsIDAuMF0sIFstNDMuNTQyMTIyMDk5OTk5OTcsIC0yMi44NzYzOTkyLCAwLjBdLCBbLTQzLjU0MjE4MjQ5OTk5OTk3LCAtMjIuODc2NDA1Njk5OTk5OTY0LCAwLjBdLCBbLTQzLjU0MjE5NTM5OTk5OTk3LCAtMjIuODc2MzAyODk5OTk5OTI4LCAwLjBdXV0sICJ0eXBlIjogIlBvbHlnb24ifSwgImlkIjogIjI1IiwgInByb3BlcnRpZXMiOiB7fSwgInR5cGUiOiAiRmVhdHVyZSJ9LCB7ImJib3giOiBbLTQzLjU0Mjk5NDU5OTk5OTk4NiwgLTIyLjg3Nzk5NjYsIC00My41NDI4Nzc3OTk5OTk5ODUsIC0yMi44Nzc5MTE4OTk5OTk5NThdLCAiZ2VvbWV0cnkiOiB7ImNvb3JkaW5hdGVzIjogW1tbLTQzLjU0Mjk4MjE5OTk5OTk4LCAtMjIuODc3OTk2NiwgMC4wXSwgWy00My41NDI5OTQ1OTk5OTk5ODYsIC0yMi44Nzc5MjgsIDAuMF0sIFstNDMuNTQyODkwMTk5OTk5OTMsIC0yMi44Nzc5MTE4OTk5OTk5NTgsIDAuMF0sIFstNDMuNTQyODc3Nzk5OTk5OTg1LCAtMjIuODc3OTgwNDk5OTk5OTgsIDAuMF0sIFstNDMuNTQyOTgyMTk5OTk5OTgsIC0yMi44Nzc5OTY2LCAwLjBdXV0sICJ0eXBlIjogIlBvbHlnb24ifSwgImlkIjogIjI2IiwgInByb3BlcnRpZXMiOiB7fSwgInR5cGUiOiAiRmVhdHVyZSJ9LCB7ImJib3giOiBbLTQzLjU0MTk3NjM5OTk5OTk1LCAtMjIuODc3MjUxODk5OTk5OTc2LCAtNDMuNTQxODk2Mzk5OTk5OTg1LCAtMjIuODc3MTIyXSwgImdlb21ldHJ5IjogeyJjb29yZGluYXRlcyI6IFtbWy00My41NDE5NzYzOTk5OTk5NSwgLTIyLjg3NzEzLCAwLjBdLCBbLTQzLjU0MTkxNTE5OTk5OTk1LCAtMjIuODc3MTIyLCAwLjBdLCBbLTQzLjU0MTg5NjM5OTk5OTk4NSwgLTIyLjg3NzI0Mzg5OTk5OTk0LCAwLjBdLCBbLTQzLjU0MTk1NzU5OTk5OTkzLCAtMjIuODc3MjUxODk5OTk5OTc2LCAwLjBdLCBbLTQzLjU0MTk3NjM5OTk5OTk1LCAtMjIuODc3MTMsIDAuMF1dXSwgInR5cGUiOiAiUG9seWdvbiJ9LCAiaWQiOiAiMjciLCAicHJvcGVydGllcyI6IHt9LCAidHlwZSI6ICJGZWF0dXJlIn0sIHsiYmJveCI6IFstNDMuNTQyMTQxMjk5OTk5OTcsIC0yMi44NzcyNTUxOTk5OTk5OCwgLTQzLjU0MjA1OTQ5OTk5OTk0LCAtMjIuODc3MTQ2Mjk5OTk5OTM2XSwgImdlb21ldHJ5IjogeyJjb29yZGluYXRlcyI6IFtbWy00My41NDIxNDEyOTk5OTk5NywgLTIyLjg3NzE1NSwgMC4wXSwgWy00My41NDIwNzUwOTk5OTk5OCwgLTIyLjg3NzE0NjI5OTk5OTkzNiwgMC4wXSwgWy00My41NDIwNTk0OTk5OTk5NCwgLTIyLjg3NzI0NjM5OTk5OTkzMywgMC4wXSwgWy00My41NDIxMjU2OTk5OTk5ODUsIC0yMi44NzcyNTUxOTk5OTk5OCwgMC4wXSwgWy00My41NDIxNDEyOTk5OTk5NywgLTIyLjg3NzE1NSwgMC4wXV1dLCAidHlwZSI6ICJQb2x5Z29uIn0sICJpZCI6ICIyOCIsICJwcm9wZXJ0aWVzIjoge30sICJ0eXBlIjogIkZlYXR1cmUifSwgeyJiYm94IjogWy00My41NDE4NjEyOTk5OTk5NCwgLTIyLjg3NzM4OTY5OTk5OTk4LCAtNDMuNTQxNzg3Mjk5OTk5OTUsIC0yMi44NzcyNTc0OTk5OTk5MjhdLCAiZ2VvbWV0cnkiOiB7ImNvb3JkaW5hdGVzIjogW1tbLTQzLjU0MTg2MTI5OTk5OTk0LCAtMjIuODc3MjY0MTk5OTk5OTU2LCAwLjBdLCBbLTQzLjU0MTgwNDg5OTk5OTkzLCAtMjIuODc3MjU3NDk5OTk5OTI4LCAwLjBdLCBbLTQzLjU0MTc4NzI5OTk5OTk1LCAtMjIuODc3MzgzLCAwLjBdLCBbLTQzLjU0MTg0MzY5OTk5OTk2LCAtMjIuODc3Mzg5Njk5OTk5OTgsIDAuMF0sIFstNDMuNTQxODYxMjk5OTk5OTQsIC0yMi44NzcyNjQxOTk5OTk5NTYsIDAuMF1dXSwgInR5cGUiOiAiUG9seWdvbiJ9LCAiaWQiOiAiMjkiLCAicHJvcGVydGllcyI6IHt9LCAidHlwZSI6ICJGZWF0dXJlIn0sIHsiYmJveCI6IFstNDMuNTQyMDk1Njk5OTk5OTUsIC0yMi44NzY1NDg4OTk5OTk5MzIsIC00My41NDIwMTYzOTk5OTk5NjYsIC0yMi44NzY0MzI4OTk5OTk5NF0sICJnZW9tZXRyeSI6IHsiY29vcmRpbmF0ZXMiOiBbW1stNDMuNTQyMDk1Njk5OTk5OTUsIC0yMi44NzY0NDI2OTk5OTk5MjcsIDAuMF0sIFstNDMuNTQyMDM3NDk5OTk5OTM1LCAtMjIuODc2NDMyODk5OTk5OTQsIDAuMF0sIFstNDMuNTQyMDE2Mzk5OTk5OTY2LCAtMjIuODc2NTM5MDk5OTk5OTQ1LCAwLjBdLCBbLTQzLjU0MjA3NDU5OTk5OTk4LCAtMjIuODc2NTQ4ODk5OTk5OTMyLCAwLjBdLCBbLTQzLjU0MjA5NTY5OTk5OTk1LCAtMjIuODc2NDQyNjk5OTk5OTI3LCAwLjBdXV0sICJ0eXBlIjogIlBvbHlnb24ifSwgImlkIjogIjMwIiwgInByb3BlcnRpZXMiOiB7fSwgInR5cGUiOiAiRmVhdHVyZSJ9LCB7ImJib3giOiBbLTQzLjU0MjI2MjQ5OTk5OTkzNiwgLTIyLjg3NjU2MiwgLTQzLjU0MjE5MTY5OTk5OTkzLCAtMjIuODc2NDQ3XSwgImdlb21ldHJ5IjogeyJjb29yZGluYXRlcyI6IFtbWy00My41NDIyNjI0OTk5OTk5MzYsIC0yMi44NzY0NTM0OTk5OTk5NywgMC4wXSwgWy00My41NDIyMDY3OTk5OTk5NzQsIC0yMi44NzY0NDcsIDAuMF0sIFstNDMuNTQyMTkxNjk5OTk5OTMsIC0yMi44NzY1NTUzOTk5OTk5NzIsIDAuMF0sIFstNDMuNTQyMjQ3Mzk5OTk5OTUsIC0yMi44NzY1NjIsIDAuMF0sIFstNDMuNTQyMjYyNDk5OTk5OTM2LCAtMjIuODc2NDUzNDk5OTk5OTcsIDAuMF1dXSwgInR5cGUiOiAiUG9seWdvbiJ9LCAiaWQiOiAiMzEiLCAicHJvcGVydGllcyI6IHt9LCAidHlwZSI6ICJGZWF0dXJlIn0sIHsiYmJveCI6IFstNDMuNTQyNjkxNjk5OTk5OTgsIC0yMi44NzgwMTUxMzA1OTA3ODIsIC00My41NDI1NzgyODgwNDYxMywgLTIyLjg3Nzk0MjI5OTk5OTk3Ml0sICJnZW9tZXRyeSI6IHsiY29vcmRpbmF0ZXMiOiBbW1stNDMuNTQyNjgyNjE2MDQ5NTMsIC0yMi44NzgwMTUxMzA1OTA3ODIsIDAuMF0sIFstNDMuNTQyNjkxNjk5OTk5OTgsIC0yMi44Nzc5NTU2OTk5OTk5NzMsIDAuMF0sIFstNDMuNTQyNTg5NDk5OTk5OTYsIC0yMi44Nzc5NDIyOTk5OTk5NzIsIDAuMF0sIFstNDMuNTQyNTc4Mjg4MDQ2MTMsIC0yMi44NzgwMTUxMzA1OTA3ODIsIDAuMF0sIFstNDMuNTQyNjgyNjE2MDQ5NTMsIC0yMi44NzgwMTUxMzA1OTA3ODIsIDAuMF1dXSwgInR5cGUiOiAiUG9seWdvbiJ9LCAiaWQiOiAiMzIiLCAicHJvcGVydGllcyI6IHt9LCAidHlwZSI6ICJGZWF0dXJlIn0sIHsiYmJveCI6IFstNDMuNTQzMjM3MDk5OTk5OTQsIC0yMi44Nzc5MzYwOTk5OTk5NDMsIC00My41NDMxNzg1OTk5OTk5NzYsIC0yMi44Nzc4Mzc3XSwgImdlb21ldHJ5IjogeyJjb29yZGluYXRlcyI6IFtbWy00My41NDMxOTQyOTk5OTk5OCwgLTIyLjg3NzgzNzcsIDAuMF0sIFstNDMuNTQzMTc4NTk5OTk5OTc2LCAtMjIuODc3OTMsIDAuMF0sIFstNDMuNTQzMjIxNDk5OTk5OTYsIC0yMi44Nzc5MzYwOTk5OTk5NDMsIDAuMF0sIFstNDMuNTQzMjM3MDk5OTk5OTQsIC0yMi44Nzc4NDM4OTk5OTk5NiwgMC4wXSwgWy00My41NDMxOTQyOTk5OTk5OCwgLTIyLjg3NzgzNzcsIDAuMF1dXSwgInR5cGUiOiAiUG9seWdvbiJ9LCAiaWQiOiAiMzMiLCAicHJvcGVydGllcyI6IHt9LCAidHlwZSI6ICJGZWF0dXJlIn0sIHsiYmJveCI6IFstNDMuNTQxOTQ3MDk5OTk5OTYsIC0yMi44NzczOTgyOTk5OTk5OCwgLTQzLjU0MTg3NSwgLTIyLjg3NzI2MjQ5OTk5OTk3Ml0sICJnZW9tZXRyeSI6IHsiY29vcmRpbmF0ZXMiOiBbW1stNDMuNTQxOTQ3MDk5OTk5OTYsIC0yMi44NzcyNjkxOTk5OTk5NDQsIDAuMF0sIFstNDMuNTQxODk0NDk5OTk5OTU1LCAtMjIuODc3MjYyNDk5OTk5OTcyLCAwLjBdLCBbLTQzLjU0MTg3NSwgLTIyLjg3NzM5MTU5OTk5OTk1MywgMC4wXSwgWy00My41NDE5Mjc1OTk5OTk5NSwgLTIyLjg3NzM5ODI5OTk5OTk4LCAwLjBdLCBbLTQzLjU0MTk0NzA5OTk5OTk2LCAtMjIuODc3MjY5MTk5OTk5OTQ0LCAwLjBdXV0sICJ0eXBlIjogIlBvbHlnb24ifSwgImlkIjogIjM0IiwgInByb3BlcnRpZXMiOiB7fSwgInR5cGUiOiAiRmVhdHVyZSJ9LCB7ImJib3giOiBbLTQzLjU0MzAwNSwgLTIyLjg3Nzc4MDc5OTk5OTk4MiwgLTQzLjU0Mjg5NDU5OTk5OTk1NCwgLTIyLjg3NzY2NDY5OTk5OTk3XSwgImdlb21ldHJ5IjogeyJjb29yZGluYXRlcyI6IFtbWy00My41NDMwMDUsIC0yMi44Nzc2ODE3OTk5OTk5NDgsIDAuMF0sIFstNDMuNTQyOTE3Mjk5OTk5OTQsIC0yMi44Nzc2NjQ2OTk5OTk5NywgMC4wXSwgWy00My41NDI4OTQ1OTk5OTk5NTQsIC0yMi44Nzc3NjM2OTk5OTk5NDYsIDAuMF0sIFstNDMuNTQyOTgyMjk5OTk5OTUsIC0yMi44Nzc3ODA3OTk5OTk5ODIsIDAuMF0sIFstNDMuNTQzMDA1LCAtMjIuODc3NjgxNzk5OTk5OTQ4LCAwLjBdXV0sICJ0eXBlIjogIlBvbHlnb24ifSwgImlkIjogIjM1IiwgInByb3BlcnRpZXMiOiB7fSwgInR5cGUiOiAiRmVhdHVyZSJ9LCB7ImJib3giOiBbLTQzLjU0MjEwOTc5OTk5OTkzNSwgLTIyLjg3NzQzMzMsIC00My41NDIwMzQ3OTk5OTk5NSwgLTIyLjg3NzI4OTc5OTk5OTk3XSwgImdlb21ldHJ5IjogeyJjb29yZGluYXRlcyI6IFtbWy00My41NDIxMDk3OTk5OTk5MzUsIC0yMi44NzcyOTYzOTk5OTk5NzcsIDAuMF0sIFstNDMuNTQyMDUzNDk5OTk5OTUsIC0yMi44NzcyODk3OTk5OTk5NywgMC4wXSwgWy00My41NDIwMzQ3OTk5OTk5NSwgLTIyLjg3NzQyNjc5OTk5OTk2NywgMC4wXSwgWy00My41NDIwOTEwOTk5OTk5MzYsIC0yMi44Nzc0MzMzLCAwLjBdLCBbLTQzLjU0MjEwOTc5OTk5OTkzNSwgLTIyLjg3NzI5NjM5OTk5OTk3NywgMC4wXV1dLCAidHlwZSI6ICJQb2x5Z29uIn0sICJpZCI6ICIzNiIsICJwcm9wZXJ0aWVzIjoge30sICJ0eXBlIjogIkZlYXR1cmUifSwgeyJiYm94IjogWy00My41NDIwMjI2OTk5OTk5NiwgLTIyLjg3NjM4OTA5OTk5OTk4MywgLTQzLjU0MTk0NTY5OTk5OTk4NSwgLTIyLjg3NjI4Ml0sICJnZW9tZXRyeSI6IHsiY29vcmRpbmF0ZXMiOiBbW1stNDMuNTQyMDIyNjk5OTk5OTYsIC0yMi44NzYyOSwgMC4wXSwgWy00My41NDE5NjA4OTk5OTk5MzUsIC0yMi44NzYyODIsIDAuMF0sIFstNDMuNTQxOTQ1Njk5OTk5OTg1LCAtMjIuODc2MzgxMDk5OTk5OTQ2LCAwLjBdLCBbLTQzLjU0MjAwNzU5OTk5OTk4LCAtMjIuODc2Mzg5MDk5OTk5OTgzLCAwLjBdLCBbLTQzLjU0MjAyMjY5OTk5OTk2LCAtMjIuODc2MjksIDAuMF1dXSwgInR5cGUiOiAiUG9seWdvbiJ9LCAiaWQiOiAiMzciLCAicHJvcGVydGllcyI6IHt9LCAidHlwZSI6ICJGZWF0dXJlIn0sIHsiYmJveCI6IFstNDMuNTQzMTgxNzk5OTk5OTYsIC0yMi44Nzc5MDk1LCAtNDMuNTQzMDcwMzk5OTk5OTc2LCAtMjIuODc3ODIxNTk5OTk5OTQ3XSwgImdlb21ldHJ5IjogeyJjb29yZGluYXRlcyI6IFtbWy00My41NDMxODE3OTk5OTk5NiwgLTIyLjg3NzgzNjg5OTk5OTk3NywgMC4wXSwgWy00My41NDMwODM2OTk5OTk5NTQsIC0yMi44Nzc4MjE1OTk5OTk5NDcsIDAuMF0sIFstNDMuNTQzMDcwMzk5OTk5OTc2LCAtMjIuODc3ODk0MywgMC4wXSwgWy00My41NDMxNTMzOTk5OTk5NCwgLTIyLjg3NzkwNzE5OTk5OTk4LCAwLjBdLCBbLTQzLjU0MzE2ODQ5OTk5OTk4LCAtMjIuODc3OTA5NSwgMC4wXSwgWy00My41NDMxODE3OTk5OTk5NiwgLTIyLjg3NzgzNjg5OTk5OTk3NywgMC4wXV1dLCAidHlwZSI6ICJQb2x5Z29uIn0sICJpZCI6ICIzOCIsICJwcm9wZXJ0aWVzIjoge30sICJ0eXBlIjogIkZlYXR1cmUifSwgeyJiYm94IjogWy00My41NDMxMTYwOTk5OTk5NiwgLTIyLjg3Nzc5NTI5OTk5OTk0NiwgLTQzLjU0MzAyODE5OTk5OTk4LCAtMjIuODc3Njg4ODk5OTk5OTUzXSwgImdlb21ldHJ5IjogeyJjb29yZGluYXRlcyI6IFtbWy00My41NDMxMTYwOTk5OTk5NiwgLTIyLjg3NzY5OTc5OTk5OTk2LCAwLjBdLCBbLTQzLjU0MzA0NTc5OTk5OTk2LCAtMjIuODc3Njg4ODk5OTk5OTUzLCAwLjBdLCBbLTQzLjU0MzAyODE5OTk5OTk4LCAtMjIuODc3Nzg0Mjk5OTk5OTczLCAwLjBdLCBbLTQzLjU0MzA3NDg5OTk5OTk2NSwgLTIyLjg3Nzc5MTU5OTk5OTk2NiwgMC4wXSwgWy00My41NDMwOTg0OTk5OTk5ODUsIC0yMi44Nzc3OTUyOTk5OTk5NDYsIDAuMF0sIFstNDMuNTQzMTE2MDk5OTk5OTYsIC0yMi44Nzc2OTk3OTk5OTk5NiwgMC4wXV1dLCAidHlwZSI6ICJQb2x5Z29uIn0sICJpZCI6ICIzOSIsICJwcm9wZXJ0aWVzIjoge30sICJ0eXBlIjogIkZlYXR1cmUifSwgeyJiYm94IjogWy00My41NDE3MjQ4LCAtMjIuODc3MjEyMywgLTQzLjU0MTY1MzM0MTM1MzY0LCAtMjIuODc3MTAxMjk5OTk5OTM2XSwgImdlb21ldHJ5IjogeyJjb29yZGluYXRlcyI6IFtbWy00My41NDE3MjQ4LCAtMjIuODc3MTExMjk5OTk5OTY3LCAwLjBdLCBbLTQzLjU0MTY2NDA5OTk5OTkzNCwgLTIyLjg3NzEwMTI5OTk5OTkzNiwgMC4wXSwgWy00My41NDE2NTMzNDEzNTM2NCwgLTIyLjg3NzE2Njc1OTIzMzUyNSwgMC4wXSwgWy00My41NDE2NTMzNDEzNTM2NCwgLTIyLjg3NzIwMzI2MjMzMTcxLCAwLjBdLCBbLTQzLjU0MTcwODIsIC0yMi44NzcyMTIzLCAwLjBdLCBbLTQzLjU0MTcyNDgsIC0yMi44NzcxMTEyOTk5OTk5NjcsIDAuMF1dXSwgInR5cGUiOiAiUG9seWdvbiJ9LCAiaWQiOiAiNDAiLCAicHJvcGVydGllcyI6IHt9LCAidHlwZSI6ICJGZWF0dXJlIn0sIHsiYmJveCI6IFstNDMuNTQxOTMwNTk5OTk5OTQ0LCAtMjIuODc2OTcxNDk5OTk5OTY4LCAtNDMuNTQxODU5NSwgLTIyLjg3Njg1NDE5OTk5OTk3XSwgImdlb21ldHJ5IjogeyJjb29yZGluYXRlcyI6IFtbWy00My41NDE5MzA1OTk5OTk5NDQsIC0yMi44NzY4NjA5LCAwLjBdLCBbLTQzLjU0MTg3NTI5OTk5OTk2LCAtMjIuODc2ODU0MTk5OTk5OTcsIDAuMF0sIFstNDMuNTQxODU5NSwgLTIyLjg3Njk2NDc5OTk5OTk0LCAwLjBdLCBbLTQzLjU0MTkxNDc5OTk5OTk3LCAtMjIuODc2OTcxNDk5OTk5OTY4LCAwLjBdLCBbLTQzLjU0MTkzMDU5OTk5OTk0NCwgLTIyLjg3Njg2MDksIDAuMF1dXSwgInR5cGUiOiAiUG9seWdvbiJ9LCAiaWQiOiAiNDEiLCAicHJvcGVydGllcyI6IHt9LCAidHlwZSI6ICJGZWF0dXJlIn0sIHsiYmJveCI6IFstNDMuNTQxNzgxMjk5OTk5OTcsIC0yMi44NzczODIsIC00My41NDE3MDM4OTk5OTk5NiwgLTIyLjg3NzI0NDc5OTk5OTk3XSwgImdlb21ldHJ5IjogeyJjb29yZGluYXRlcyI6IFtbWy00My41NDE3ODEyOTk5OTk5NywgLTIyLjg3NzI1MjUsIDAuMF0sIFstNDMuNTQxNzI0NTk5OTk5OTUsIC0yMi44NzcyNDQ3OTk5OTk5NywgMC4wXSwgWy00My41NDE3MDM4OTk5OTk5NiwgLTIyLjg3NzM3NDI5OTk5OTkzLCAwLjBdLCBbLTQzLjU0MTc2MDY5OTk5OTk0LCAtMjIuODc3MzgyLCAwLjBdLCBbLTQzLjU0MTc4MTI5OTk5OTk3LCAtMjIuODc3MjUyNSwgMC4wXV1dLCAidHlwZSI6ICJQb2x5Z29uIn0sICJpZCI6ICI0MiIsICJwcm9wZXJ0aWVzIjoge30sICJ0eXBlIjogIkZlYXR1cmUifSwgeyJiYm94IjogWy00My41NDE4NzUxLCAtMjIuODc2NzkyMTk5OTk5OTU0LCAtNDMuNTQxNzk1NDk5OTk5OTgsIC0yMi44NzY2ODAyOTk5OTk5NzVdLCAiZ2VvbWV0cnkiOiB7ImNvb3JkaW5hdGVzIjogW1tbLTQzLjU0MTg3NTEsIC0yMi44NzY2ODk0OTk5OTk5NCwgMC4wXSwgWy00My41NDE4MTM2OTk5OTk5OCwgLTIyLjg3NjY4MDI5OTk5OTk3NSwgMC4wXSwgWy00My41NDE3OTU0OTk5OTk5OCwgLTIyLjg3Njc4Mjg5OTk5OTk2NywgMC4wXSwgWy00My41NDE4NTY4OTk5OTk5NywgLTIyLjg3Njc5MjE5OTk5OTk1NCwgMC4wXSwgWy00My41NDE4NzUxLCAtMjIuODc2Njg5NDk5OTk5OTQsIDAuMF1dXSwgInR5cGUiOiAiUG9seWdvbiJ9LCAiaWQiOiAiNDMiLCAicHJvcGVydGllcyI6IHt9LCAidHlwZSI6ICJGZWF0dXJlIn0sIHsiYmJveCI6IFstNDMuNTQzMjAxLCAtMjIuODc3ODA4MDk5OTk5OTgsIC00My41NDMxMjU0OTk5OTk5NzQsIC0yMi44Nzc3MDUzOTk5OTk5NjhdLCAiZ2VvbWV0cnkiOiB7ImNvb3JkaW5hdGVzIjogW1tbLTQzLjU0MzIwMSwgLTIyLjg3NzcwODQ5OTk5OTk4MywgMC4wXSwgWy00My41NDMxMzA2OTk5OTk5NSwgLTIyLjg3NzcwNTM5OTk5OTk2OCwgMC4wXSwgWy00My41NDMxMjU0OTk5OTk5NzQsIC0yMi44Nzc4MDUsIDAuMF0sIFstNDMuNTQzMTk1Njk5OTk5OTU2LCAtMjIuODc3ODA4MDk5OTk5OTgsIDAuMF0sIFstNDMuNTQzMjAxLCAtMjIuODc3NzA4NDk5OTk5OTgzLCAwLjBdXV0sICJ0eXBlIjogIlBvbHlnb24ifSwgImlkIjogIjQ0IiwgInByb3BlcnRpZXMiOiB7fSwgInR5cGUiOiAiRmVhdHVyZSJ9LCB7ImJib3giOiBbLTQzLjU0MjAxNDEsIC0yMi44NzY5NzI1OTk5OTk5MywgLTQzLjU0MTk0NjA5OTk5OTk2LCAtMjIuODc2ODY0MTk5OTk5OTQzXSwgImdlb21ldHJ5IjogeyJjb29yZGluYXRlcyI6IFtbWy00My41NDIwMTQxLCAtMjIuODc2ODcwMywgMC4wXSwgWy00My41NDE5NTk0OTk5OTk5NiwgLTIyLjg3Njg2NDE5OTk5OTk0MywgMC4wXSwgWy00My41NDE5NDYwOTk5OTk5NiwgLTIyLjg3Njk2NjUsIDAuMF0sIFstNDMuNTQyMDAwNywgLTIyLjg3Njk3MjU5OTk5OTkzLCAwLjBdLCBbLTQzLjU0MjAxNDEsIC0yMi44NzY4NzAzLCAwLjBdXV0sICJ0eXBlIjogIlBvbHlnb24ifSwgImlkIjogIjQ1IiwgInByb3BlcnRpZXMiOiB7fSwgInR5cGUiOiAiRmVhdHVyZSJ9LCB7ImJib3giOiBbLTQzLjU0MTk2NzA5OTk5OTk2NSwgLTIyLjg3NjgwNTM5OTk5OTk2NywgLTQzLjU0MTg4ODIsIC0yMi44NzY2ODUwOTk5OTk5NzVdLCAiZ2VvbWV0cnkiOiB7ImNvb3JkaW5hdGVzIjogW1tbLTQzLjU0MTk2NzA5OTk5OTk2NSwgLTIyLjg3NjY5MzA5OTk5OTk1NCwgMC4wXSwgWy00My41NDE5MDUzOTk5OTk5NiwgLTIyLjg3NjY4NTA5OTk5OTk3NSwgMC4wXSwgWy00My41NDE4ODgyLCAtMjIuODc2Nzk3NCwgMC4wXSwgWy00My41NDE5NDk4OTk5OTk5NiwgLTIyLjg3NjgwNTM5OTk5OTk2NywgMC4wXSwgWy00My41NDE5NjcwOTk5OTk5NjUsIC0yMi44NzY2OTMwOTk5OTk5NTQsIDAuMF1dXSwgInR5cGUiOiAiUG9seWdvbiJ9LCAiaWQiOiAiNDYiLCAicHJvcGVydGllcyI6IHt9LCAidHlwZSI6ICJGZWF0dXJlIn0sIHsiYmJveCI6IFstNDMuNTQyNjI1Njk5OTk5OTc0LCAtMjIuODc3Nzg0Nzk5OTk5OTcyLCAtNDMuNTQyNDQ3MiwgLTIyLjg3NzYzODM5OTk5OTk2N10sICJnZW9tZXRyeSI6IHsiY29vcmRpbmF0ZXMiOiBbW1stNDMuNTQyNjI1Njk5OTk5OTc0LCAtMjIuODc3NjU0Njk5OTk5OTM3LCAwLjBdLCBbLTQzLjU0MjQ2MDQ5OTk5OTk1LCAtMjIuODc3NjM4Mzk5OTk5OTY3LCAwLjBdLCBbLTQzLjU0MjQ0NzIsIC0yMi44Nzc3NzM1OTk5OTk5NTUsIDAuMF0sIFstNDMuNTQyNTU5Nzk5OTk5OTM1LCAtMjIuODc3Nzg0Nzk5OTk5OTcyLCAwLjBdLCBbLTQzLjU0MjU2ODA5OTk5OTk4LCAtMjIuODc3NzAwNjk5OTk5OTM0LCAwLjBdLCBbLTQzLjU0MjYyMDY5OTk5OTkzLCAtMjIuODc3NzA1ODk5OTk5OTY3LCAwLjBdLCBbLTQzLjU0MjYyNTY5OTk5OTk3NCwgLTIyLjg3NzY1NDY5OTk5OTkzNywgMC4wXV1dLCAidHlwZSI6ICJQb2x5Z29uIn0sICJpZCI6ICI0NyIsICJwcm9wZXJ0aWVzIjoge30sICJ0eXBlIjogIkZlYXR1cmUifSwgeyJiYm94IjogWy00My41NDM1OTg2NTY3OTMzOCwgLTIyLjg3ODAxNTEzMDU5MDc4MiwgLTQzLjU0MzQ1MzI5OTk5OTk1LCAtMjIuODc3OTRdLCAiZ2VvbWV0cnkiOiB7ImNvb3JkaW5hdGVzIjogW1tbLTQzLjU0MzU5ODY1Njc5MzM4LCAtMjIuODc4MDE1MTMwNTkwNzgyLCAwLjBdLCBbLTQzLjU0MzUxNywgLTIyLjg3Nzk0ODE5OTk5OTkzNSwgMC4wXSwgWy00My41NDM1MDQyOTk5OTk5NCwgLTIyLjg3Nzk2MTI5OTk5OTk4LCAwLjBdLCBbLTQzLjU0MzQ3ODI5OTk5OTk1LCAtMjIuODc3OTQsIDAuMF0sIFstNDMuNTQzNDUzMjk5OTk5OTUsIC0yMi44Nzc5NjU4LCAwLjBdLCBbLTQzLjU0MzQ4NDE5OTk5OTk2NiwgLTIyLjg3Nzk5MTIsIDAuMF0sIFstNDMuNTQzNDc4NywgLTIyLjg3Nzk5Njg5OTk5OTk3LCAwLjBdLCBbLTQzLjU0MzUwMDk1ODUyMzQyLCAtMjIuODc4MDE1MTMwNTkwNzgyLCAwLjBdLCBbLTQzLjU0MzU5ODY1Njc5MzM4LCAtMjIuODc4MDE1MTMwNTkwNzgyLCAwLjBdXV0sICJ0eXBlIjogIlBvbHlnb24ifSwgImlkIjogIjQ4IiwgInByb3BlcnRpZXMiOiB7fSwgInR5cGUiOiAiRmVhdHVyZSJ9LCB7ImJib3giOiBbLTQzLjU0MzYyMTc5NjM4MTgxNCwgLTIyLjg3NzQzOTc1NjQ1NDc3NywgLTQzLjU0MzYxNDE5OTk5OTk4LCAtMjIuODc3MzgxNDE3NjIyNzZdLCAiZ2VvbWV0cnkiOiB7ImNvb3JkaW5hdGVzIjogW1tbLTQzLjU0MzYyMTc5NjM4MTgxNCwgLTIyLjg3NzM4MTQxNzYyMjc2LCAwLjBdLCBbLTQzLjU0MzYxNDE5OTk5OTk4LCAtMjIuODc3NDM4ODk5OTk5OTYsIDAuMF0sIFstNDMuNTQzNjIxNzk2MzgxODE0LCAtMjIuODc3NDM5NzU2NDU0Nzc3LCAwLjBdLCBbLTQzLjU0MzYyMTc5NjM4MTgxNCwgLTIyLjg3NzM4MTQxNzYyMjc2LCAwLjBdXV0sICJ0eXBlIjogIlBvbHlnb24ifSwgImlkIjogIjQ5IiwgInByb3BlcnRpZXMiOiB7fSwgInR5cGUiOiAiRmVhdHVyZSJ9LCB7ImJib3giOiBbLTQzLjU0MzE1MzM5OTk5OTk0LCAtMjIuODc3OTk0NDk5OTk5OTQzLCAtNDMuNTQzMDQ0NDk5OTk5OTUsIC0yMi44Nzc4OTc3OTk5OTk5N10sICJnZW9tZXRyeSI6IHsiY29vcmRpbmF0ZXMiOiBbW1stNDMuNTQzMDU5MTk5OTk5OTYsIC0yMi44Nzc4OTc3OTk5OTk5NywgMC4wXSwgWy00My41NDMwNDQ0OTk5OTk5NSwgLTIyLjg3Nzk4MjE5OTk5OTk2MywgMC4wXSwgWy00My41NDMxNDc2OTk5OTk5NiwgLTIyLjg3Nzk5NDQ5OTk5OTk0MywgMC4wXSwgWy00My41NDMxNTMzOTk5OTk5NCwgLTIyLjg3NzkwNzE5OTk5OTk4LCAwLjBdLCBbLTQzLjU0MzA1OTE5OTk5OTk2LCAtMjIuODc3ODk3Nzk5OTk5OTcsIDAuMF1dXSwgInR5cGUiOiAiUG9seWdvbiJ9LCAiaWQiOiAiNTAiLCAicHJvcGVydGllcyI6IHt9LCAidHlwZSI6ICJGZWF0dXJlIn1dLCAidHlwZSI6ICJGZWF0dXJlQ29sbGVjdGlvbiJ9KTsKICAgICAgICAKPC9zY3JpcHQ+ onload=\"this.contentDocument.open();this.contentDocument.write(atob(this.getAttribute('data-html')));this.contentDocument.close();\" allowfullscreen webkitallowfullscreen mozallowfullscreen></iframe></div></div>"
     },
     "metadata": {},
     "execution_count": 17
    }
   ],
   "source": [
    "map"
   ]
  },
  {
   "cell_type": "code",
   "execution_count": null,
   "metadata": {},
   "outputs": [],
   "source": []
  }
 ]
}